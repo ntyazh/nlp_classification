{
  "metadata": {
    "colab": {
      "provenance": [],
      "collapsed_sections": [
        "Wsat_L2AkOmc"
      ],
      "gpuType": "T4",
      "toc_visible": true
    },
    "kernelspec": {
      "name": "python3",
      "display_name": "Python 3",
      "language": "python"
    },
    "language_info": {
      "name": "python",
      "version": "3.10.12",
      "mimetype": "text/x-python",
      "codemirror_mode": {
        "name": "ipython",
        "version": 3
      },
      "pygments_lexer": "ipython3",
      "nbconvert_exporter": "python",
      "file_extension": ".py"
    },
    "accelerator": "GPU",
    "widgets": {
      "application/vnd.jupyter.widget-state+json": {
        "1826d1d5ec8d4541b238bcbe3ce51dd7": {
          "model_module": "@jupyter-widgets/controls",
          "model_name": "HBoxModel",
          "model_module_version": "1.5.0",
          "state": {
            "_dom_classes": [],
            "_model_module": "@jupyter-widgets/controls",
            "_model_module_version": "1.5.0",
            "_model_name": "HBoxModel",
            "_view_count": null,
            "_view_module": "@jupyter-widgets/controls",
            "_view_module_version": "1.5.0",
            "_view_name": "HBoxView",
            "box_style": "",
            "children": [
              "IPY_MODEL_cd7ce26a4971479abf4adff1e870c445",
              "IPY_MODEL_52c9339553194e90aac59fd9d7102152",
              "IPY_MODEL_8ac0ebd3b12b4a36a3c7fbf856fd4c3b"
            ],
            "layout": "IPY_MODEL_97e65e390ef3486fabff2660e6bfab53"
          }
        },
        "cd7ce26a4971479abf4adff1e870c445": {
          "model_module": "@jupyter-widgets/controls",
          "model_name": "HTMLModel",
          "model_module_version": "1.5.0",
          "state": {
            "_dom_classes": [],
            "_model_module": "@jupyter-widgets/controls",
            "_model_module_version": "1.5.0",
            "_model_name": "HTMLModel",
            "_view_count": null,
            "_view_module": "@jupyter-widgets/controls",
            "_view_module_version": "1.5.0",
            "_view_name": "HTMLView",
            "description": "",
            "description_tooltip": null,
            "layout": "IPY_MODEL_471bb1edb0c54cca9748631c84870621",
            "placeholder": "​",
            "style": "IPY_MODEL_a44a5a1e469c46eb9d9e8b897a35a249",
            "value": "config.json: 100%"
          }
        },
        "52c9339553194e90aac59fd9d7102152": {
          "model_module": "@jupyter-widgets/controls",
          "model_name": "FloatProgressModel",
          "model_module_version": "1.5.0",
          "state": {
            "_dom_classes": [],
            "_model_module": "@jupyter-widgets/controls",
            "_model_module_version": "1.5.0",
            "_model_name": "FloatProgressModel",
            "_view_count": null,
            "_view_module": "@jupyter-widgets/controls",
            "_view_module_version": "1.5.0",
            "_view_name": "ProgressView",
            "bar_style": "success",
            "description": "",
            "description_tooltip": null,
            "layout": "IPY_MODEL_e8cf9ed76bf14e6a93c93488e965a30d",
            "max": 632,
            "min": 0,
            "orientation": "horizontal",
            "style": "IPY_MODEL_8b6344302f52416bb2c59b1f146040bb",
            "value": 632
          }
        },
        "8ac0ebd3b12b4a36a3c7fbf856fd4c3b": {
          "model_module": "@jupyter-widgets/controls",
          "model_name": "HTMLModel",
          "model_module_version": "1.5.0",
          "state": {
            "_dom_classes": [],
            "_model_module": "@jupyter-widgets/controls",
            "_model_module_version": "1.5.0",
            "_model_name": "HTMLModel",
            "_view_count": null,
            "_view_module": "@jupyter-widgets/controls",
            "_view_module_version": "1.5.0",
            "_view_name": "HTMLView",
            "description": "",
            "description_tooltip": null,
            "layout": "IPY_MODEL_4cdce78995c543c3bd1c7eb8c9bbeab5",
            "placeholder": "​",
            "style": "IPY_MODEL_2a50a5fc17e84f56a93c112c4220e1dc",
            "value": " 632/632 [00:00&lt;00:00, 41.9kB/s]"
          }
        },
        "97e65e390ef3486fabff2660e6bfab53": {
          "model_module": "@jupyter-widgets/base",
          "model_name": "LayoutModel",
          "model_module_version": "1.2.0",
          "state": {
            "_model_module": "@jupyter-widgets/base",
            "_model_module_version": "1.2.0",
            "_model_name": "LayoutModel",
            "_view_count": null,
            "_view_module": "@jupyter-widgets/base",
            "_view_module_version": "1.2.0",
            "_view_name": "LayoutView",
            "align_content": null,
            "align_items": null,
            "align_self": null,
            "border": null,
            "bottom": null,
            "display": null,
            "flex": null,
            "flex_flow": null,
            "grid_area": null,
            "grid_auto_columns": null,
            "grid_auto_flow": null,
            "grid_auto_rows": null,
            "grid_column": null,
            "grid_gap": null,
            "grid_row": null,
            "grid_template_areas": null,
            "grid_template_columns": null,
            "grid_template_rows": null,
            "height": null,
            "justify_content": null,
            "justify_items": null,
            "left": null,
            "margin": null,
            "max_height": null,
            "max_width": null,
            "min_height": null,
            "min_width": null,
            "object_fit": null,
            "object_position": null,
            "order": null,
            "overflow": null,
            "overflow_x": null,
            "overflow_y": null,
            "padding": null,
            "right": null,
            "top": null,
            "visibility": null,
            "width": null
          }
        },
        "471bb1edb0c54cca9748631c84870621": {
          "model_module": "@jupyter-widgets/base",
          "model_name": "LayoutModel",
          "model_module_version": "1.2.0",
          "state": {
            "_model_module": "@jupyter-widgets/base",
            "_model_module_version": "1.2.0",
            "_model_name": "LayoutModel",
            "_view_count": null,
            "_view_module": "@jupyter-widgets/base",
            "_view_module_version": "1.2.0",
            "_view_name": "LayoutView",
            "align_content": null,
            "align_items": null,
            "align_self": null,
            "border": null,
            "bottom": null,
            "display": null,
            "flex": null,
            "flex_flow": null,
            "grid_area": null,
            "grid_auto_columns": null,
            "grid_auto_flow": null,
            "grid_auto_rows": null,
            "grid_column": null,
            "grid_gap": null,
            "grid_row": null,
            "grid_template_areas": null,
            "grid_template_columns": null,
            "grid_template_rows": null,
            "height": null,
            "justify_content": null,
            "justify_items": null,
            "left": null,
            "margin": null,
            "max_height": null,
            "max_width": null,
            "min_height": null,
            "min_width": null,
            "object_fit": null,
            "object_position": null,
            "order": null,
            "overflow": null,
            "overflow_x": null,
            "overflow_y": null,
            "padding": null,
            "right": null,
            "top": null,
            "visibility": null,
            "width": null
          }
        },
        "a44a5a1e469c46eb9d9e8b897a35a249": {
          "model_module": "@jupyter-widgets/controls",
          "model_name": "DescriptionStyleModel",
          "model_module_version": "1.5.0",
          "state": {
            "_model_module": "@jupyter-widgets/controls",
            "_model_module_version": "1.5.0",
            "_model_name": "DescriptionStyleModel",
            "_view_count": null,
            "_view_module": "@jupyter-widgets/base",
            "_view_module_version": "1.2.0",
            "_view_name": "StyleView",
            "description_width": ""
          }
        },
        "e8cf9ed76bf14e6a93c93488e965a30d": {
          "model_module": "@jupyter-widgets/base",
          "model_name": "LayoutModel",
          "model_module_version": "1.2.0",
          "state": {
            "_model_module": "@jupyter-widgets/base",
            "_model_module_version": "1.2.0",
            "_model_name": "LayoutModel",
            "_view_count": null,
            "_view_module": "@jupyter-widgets/base",
            "_view_module_version": "1.2.0",
            "_view_name": "LayoutView",
            "align_content": null,
            "align_items": null,
            "align_self": null,
            "border": null,
            "bottom": null,
            "display": null,
            "flex": null,
            "flex_flow": null,
            "grid_area": null,
            "grid_auto_columns": null,
            "grid_auto_flow": null,
            "grid_auto_rows": null,
            "grid_column": null,
            "grid_gap": null,
            "grid_row": null,
            "grid_template_areas": null,
            "grid_template_columns": null,
            "grid_template_rows": null,
            "height": null,
            "justify_content": null,
            "justify_items": null,
            "left": null,
            "margin": null,
            "max_height": null,
            "max_width": null,
            "min_height": null,
            "min_width": null,
            "object_fit": null,
            "object_position": null,
            "order": null,
            "overflow": null,
            "overflow_x": null,
            "overflow_y": null,
            "padding": null,
            "right": null,
            "top": null,
            "visibility": null,
            "width": null
          }
        },
        "8b6344302f52416bb2c59b1f146040bb": {
          "model_module": "@jupyter-widgets/controls",
          "model_name": "ProgressStyleModel",
          "model_module_version": "1.5.0",
          "state": {
            "_model_module": "@jupyter-widgets/controls",
            "_model_module_version": "1.5.0",
            "_model_name": "ProgressStyleModel",
            "_view_count": null,
            "_view_module": "@jupyter-widgets/base",
            "_view_module_version": "1.2.0",
            "_view_name": "StyleView",
            "bar_color": null,
            "description_width": ""
          }
        },
        "4cdce78995c543c3bd1c7eb8c9bbeab5": {
          "model_module": "@jupyter-widgets/base",
          "model_name": "LayoutModel",
          "model_module_version": "1.2.0",
          "state": {
            "_model_module": "@jupyter-widgets/base",
            "_model_module_version": "1.2.0",
            "_model_name": "LayoutModel",
            "_view_count": null,
            "_view_module": "@jupyter-widgets/base",
            "_view_module_version": "1.2.0",
            "_view_name": "LayoutView",
            "align_content": null,
            "align_items": null,
            "align_self": null,
            "border": null,
            "bottom": null,
            "display": null,
            "flex": null,
            "flex_flow": null,
            "grid_area": null,
            "grid_auto_columns": null,
            "grid_auto_flow": null,
            "grid_auto_rows": null,
            "grid_column": null,
            "grid_gap": null,
            "grid_row": null,
            "grid_template_areas": null,
            "grid_template_columns": null,
            "grid_template_rows": null,
            "height": null,
            "justify_content": null,
            "justify_items": null,
            "left": null,
            "margin": null,
            "max_height": null,
            "max_width": null,
            "min_height": null,
            "min_width": null,
            "object_fit": null,
            "object_position": null,
            "order": null,
            "overflow": null,
            "overflow_x": null,
            "overflow_y": null,
            "padding": null,
            "right": null,
            "top": null,
            "visibility": null,
            "width": null
          }
        },
        "2a50a5fc17e84f56a93c112c4220e1dc": {
          "model_module": "@jupyter-widgets/controls",
          "model_name": "DescriptionStyleModel",
          "model_module_version": "1.5.0",
          "state": {
            "_model_module": "@jupyter-widgets/controls",
            "_model_module_version": "1.5.0",
            "_model_name": "DescriptionStyleModel",
            "_view_count": null,
            "_view_module": "@jupyter-widgets/base",
            "_view_module_version": "1.2.0",
            "_view_name": "StyleView",
            "description_width": ""
          }
        },
        "174fd0c1859c49f585bfe710f297aacf": {
          "model_module": "@jupyter-widgets/controls",
          "model_name": "HBoxModel",
          "model_module_version": "1.5.0",
          "state": {
            "_dom_classes": [],
            "_model_module": "@jupyter-widgets/controls",
            "_model_module_version": "1.5.0",
            "_model_name": "HBoxModel",
            "_view_count": null,
            "_view_module": "@jupyter-widgets/controls",
            "_view_module_version": "1.5.0",
            "_view_name": "HBoxView",
            "box_style": "",
            "children": [
              "IPY_MODEL_afb460fc0a5843c593e912f0fa98718d",
              "IPY_MODEL_2b821ef95fbf4415871a1f08b91865d7",
              "IPY_MODEL_491628a6e89f4adc85c8581ad78b9439"
            ],
            "layout": "IPY_MODEL_aa64d365a589472f8f6163f08ae65c1a"
          }
        },
        "afb460fc0a5843c593e912f0fa98718d": {
          "model_module": "@jupyter-widgets/controls",
          "model_name": "HTMLModel",
          "model_module_version": "1.5.0",
          "state": {
            "_dom_classes": [],
            "_model_module": "@jupyter-widgets/controls",
            "_model_module_version": "1.5.0",
            "_model_name": "HTMLModel",
            "_view_count": null,
            "_view_module": "@jupyter-widgets/controls",
            "_view_module_version": "1.5.0",
            "_view_name": "HTMLView",
            "description": "",
            "description_tooltip": null,
            "layout": "IPY_MODEL_a93ef37a42a947f08b93447d143c3898",
            "placeholder": "​",
            "style": "IPY_MODEL_9a258b206088474188d894e22391d46c",
            "value": "model.safetensors: 100%"
          }
        },
        "2b821ef95fbf4415871a1f08b91865d7": {
          "model_module": "@jupyter-widgets/controls",
          "model_name": "FloatProgressModel",
          "model_module_version": "1.5.0",
          "state": {
            "_dom_classes": [],
            "_model_module": "@jupyter-widgets/controls",
            "_model_module_version": "1.5.0",
            "_model_name": "FloatProgressModel",
            "_view_count": null,
            "_view_module": "@jupyter-widgets/controls",
            "_view_module_version": "1.5.0",
            "_view_name": "ProgressView",
            "bar_style": "success",
            "description": "",
            "description_tooltip": null,
            "layout": "IPY_MODEL_d72a9d6ed5db4610b5589f2e75c67dc2",
            "max": 47661730,
            "min": 0,
            "orientation": "horizontal",
            "style": "IPY_MODEL_1850012ac95440e397c5f8eadb7ad68b",
            "value": 47661730
          }
        },
        "491628a6e89f4adc85c8581ad78b9439": {
          "model_module": "@jupyter-widgets/controls",
          "model_name": "HTMLModel",
          "model_module_version": "1.5.0",
          "state": {
            "_dom_classes": [],
            "_model_module": "@jupyter-widgets/controls",
            "_model_module_version": "1.5.0",
            "_model_name": "HTMLModel",
            "_view_count": null,
            "_view_module": "@jupyter-widgets/controls",
            "_view_module_version": "1.5.0",
            "_view_name": "HTMLView",
            "description": "",
            "description_tooltip": null,
            "layout": "IPY_MODEL_4404612e0a904922a9fea85827b0cf91",
            "placeholder": "​",
            "style": "IPY_MODEL_849b394b8d174737b705229a5d259229",
            "value": " 47.7M/47.7M [00:00&lt;00:00, 73.8MB/s]"
          }
        },
        "aa64d365a589472f8f6163f08ae65c1a": {
          "model_module": "@jupyter-widgets/base",
          "model_name": "LayoutModel",
          "model_module_version": "1.2.0",
          "state": {
            "_model_module": "@jupyter-widgets/base",
            "_model_module_version": "1.2.0",
            "_model_name": "LayoutModel",
            "_view_count": null,
            "_view_module": "@jupyter-widgets/base",
            "_view_module_version": "1.2.0",
            "_view_name": "LayoutView",
            "align_content": null,
            "align_items": null,
            "align_self": null,
            "border": null,
            "bottom": null,
            "display": null,
            "flex": null,
            "flex_flow": null,
            "grid_area": null,
            "grid_auto_columns": null,
            "grid_auto_flow": null,
            "grid_auto_rows": null,
            "grid_column": null,
            "grid_gap": null,
            "grid_row": null,
            "grid_template_areas": null,
            "grid_template_columns": null,
            "grid_template_rows": null,
            "height": null,
            "justify_content": null,
            "justify_items": null,
            "left": null,
            "margin": null,
            "max_height": null,
            "max_width": null,
            "min_height": null,
            "min_width": null,
            "object_fit": null,
            "object_position": null,
            "order": null,
            "overflow": null,
            "overflow_x": null,
            "overflow_y": null,
            "padding": null,
            "right": null,
            "top": null,
            "visibility": null,
            "width": null
          }
        },
        "a93ef37a42a947f08b93447d143c3898": {
          "model_module": "@jupyter-widgets/base",
          "model_name": "LayoutModel",
          "model_module_version": "1.2.0",
          "state": {
            "_model_module": "@jupyter-widgets/base",
            "_model_module_version": "1.2.0",
            "_model_name": "LayoutModel",
            "_view_count": null,
            "_view_module": "@jupyter-widgets/base",
            "_view_module_version": "1.2.0",
            "_view_name": "LayoutView",
            "align_content": null,
            "align_items": null,
            "align_self": null,
            "border": null,
            "bottom": null,
            "display": null,
            "flex": null,
            "flex_flow": null,
            "grid_area": null,
            "grid_auto_columns": null,
            "grid_auto_flow": null,
            "grid_auto_rows": null,
            "grid_column": null,
            "grid_gap": null,
            "grid_row": null,
            "grid_template_areas": null,
            "grid_template_columns": null,
            "grid_template_rows": null,
            "height": null,
            "justify_content": null,
            "justify_items": null,
            "left": null,
            "margin": null,
            "max_height": null,
            "max_width": null,
            "min_height": null,
            "min_width": null,
            "object_fit": null,
            "object_position": null,
            "order": null,
            "overflow": null,
            "overflow_x": null,
            "overflow_y": null,
            "padding": null,
            "right": null,
            "top": null,
            "visibility": null,
            "width": null
          }
        },
        "9a258b206088474188d894e22391d46c": {
          "model_module": "@jupyter-widgets/controls",
          "model_name": "DescriptionStyleModel",
          "model_module_version": "1.5.0",
          "state": {
            "_model_module": "@jupyter-widgets/controls",
            "_model_module_version": "1.5.0",
            "_model_name": "DescriptionStyleModel",
            "_view_count": null,
            "_view_module": "@jupyter-widgets/base",
            "_view_module_version": "1.2.0",
            "_view_name": "StyleView",
            "description_width": ""
          }
        },
        "d72a9d6ed5db4610b5589f2e75c67dc2": {
          "model_module": "@jupyter-widgets/base",
          "model_name": "LayoutModel",
          "model_module_version": "1.2.0",
          "state": {
            "_model_module": "@jupyter-widgets/base",
            "_model_module_version": "1.2.0",
            "_model_name": "LayoutModel",
            "_view_count": null,
            "_view_module": "@jupyter-widgets/base",
            "_view_module_version": "1.2.0",
            "_view_name": "LayoutView",
            "align_content": null,
            "align_items": null,
            "align_self": null,
            "border": null,
            "bottom": null,
            "display": null,
            "flex": null,
            "flex_flow": null,
            "grid_area": null,
            "grid_auto_columns": null,
            "grid_auto_flow": null,
            "grid_auto_rows": null,
            "grid_column": null,
            "grid_gap": null,
            "grid_row": null,
            "grid_template_areas": null,
            "grid_template_columns": null,
            "grid_template_rows": null,
            "height": null,
            "justify_content": null,
            "justify_items": null,
            "left": null,
            "margin": null,
            "max_height": null,
            "max_width": null,
            "min_height": null,
            "min_width": null,
            "object_fit": null,
            "object_position": null,
            "order": null,
            "overflow": null,
            "overflow_x": null,
            "overflow_y": null,
            "padding": null,
            "right": null,
            "top": null,
            "visibility": null,
            "width": null
          }
        },
        "1850012ac95440e397c5f8eadb7ad68b": {
          "model_module": "@jupyter-widgets/controls",
          "model_name": "ProgressStyleModel",
          "model_module_version": "1.5.0",
          "state": {
            "_model_module": "@jupyter-widgets/controls",
            "_model_module_version": "1.5.0",
            "_model_name": "ProgressStyleModel",
            "_view_count": null,
            "_view_module": "@jupyter-widgets/base",
            "_view_module_version": "1.2.0",
            "_view_name": "StyleView",
            "bar_color": null,
            "description_width": ""
          }
        },
        "4404612e0a904922a9fea85827b0cf91": {
          "model_module": "@jupyter-widgets/base",
          "model_name": "LayoutModel",
          "model_module_version": "1.2.0",
          "state": {
            "_model_module": "@jupyter-widgets/base",
            "_model_module_version": "1.2.0",
            "_model_name": "LayoutModel",
            "_view_count": null,
            "_view_module": "@jupyter-widgets/base",
            "_view_module_version": "1.2.0",
            "_view_name": "LayoutView",
            "align_content": null,
            "align_items": null,
            "align_self": null,
            "border": null,
            "bottom": null,
            "display": null,
            "flex": null,
            "flex_flow": null,
            "grid_area": null,
            "grid_auto_columns": null,
            "grid_auto_flow": null,
            "grid_auto_rows": null,
            "grid_column": null,
            "grid_gap": null,
            "grid_row": null,
            "grid_template_areas": null,
            "grid_template_columns": null,
            "grid_template_rows": null,
            "height": null,
            "justify_content": null,
            "justify_items": null,
            "left": null,
            "margin": null,
            "max_height": null,
            "max_width": null,
            "min_height": null,
            "min_width": null,
            "object_fit": null,
            "object_position": null,
            "order": null,
            "overflow": null,
            "overflow_x": null,
            "overflow_y": null,
            "padding": null,
            "right": null,
            "top": null,
            "visibility": null,
            "width": null
          }
        },
        "849b394b8d174737b705229a5d259229": {
          "model_module": "@jupyter-widgets/controls",
          "model_name": "DescriptionStyleModel",
          "model_module_version": "1.5.0",
          "state": {
            "_model_module": "@jupyter-widgets/controls",
            "_model_module_version": "1.5.0",
            "_model_name": "DescriptionStyleModel",
            "_view_count": null,
            "_view_module": "@jupyter-widgets/base",
            "_view_module_version": "1.2.0",
            "_view_name": "StyleView",
            "description_width": ""
          }
        },
        "a711f84e20634254a58e6176a49e6663": {
          "model_module": "@jupyter-widgets/controls",
          "model_name": "HBoxModel",
          "model_module_version": "1.5.0",
          "state": {
            "_dom_classes": [],
            "_model_module": "@jupyter-widgets/controls",
            "_model_module_version": "1.5.0",
            "_model_name": "HBoxModel",
            "_view_count": null,
            "_view_module": "@jupyter-widgets/controls",
            "_view_module_version": "1.5.0",
            "_view_name": "HBoxView",
            "box_style": "",
            "children": [
              "IPY_MODEL_4ad3856359374c969632c740f75525e4",
              "IPY_MODEL_60b1c5b6a96646b6a33c19652db9bd87",
              "IPY_MODEL_cfd8f0f66ab0493aa7583586077eb534"
            ],
            "layout": "IPY_MODEL_35e4f6a23c8042c5ae2e09d104b363f5"
          }
        },
        "4ad3856359374c969632c740f75525e4": {
          "model_module": "@jupyter-widgets/controls",
          "model_name": "HTMLModel",
          "model_module_version": "1.5.0",
          "state": {
            "_dom_classes": [],
            "_model_module": "@jupyter-widgets/controls",
            "_model_module_version": "1.5.0",
            "_model_name": "HTMLModel",
            "_view_count": null,
            "_view_module": "@jupyter-widgets/controls",
            "_view_module_version": "1.5.0",
            "_view_name": "HTMLView",
            "description": "",
            "description_tooltip": null,
            "layout": "IPY_MODEL_f50bbd5260504598ad5f484357dea5e2",
            "placeholder": "​",
            "style": "IPY_MODEL_b178d897890d41a5aff07cb58033400b",
            "value": "tokenizer_config.json: 100%"
          }
        },
        "60b1c5b6a96646b6a33c19652db9bd87": {
          "model_module": "@jupyter-widgets/controls",
          "model_name": "FloatProgressModel",
          "model_module_version": "1.5.0",
          "state": {
            "_dom_classes": [],
            "_model_module": "@jupyter-widgets/controls",
            "_model_module_version": "1.5.0",
            "_model_name": "FloatProgressModel",
            "_view_count": null,
            "_view_module": "@jupyter-widgets/controls",
            "_view_module_version": "1.5.0",
            "_view_name": "ProgressView",
            "bar_style": "success",
            "description": "",
            "description_tooltip": null,
            "layout": "IPY_MODEL_efab09b66eec43f5a94e8e692e0cbbac",
            "max": 341,
            "min": 0,
            "orientation": "horizontal",
            "style": "IPY_MODEL_2b94b128e7514d5ebc10efcae8fdccab",
            "value": 341
          }
        },
        "cfd8f0f66ab0493aa7583586077eb534": {
          "model_module": "@jupyter-widgets/controls",
          "model_name": "HTMLModel",
          "model_module_version": "1.5.0",
          "state": {
            "_dom_classes": [],
            "_model_module": "@jupyter-widgets/controls",
            "_model_module_version": "1.5.0",
            "_model_name": "HTMLModel",
            "_view_count": null,
            "_view_module": "@jupyter-widgets/controls",
            "_view_module_version": "1.5.0",
            "_view_name": "HTMLView",
            "description": "",
            "description_tooltip": null,
            "layout": "IPY_MODEL_1f047b6d1d2c4ebd8de32f866d76b7f6",
            "placeholder": "​",
            "style": "IPY_MODEL_5f437ee21ae5409c995413a91edb1205",
            "value": " 341/341 [00:00&lt;00:00, 24.7kB/s]"
          }
        },
        "35e4f6a23c8042c5ae2e09d104b363f5": {
          "model_module": "@jupyter-widgets/base",
          "model_name": "LayoutModel",
          "model_module_version": "1.2.0",
          "state": {
            "_model_module": "@jupyter-widgets/base",
            "_model_module_version": "1.2.0",
            "_model_name": "LayoutModel",
            "_view_count": null,
            "_view_module": "@jupyter-widgets/base",
            "_view_module_version": "1.2.0",
            "_view_name": "LayoutView",
            "align_content": null,
            "align_items": null,
            "align_self": null,
            "border": null,
            "bottom": null,
            "display": null,
            "flex": null,
            "flex_flow": null,
            "grid_area": null,
            "grid_auto_columns": null,
            "grid_auto_flow": null,
            "grid_auto_rows": null,
            "grid_column": null,
            "grid_gap": null,
            "grid_row": null,
            "grid_template_areas": null,
            "grid_template_columns": null,
            "grid_template_rows": null,
            "height": null,
            "justify_content": null,
            "justify_items": null,
            "left": null,
            "margin": null,
            "max_height": null,
            "max_width": null,
            "min_height": null,
            "min_width": null,
            "object_fit": null,
            "object_position": null,
            "order": null,
            "overflow": null,
            "overflow_x": null,
            "overflow_y": null,
            "padding": null,
            "right": null,
            "top": null,
            "visibility": null,
            "width": null
          }
        },
        "f50bbd5260504598ad5f484357dea5e2": {
          "model_module": "@jupyter-widgets/base",
          "model_name": "LayoutModel",
          "model_module_version": "1.2.0",
          "state": {
            "_model_module": "@jupyter-widgets/base",
            "_model_module_version": "1.2.0",
            "_model_name": "LayoutModel",
            "_view_count": null,
            "_view_module": "@jupyter-widgets/base",
            "_view_module_version": "1.2.0",
            "_view_name": "LayoutView",
            "align_content": null,
            "align_items": null,
            "align_self": null,
            "border": null,
            "bottom": null,
            "display": null,
            "flex": null,
            "flex_flow": null,
            "grid_area": null,
            "grid_auto_columns": null,
            "grid_auto_flow": null,
            "grid_auto_rows": null,
            "grid_column": null,
            "grid_gap": null,
            "grid_row": null,
            "grid_template_areas": null,
            "grid_template_columns": null,
            "grid_template_rows": null,
            "height": null,
            "justify_content": null,
            "justify_items": null,
            "left": null,
            "margin": null,
            "max_height": null,
            "max_width": null,
            "min_height": null,
            "min_width": null,
            "object_fit": null,
            "object_position": null,
            "order": null,
            "overflow": null,
            "overflow_x": null,
            "overflow_y": null,
            "padding": null,
            "right": null,
            "top": null,
            "visibility": null,
            "width": null
          }
        },
        "b178d897890d41a5aff07cb58033400b": {
          "model_module": "@jupyter-widgets/controls",
          "model_name": "DescriptionStyleModel",
          "model_module_version": "1.5.0",
          "state": {
            "_model_module": "@jupyter-widgets/controls",
            "_model_module_version": "1.5.0",
            "_model_name": "DescriptionStyleModel",
            "_view_count": null,
            "_view_module": "@jupyter-widgets/base",
            "_view_module_version": "1.2.0",
            "_view_name": "StyleView",
            "description_width": ""
          }
        },
        "efab09b66eec43f5a94e8e692e0cbbac": {
          "model_module": "@jupyter-widgets/base",
          "model_name": "LayoutModel",
          "model_module_version": "1.2.0",
          "state": {
            "_model_module": "@jupyter-widgets/base",
            "_model_module_version": "1.2.0",
            "_model_name": "LayoutModel",
            "_view_count": null,
            "_view_module": "@jupyter-widgets/base",
            "_view_module_version": "1.2.0",
            "_view_name": "LayoutView",
            "align_content": null,
            "align_items": null,
            "align_self": null,
            "border": null,
            "bottom": null,
            "display": null,
            "flex": null,
            "flex_flow": null,
            "grid_area": null,
            "grid_auto_columns": null,
            "grid_auto_flow": null,
            "grid_auto_rows": null,
            "grid_column": null,
            "grid_gap": null,
            "grid_row": null,
            "grid_template_areas": null,
            "grid_template_columns": null,
            "grid_template_rows": null,
            "height": null,
            "justify_content": null,
            "justify_items": null,
            "left": null,
            "margin": null,
            "max_height": null,
            "max_width": null,
            "min_height": null,
            "min_width": null,
            "object_fit": null,
            "object_position": null,
            "order": null,
            "overflow": null,
            "overflow_x": null,
            "overflow_y": null,
            "padding": null,
            "right": null,
            "top": null,
            "visibility": null,
            "width": null
          }
        },
        "2b94b128e7514d5ebc10efcae8fdccab": {
          "model_module": "@jupyter-widgets/controls",
          "model_name": "ProgressStyleModel",
          "model_module_version": "1.5.0",
          "state": {
            "_model_module": "@jupyter-widgets/controls",
            "_model_module_version": "1.5.0",
            "_model_name": "ProgressStyleModel",
            "_view_count": null,
            "_view_module": "@jupyter-widgets/base",
            "_view_module_version": "1.2.0",
            "_view_name": "StyleView",
            "bar_color": null,
            "description_width": ""
          }
        },
        "1f047b6d1d2c4ebd8de32f866d76b7f6": {
          "model_module": "@jupyter-widgets/base",
          "model_name": "LayoutModel",
          "model_module_version": "1.2.0",
          "state": {
            "_model_module": "@jupyter-widgets/base",
            "_model_module_version": "1.2.0",
            "_model_name": "LayoutModel",
            "_view_count": null,
            "_view_module": "@jupyter-widgets/base",
            "_view_module_version": "1.2.0",
            "_view_name": "LayoutView",
            "align_content": null,
            "align_items": null,
            "align_self": null,
            "border": null,
            "bottom": null,
            "display": null,
            "flex": null,
            "flex_flow": null,
            "grid_area": null,
            "grid_auto_columns": null,
            "grid_auto_flow": null,
            "grid_auto_rows": null,
            "grid_column": null,
            "grid_gap": null,
            "grid_row": null,
            "grid_template_areas": null,
            "grid_template_columns": null,
            "grid_template_rows": null,
            "height": null,
            "justify_content": null,
            "justify_items": null,
            "left": null,
            "margin": null,
            "max_height": null,
            "max_width": null,
            "min_height": null,
            "min_width": null,
            "object_fit": null,
            "object_position": null,
            "order": null,
            "overflow": null,
            "overflow_x": null,
            "overflow_y": null,
            "padding": null,
            "right": null,
            "top": null,
            "visibility": null,
            "width": null
          }
        },
        "5f437ee21ae5409c995413a91edb1205": {
          "model_module": "@jupyter-widgets/controls",
          "model_name": "DescriptionStyleModel",
          "model_module_version": "1.5.0",
          "state": {
            "_model_module": "@jupyter-widgets/controls",
            "_model_module_version": "1.5.0",
            "_model_name": "DescriptionStyleModel",
            "_view_count": null,
            "_view_module": "@jupyter-widgets/base",
            "_view_module_version": "1.2.0",
            "_view_name": "StyleView",
            "description_width": ""
          }
        },
        "c7e6255838524d6cbff6a44a017fc474": {
          "model_module": "@jupyter-widgets/controls",
          "model_name": "HBoxModel",
          "model_module_version": "1.5.0",
          "state": {
            "_dom_classes": [],
            "_model_module": "@jupyter-widgets/controls",
            "_model_module_version": "1.5.0",
            "_model_name": "HBoxModel",
            "_view_count": null,
            "_view_module": "@jupyter-widgets/controls",
            "_view_module_version": "1.5.0",
            "_view_name": "HBoxView",
            "box_style": "",
            "children": [
              "IPY_MODEL_594b900f51534cf8a099e87098acf969",
              "IPY_MODEL_a099049a27aa4aa1b9011118114a1d8b",
              "IPY_MODEL_0cf60eb9007e46fe80f4a5cf96078155"
            ],
            "layout": "IPY_MODEL_e4417433ab0840398c00d3e7f2555f31"
          }
        },
        "594b900f51534cf8a099e87098acf969": {
          "model_module": "@jupyter-widgets/controls",
          "model_name": "HTMLModel",
          "model_module_version": "1.5.0",
          "state": {
            "_dom_classes": [],
            "_model_module": "@jupyter-widgets/controls",
            "_model_module_version": "1.5.0",
            "_model_name": "HTMLModel",
            "_view_count": null,
            "_view_module": "@jupyter-widgets/controls",
            "_view_module_version": "1.5.0",
            "_view_name": "HTMLView",
            "description": "",
            "description_tooltip": null,
            "layout": "IPY_MODEL_859329f7b5ed4412a861692ef671a7ff",
            "placeholder": "​",
            "style": "IPY_MODEL_05ab5061ffa248b98ee5bee0ba35fb87",
            "value": "vocab.txt: 100%"
          }
        },
        "a099049a27aa4aa1b9011118114a1d8b": {
          "model_module": "@jupyter-widgets/controls",
          "model_name": "FloatProgressModel",
          "model_module_version": "1.5.0",
          "state": {
            "_dom_classes": [],
            "_model_module": "@jupyter-widgets/controls",
            "_model_module_version": "1.5.0",
            "_model_name": "FloatProgressModel",
            "_view_count": null,
            "_view_module": "@jupyter-widgets/controls",
            "_view_module_version": "1.5.0",
            "_view_name": "ProgressView",
            "bar_style": "success",
            "description": "",
            "description_tooltip": null,
            "layout": "IPY_MODEL_364c36d10e0e4cf7a92c380a63601f93",
            "max": 241082,
            "min": 0,
            "orientation": "horizontal",
            "style": "IPY_MODEL_e375934fe76b49dfaa7ccffd6d25abf8",
            "value": 241082
          }
        },
        "0cf60eb9007e46fe80f4a5cf96078155": {
          "model_module": "@jupyter-widgets/controls",
          "model_name": "HTMLModel",
          "model_module_version": "1.5.0",
          "state": {
            "_dom_classes": [],
            "_model_module": "@jupyter-widgets/controls",
            "_model_module_version": "1.5.0",
            "_model_name": "HTMLModel",
            "_view_count": null,
            "_view_module": "@jupyter-widgets/controls",
            "_view_module_version": "1.5.0",
            "_view_name": "HTMLView",
            "description": "",
            "description_tooltip": null,
            "layout": "IPY_MODEL_4a3078c08bbc46529dc103934e7ad306",
            "placeholder": "​",
            "style": "IPY_MODEL_8f8b39ba45d64a4ea11fea8b9457f666",
            "value": " 241k/241k [00:00&lt;00:00, 5.34MB/s]"
          }
        },
        "e4417433ab0840398c00d3e7f2555f31": {
          "model_module": "@jupyter-widgets/base",
          "model_name": "LayoutModel",
          "model_module_version": "1.2.0",
          "state": {
            "_model_module": "@jupyter-widgets/base",
            "_model_module_version": "1.2.0",
            "_model_name": "LayoutModel",
            "_view_count": null,
            "_view_module": "@jupyter-widgets/base",
            "_view_module_version": "1.2.0",
            "_view_name": "LayoutView",
            "align_content": null,
            "align_items": null,
            "align_self": null,
            "border": null,
            "bottom": null,
            "display": null,
            "flex": null,
            "flex_flow": null,
            "grid_area": null,
            "grid_auto_columns": null,
            "grid_auto_flow": null,
            "grid_auto_rows": null,
            "grid_column": null,
            "grid_gap": null,
            "grid_row": null,
            "grid_template_areas": null,
            "grid_template_columns": null,
            "grid_template_rows": null,
            "height": null,
            "justify_content": null,
            "justify_items": null,
            "left": null,
            "margin": null,
            "max_height": null,
            "max_width": null,
            "min_height": null,
            "min_width": null,
            "object_fit": null,
            "object_position": null,
            "order": null,
            "overflow": null,
            "overflow_x": null,
            "overflow_y": null,
            "padding": null,
            "right": null,
            "top": null,
            "visibility": null,
            "width": null
          }
        },
        "859329f7b5ed4412a861692ef671a7ff": {
          "model_module": "@jupyter-widgets/base",
          "model_name": "LayoutModel",
          "model_module_version": "1.2.0",
          "state": {
            "_model_module": "@jupyter-widgets/base",
            "_model_module_version": "1.2.0",
            "_model_name": "LayoutModel",
            "_view_count": null,
            "_view_module": "@jupyter-widgets/base",
            "_view_module_version": "1.2.0",
            "_view_name": "LayoutView",
            "align_content": null,
            "align_items": null,
            "align_self": null,
            "border": null,
            "bottom": null,
            "display": null,
            "flex": null,
            "flex_flow": null,
            "grid_area": null,
            "grid_auto_columns": null,
            "grid_auto_flow": null,
            "grid_auto_rows": null,
            "grid_column": null,
            "grid_gap": null,
            "grid_row": null,
            "grid_template_areas": null,
            "grid_template_columns": null,
            "grid_template_rows": null,
            "height": null,
            "justify_content": null,
            "justify_items": null,
            "left": null,
            "margin": null,
            "max_height": null,
            "max_width": null,
            "min_height": null,
            "min_width": null,
            "object_fit": null,
            "object_position": null,
            "order": null,
            "overflow": null,
            "overflow_x": null,
            "overflow_y": null,
            "padding": null,
            "right": null,
            "top": null,
            "visibility": null,
            "width": null
          }
        },
        "05ab5061ffa248b98ee5bee0ba35fb87": {
          "model_module": "@jupyter-widgets/controls",
          "model_name": "DescriptionStyleModel",
          "model_module_version": "1.5.0",
          "state": {
            "_model_module": "@jupyter-widgets/controls",
            "_model_module_version": "1.5.0",
            "_model_name": "DescriptionStyleModel",
            "_view_count": null,
            "_view_module": "@jupyter-widgets/base",
            "_view_module_version": "1.2.0",
            "_view_name": "StyleView",
            "description_width": ""
          }
        },
        "364c36d10e0e4cf7a92c380a63601f93": {
          "model_module": "@jupyter-widgets/base",
          "model_name": "LayoutModel",
          "model_module_version": "1.2.0",
          "state": {
            "_model_module": "@jupyter-widgets/base",
            "_model_module_version": "1.2.0",
            "_model_name": "LayoutModel",
            "_view_count": null,
            "_view_module": "@jupyter-widgets/base",
            "_view_module_version": "1.2.0",
            "_view_name": "LayoutView",
            "align_content": null,
            "align_items": null,
            "align_self": null,
            "border": null,
            "bottom": null,
            "display": null,
            "flex": null,
            "flex_flow": null,
            "grid_area": null,
            "grid_auto_columns": null,
            "grid_auto_flow": null,
            "grid_auto_rows": null,
            "grid_column": null,
            "grid_gap": null,
            "grid_row": null,
            "grid_template_areas": null,
            "grid_template_columns": null,
            "grid_template_rows": null,
            "height": null,
            "justify_content": null,
            "justify_items": null,
            "left": null,
            "margin": null,
            "max_height": null,
            "max_width": null,
            "min_height": null,
            "min_width": null,
            "object_fit": null,
            "object_position": null,
            "order": null,
            "overflow": null,
            "overflow_x": null,
            "overflow_y": null,
            "padding": null,
            "right": null,
            "top": null,
            "visibility": null,
            "width": null
          }
        },
        "e375934fe76b49dfaa7ccffd6d25abf8": {
          "model_module": "@jupyter-widgets/controls",
          "model_name": "ProgressStyleModel",
          "model_module_version": "1.5.0",
          "state": {
            "_model_module": "@jupyter-widgets/controls",
            "_model_module_version": "1.5.0",
            "_model_name": "ProgressStyleModel",
            "_view_count": null,
            "_view_module": "@jupyter-widgets/base",
            "_view_module_version": "1.2.0",
            "_view_name": "StyleView",
            "bar_color": null,
            "description_width": ""
          }
        },
        "4a3078c08bbc46529dc103934e7ad306": {
          "model_module": "@jupyter-widgets/base",
          "model_name": "LayoutModel",
          "model_module_version": "1.2.0",
          "state": {
            "_model_module": "@jupyter-widgets/base",
            "_model_module_version": "1.2.0",
            "_model_name": "LayoutModel",
            "_view_count": null,
            "_view_module": "@jupyter-widgets/base",
            "_view_module_version": "1.2.0",
            "_view_name": "LayoutView",
            "align_content": null,
            "align_items": null,
            "align_self": null,
            "border": null,
            "bottom": null,
            "display": null,
            "flex": null,
            "flex_flow": null,
            "grid_area": null,
            "grid_auto_columns": null,
            "grid_auto_flow": null,
            "grid_auto_rows": null,
            "grid_column": null,
            "grid_gap": null,
            "grid_row": null,
            "grid_template_areas": null,
            "grid_template_columns": null,
            "grid_template_rows": null,
            "height": null,
            "justify_content": null,
            "justify_items": null,
            "left": null,
            "margin": null,
            "max_height": null,
            "max_width": null,
            "min_height": null,
            "min_width": null,
            "object_fit": null,
            "object_position": null,
            "order": null,
            "overflow": null,
            "overflow_x": null,
            "overflow_y": null,
            "padding": null,
            "right": null,
            "top": null,
            "visibility": null,
            "width": null
          }
        },
        "8f8b39ba45d64a4ea11fea8b9457f666": {
          "model_module": "@jupyter-widgets/controls",
          "model_name": "DescriptionStyleModel",
          "model_module_version": "1.5.0",
          "state": {
            "_model_module": "@jupyter-widgets/controls",
            "_model_module_version": "1.5.0",
            "_model_name": "DescriptionStyleModel",
            "_view_count": null,
            "_view_module": "@jupyter-widgets/base",
            "_view_module_version": "1.2.0",
            "_view_name": "StyleView",
            "description_width": ""
          }
        },
        "8b25af028c524b8e80a6b4fed07db298": {
          "model_module": "@jupyter-widgets/controls",
          "model_name": "HBoxModel",
          "model_module_version": "1.5.0",
          "state": {
            "_dom_classes": [],
            "_model_module": "@jupyter-widgets/controls",
            "_model_module_version": "1.5.0",
            "_model_name": "HBoxModel",
            "_view_count": null,
            "_view_module": "@jupyter-widgets/controls",
            "_view_module_version": "1.5.0",
            "_view_name": "HBoxView",
            "box_style": "",
            "children": [
              "IPY_MODEL_f4a7b438dd2740fdbc9a040b3cf1d426",
              "IPY_MODEL_915b97626503438f81c8cbf66ea22339",
              "IPY_MODEL_051ca8de00114fa3bd34ce021de20bfa"
            ],
            "layout": "IPY_MODEL_2991ae92809d4916bf06e35ccc15aa04"
          }
        },
        "f4a7b438dd2740fdbc9a040b3cf1d426": {
          "model_module": "@jupyter-widgets/controls",
          "model_name": "HTMLModel",
          "model_module_version": "1.5.0",
          "state": {
            "_dom_classes": [],
            "_model_module": "@jupyter-widgets/controls",
            "_model_module_version": "1.5.0",
            "_model_name": "HTMLModel",
            "_view_count": null,
            "_view_module": "@jupyter-widgets/controls",
            "_view_module_version": "1.5.0",
            "_view_name": "HTMLView",
            "description": "",
            "description_tooltip": null,
            "layout": "IPY_MODEL_0bf036d5ac6345ac92a7b334d9799d47",
            "placeholder": "​",
            "style": "IPY_MODEL_92909c7c310945bea3c6f9f6b40db014",
            "value": "special_tokens_map.json: 100%"
          }
        },
        "915b97626503438f81c8cbf66ea22339": {
          "model_module": "@jupyter-widgets/controls",
          "model_name": "FloatProgressModel",
          "model_module_version": "1.5.0",
          "state": {
            "_dom_classes": [],
            "_model_module": "@jupyter-widgets/controls",
            "_model_module_version": "1.5.0",
            "_model_name": "FloatProgressModel",
            "_view_count": null,
            "_view_module": "@jupyter-widgets/controls",
            "_view_module_version": "1.5.0",
            "_view_name": "ProgressView",
            "bar_style": "success",
            "description": "",
            "description_tooltip": null,
            "layout": "IPY_MODEL_ea681de741be4821925966bc76798bb9",
            "max": 112,
            "min": 0,
            "orientation": "horizontal",
            "style": "IPY_MODEL_08d275d7984e44acbc413793879f180f",
            "value": 112
          }
        },
        "051ca8de00114fa3bd34ce021de20bfa": {
          "model_module": "@jupyter-widgets/controls",
          "model_name": "HTMLModel",
          "model_module_version": "1.5.0",
          "state": {
            "_dom_classes": [],
            "_model_module": "@jupyter-widgets/controls",
            "_model_module_version": "1.5.0",
            "_model_name": "HTMLModel",
            "_view_count": null,
            "_view_module": "@jupyter-widgets/controls",
            "_view_module_version": "1.5.0",
            "_view_name": "HTMLView",
            "description": "",
            "description_tooltip": null,
            "layout": "IPY_MODEL_db8b14f53791432c8c42f4b70e0b05ca",
            "placeholder": "​",
            "style": "IPY_MODEL_5bc6dd3dad224a44a201116e2f1766f6",
            "value": " 112/112 [00:00&lt;00:00, 8.47kB/s]"
          }
        },
        "2991ae92809d4916bf06e35ccc15aa04": {
          "model_module": "@jupyter-widgets/base",
          "model_name": "LayoutModel",
          "model_module_version": "1.2.0",
          "state": {
            "_model_module": "@jupyter-widgets/base",
            "_model_module_version": "1.2.0",
            "_model_name": "LayoutModel",
            "_view_count": null,
            "_view_module": "@jupyter-widgets/base",
            "_view_module_version": "1.2.0",
            "_view_name": "LayoutView",
            "align_content": null,
            "align_items": null,
            "align_self": null,
            "border": null,
            "bottom": null,
            "display": null,
            "flex": null,
            "flex_flow": null,
            "grid_area": null,
            "grid_auto_columns": null,
            "grid_auto_flow": null,
            "grid_auto_rows": null,
            "grid_column": null,
            "grid_gap": null,
            "grid_row": null,
            "grid_template_areas": null,
            "grid_template_columns": null,
            "grid_template_rows": null,
            "height": null,
            "justify_content": null,
            "justify_items": null,
            "left": null,
            "margin": null,
            "max_height": null,
            "max_width": null,
            "min_height": null,
            "min_width": null,
            "object_fit": null,
            "object_position": null,
            "order": null,
            "overflow": null,
            "overflow_x": null,
            "overflow_y": null,
            "padding": null,
            "right": null,
            "top": null,
            "visibility": null,
            "width": null
          }
        },
        "0bf036d5ac6345ac92a7b334d9799d47": {
          "model_module": "@jupyter-widgets/base",
          "model_name": "LayoutModel",
          "model_module_version": "1.2.0",
          "state": {
            "_model_module": "@jupyter-widgets/base",
            "_model_module_version": "1.2.0",
            "_model_name": "LayoutModel",
            "_view_count": null,
            "_view_module": "@jupyter-widgets/base",
            "_view_module_version": "1.2.0",
            "_view_name": "LayoutView",
            "align_content": null,
            "align_items": null,
            "align_self": null,
            "border": null,
            "bottom": null,
            "display": null,
            "flex": null,
            "flex_flow": null,
            "grid_area": null,
            "grid_auto_columns": null,
            "grid_auto_flow": null,
            "grid_auto_rows": null,
            "grid_column": null,
            "grid_gap": null,
            "grid_row": null,
            "grid_template_areas": null,
            "grid_template_columns": null,
            "grid_template_rows": null,
            "height": null,
            "justify_content": null,
            "justify_items": null,
            "left": null,
            "margin": null,
            "max_height": null,
            "max_width": null,
            "min_height": null,
            "min_width": null,
            "object_fit": null,
            "object_position": null,
            "order": null,
            "overflow": null,
            "overflow_x": null,
            "overflow_y": null,
            "padding": null,
            "right": null,
            "top": null,
            "visibility": null,
            "width": null
          }
        },
        "92909c7c310945bea3c6f9f6b40db014": {
          "model_module": "@jupyter-widgets/controls",
          "model_name": "DescriptionStyleModel",
          "model_module_version": "1.5.0",
          "state": {
            "_model_module": "@jupyter-widgets/controls",
            "_model_module_version": "1.5.0",
            "_model_name": "DescriptionStyleModel",
            "_view_count": null,
            "_view_module": "@jupyter-widgets/base",
            "_view_module_version": "1.2.0",
            "_view_name": "StyleView",
            "description_width": ""
          }
        },
        "ea681de741be4821925966bc76798bb9": {
          "model_module": "@jupyter-widgets/base",
          "model_name": "LayoutModel",
          "model_module_version": "1.2.0",
          "state": {
            "_model_module": "@jupyter-widgets/base",
            "_model_module_version": "1.2.0",
            "_model_name": "LayoutModel",
            "_view_count": null,
            "_view_module": "@jupyter-widgets/base",
            "_view_module_version": "1.2.0",
            "_view_name": "LayoutView",
            "align_content": null,
            "align_items": null,
            "align_self": null,
            "border": null,
            "bottom": null,
            "display": null,
            "flex": null,
            "flex_flow": null,
            "grid_area": null,
            "grid_auto_columns": null,
            "grid_auto_flow": null,
            "grid_auto_rows": null,
            "grid_column": null,
            "grid_gap": null,
            "grid_row": null,
            "grid_template_areas": null,
            "grid_template_columns": null,
            "grid_template_rows": null,
            "height": null,
            "justify_content": null,
            "justify_items": null,
            "left": null,
            "margin": null,
            "max_height": null,
            "max_width": null,
            "min_height": null,
            "min_width": null,
            "object_fit": null,
            "object_position": null,
            "order": null,
            "overflow": null,
            "overflow_x": null,
            "overflow_y": null,
            "padding": null,
            "right": null,
            "top": null,
            "visibility": null,
            "width": null
          }
        },
        "08d275d7984e44acbc413793879f180f": {
          "model_module": "@jupyter-widgets/controls",
          "model_name": "ProgressStyleModel",
          "model_module_version": "1.5.0",
          "state": {
            "_model_module": "@jupyter-widgets/controls",
            "_model_module_version": "1.5.0",
            "_model_name": "ProgressStyleModel",
            "_view_count": null,
            "_view_module": "@jupyter-widgets/base",
            "_view_module_version": "1.2.0",
            "_view_name": "StyleView",
            "bar_color": null,
            "description_width": ""
          }
        },
        "db8b14f53791432c8c42f4b70e0b05ca": {
          "model_module": "@jupyter-widgets/base",
          "model_name": "LayoutModel",
          "model_module_version": "1.2.0",
          "state": {
            "_model_module": "@jupyter-widgets/base",
            "_model_module_version": "1.2.0",
            "_model_name": "LayoutModel",
            "_view_count": null,
            "_view_module": "@jupyter-widgets/base",
            "_view_module_version": "1.2.0",
            "_view_name": "LayoutView",
            "align_content": null,
            "align_items": null,
            "align_self": null,
            "border": null,
            "bottom": null,
            "display": null,
            "flex": null,
            "flex_flow": null,
            "grid_area": null,
            "grid_auto_columns": null,
            "grid_auto_flow": null,
            "grid_auto_rows": null,
            "grid_column": null,
            "grid_gap": null,
            "grid_row": null,
            "grid_template_areas": null,
            "grid_template_columns": null,
            "grid_template_rows": null,
            "height": null,
            "justify_content": null,
            "justify_items": null,
            "left": null,
            "margin": null,
            "max_height": null,
            "max_width": null,
            "min_height": null,
            "min_width": null,
            "object_fit": null,
            "object_position": null,
            "order": null,
            "overflow": null,
            "overflow_x": null,
            "overflow_y": null,
            "padding": null,
            "right": null,
            "top": null,
            "visibility": null,
            "width": null
          }
        },
        "5bc6dd3dad224a44a201116e2f1766f6": {
          "model_module": "@jupyter-widgets/controls",
          "model_name": "DescriptionStyleModel",
          "model_module_version": "1.5.0",
          "state": {
            "_model_module": "@jupyter-widgets/controls",
            "_model_module_version": "1.5.0",
            "_model_name": "DescriptionStyleModel",
            "_view_count": null,
            "_view_module": "@jupyter-widgets/base",
            "_view_module_version": "1.2.0",
            "_view_name": "StyleView",
            "description_width": ""
          }
        },
        "630ccd1ad0e1404bab4d7528d5571f65": {
          "model_module": "@jupyter-widgets/controls",
          "model_name": "HBoxModel",
          "model_module_version": "1.5.0",
          "state": {
            "_dom_classes": [],
            "_model_module": "@jupyter-widgets/controls",
            "_model_module_version": "1.5.0",
            "_model_name": "HBoxModel",
            "_view_count": null,
            "_view_module": "@jupyter-widgets/controls",
            "_view_module_version": "1.5.0",
            "_view_name": "HBoxView",
            "box_style": "",
            "children": [
              "IPY_MODEL_14ec6aec5a254fc6af53f82c1089e441",
              "IPY_MODEL_05865683cc9c4e9984c09d692bf0b0ef",
              "IPY_MODEL_666a3fe80cc248648a1001bac3337798"
            ],
            "layout": "IPY_MODEL_00411703d8a74bb69e0306be64e45097"
          }
        },
        "14ec6aec5a254fc6af53f82c1089e441": {
          "model_module": "@jupyter-widgets/controls",
          "model_name": "HTMLModel",
          "model_module_version": "1.5.0",
          "state": {
            "_dom_classes": [],
            "_model_module": "@jupyter-widgets/controls",
            "_model_module_version": "1.5.0",
            "_model_name": "HTMLModel",
            "_view_count": null,
            "_view_module": "@jupyter-widgets/controls",
            "_view_module_version": "1.5.0",
            "_view_name": "HTMLView",
            "description": "",
            "description_tooltip": null,
            "layout": "IPY_MODEL_094d3ecbb96e4481a1dec76a9ce84195",
            "placeholder": "​",
            "style": "IPY_MODEL_2aed26a919d34ab5b6244b2a1dd098e3",
            "value": "tokenizer.json: 100%"
          }
        },
        "05865683cc9c4e9984c09d692bf0b0ef": {
          "model_module": "@jupyter-widgets/controls",
          "model_name": "FloatProgressModel",
          "model_module_version": "1.5.0",
          "state": {
            "_dom_classes": [],
            "_model_module": "@jupyter-widgets/controls",
            "_model_module_version": "1.5.0",
            "_model_name": "FloatProgressModel",
            "_view_count": null,
            "_view_module": "@jupyter-widgets/controls",
            "_view_module_version": "1.5.0",
            "_view_name": "ProgressView",
            "bar_style": "success",
            "description": "",
            "description_tooltip": null,
            "layout": "IPY_MODEL_00d23f4046254c76b83e5c91abfa043b",
            "max": 468145,
            "min": 0,
            "orientation": "horizontal",
            "style": "IPY_MODEL_087980708d254c05b41faef49e0e89cd",
            "value": 468145
          }
        },
        "666a3fe80cc248648a1001bac3337798": {
          "model_module": "@jupyter-widgets/controls",
          "model_name": "HTMLModel",
          "model_module_version": "1.5.0",
          "state": {
            "_dom_classes": [],
            "_model_module": "@jupyter-widgets/controls",
            "_model_module_version": "1.5.0",
            "_model_name": "HTMLModel",
            "_view_count": null,
            "_view_module": "@jupyter-widgets/controls",
            "_view_module_version": "1.5.0",
            "_view_name": "HTMLView",
            "description": "",
            "description_tooltip": null,
            "layout": "IPY_MODEL_3dfc496b9a934e7c95d66650dd73f2dc",
            "placeholder": "​",
            "style": "IPY_MODEL_e9f1aa9cb8b046ac84df1ff4e321d13f",
            "value": " 468k/468k [00:00&lt;00:00, 24.0MB/s]"
          }
        },
        "00411703d8a74bb69e0306be64e45097": {
          "model_module": "@jupyter-widgets/base",
          "model_name": "LayoutModel",
          "model_module_version": "1.2.0",
          "state": {
            "_model_module": "@jupyter-widgets/base",
            "_model_module_version": "1.2.0",
            "_model_name": "LayoutModel",
            "_view_count": null,
            "_view_module": "@jupyter-widgets/base",
            "_view_module_version": "1.2.0",
            "_view_name": "LayoutView",
            "align_content": null,
            "align_items": null,
            "align_self": null,
            "border": null,
            "bottom": null,
            "display": null,
            "flex": null,
            "flex_flow": null,
            "grid_area": null,
            "grid_auto_columns": null,
            "grid_auto_flow": null,
            "grid_auto_rows": null,
            "grid_column": null,
            "grid_gap": null,
            "grid_row": null,
            "grid_template_areas": null,
            "grid_template_columns": null,
            "grid_template_rows": null,
            "height": null,
            "justify_content": null,
            "justify_items": null,
            "left": null,
            "margin": null,
            "max_height": null,
            "max_width": null,
            "min_height": null,
            "min_width": null,
            "object_fit": null,
            "object_position": null,
            "order": null,
            "overflow": null,
            "overflow_x": null,
            "overflow_y": null,
            "padding": null,
            "right": null,
            "top": null,
            "visibility": null,
            "width": null
          }
        },
        "094d3ecbb96e4481a1dec76a9ce84195": {
          "model_module": "@jupyter-widgets/base",
          "model_name": "LayoutModel",
          "model_module_version": "1.2.0",
          "state": {
            "_model_module": "@jupyter-widgets/base",
            "_model_module_version": "1.2.0",
            "_model_name": "LayoutModel",
            "_view_count": null,
            "_view_module": "@jupyter-widgets/base",
            "_view_module_version": "1.2.0",
            "_view_name": "LayoutView",
            "align_content": null,
            "align_items": null,
            "align_self": null,
            "border": null,
            "bottom": null,
            "display": null,
            "flex": null,
            "flex_flow": null,
            "grid_area": null,
            "grid_auto_columns": null,
            "grid_auto_flow": null,
            "grid_auto_rows": null,
            "grid_column": null,
            "grid_gap": null,
            "grid_row": null,
            "grid_template_areas": null,
            "grid_template_columns": null,
            "grid_template_rows": null,
            "height": null,
            "justify_content": null,
            "justify_items": null,
            "left": null,
            "margin": null,
            "max_height": null,
            "max_width": null,
            "min_height": null,
            "min_width": null,
            "object_fit": null,
            "object_position": null,
            "order": null,
            "overflow": null,
            "overflow_x": null,
            "overflow_y": null,
            "padding": null,
            "right": null,
            "top": null,
            "visibility": null,
            "width": null
          }
        },
        "2aed26a919d34ab5b6244b2a1dd098e3": {
          "model_module": "@jupyter-widgets/controls",
          "model_name": "DescriptionStyleModel",
          "model_module_version": "1.5.0",
          "state": {
            "_model_module": "@jupyter-widgets/controls",
            "_model_module_version": "1.5.0",
            "_model_name": "DescriptionStyleModel",
            "_view_count": null,
            "_view_module": "@jupyter-widgets/base",
            "_view_module_version": "1.2.0",
            "_view_name": "StyleView",
            "description_width": ""
          }
        },
        "00d23f4046254c76b83e5c91abfa043b": {
          "model_module": "@jupyter-widgets/base",
          "model_name": "LayoutModel",
          "model_module_version": "1.2.0",
          "state": {
            "_model_module": "@jupyter-widgets/base",
            "_model_module_version": "1.2.0",
            "_model_name": "LayoutModel",
            "_view_count": null,
            "_view_module": "@jupyter-widgets/base",
            "_view_module_version": "1.2.0",
            "_view_name": "LayoutView",
            "align_content": null,
            "align_items": null,
            "align_self": null,
            "border": null,
            "bottom": null,
            "display": null,
            "flex": null,
            "flex_flow": null,
            "grid_area": null,
            "grid_auto_columns": null,
            "grid_auto_flow": null,
            "grid_auto_rows": null,
            "grid_column": null,
            "grid_gap": null,
            "grid_row": null,
            "grid_template_areas": null,
            "grid_template_columns": null,
            "grid_template_rows": null,
            "height": null,
            "justify_content": null,
            "justify_items": null,
            "left": null,
            "margin": null,
            "max_height": null,
            "max_width": null,
            "min_height": null,
            "min_width": null,
            "object_fit": null,
            "object_position": null,
            "order": null,
            "overflow": null,
            "overflow_x": null,
            "overflow_y": null,
            "padding": null,
            "right": null,
            "top": null,
            "visibility": null,
            "width": null
          }
        },
        "087980708d254c05b41faef49e0e89cd": {
          "model_module": "@jupyter-widgets/controls",
          "model_name": "ProgressStyleModel",
          "model_module_version": "1.5.0",
          "state": {
            "_model_module": "@jupyter-widgets/controls",
            "_model_module_version": "1.5.0",
            "_model_name": "ProgressStyleModel",
            "_view_count": null,
            "_view_module": "@jupyter-widgets/base",
            "_view_module_version": "1.2.0",
            "_view_name": "StyleView",
            "bar_color": null,
            "description_width": ""
          }
        },
        "3dfc496b9a934e7c95d66650dd73f2dc": {
          "model_module": "@jupyter-widgets/base",
          "model_name": "LayoutModel",
          "model_module_version": "1.2.0",
          "state": {
            "_model_module": "@jupyter-widgets/base",
            "_model_module_version": "1.2.0",
            "_model_name": "LayoutModel",
            "_view_count": null,
            "_view_module": "@jupyter-widgets/base",
            "_view_module_version": "1.2.0",
            "_view_name": "LayoutView",
            "align_content": null,
            "align_items": null,
            "align_self": null,
            "border": null,
            "bottom": null,
            "display": null,
            "flex": null,
            "flex_flow": null,
            "grid_area": null,
            "grid_auto_columns": null,
            "grid_auto_flow": null,
            "grid_auto_rows": null,
            "grid_column": null,
            "grid_gap": null,
            "grid_row": null,
            "grid_template_areas": null,
            "grid_template_columns": null,
            "grid_template_rows": null,
            "height": null,
            "justify_content": null,
            "justify_items": null,
            "left": null,
            "margin": null,
            "max_height": null,
            "max_width": null,
            "min_height": null,
            "min_width": null,
            "object_fit": null,
            "object_position": null,
            "order": null,
            "overflow": null,
            "overflow_x": null,
            "overflow_y": null,
            "padding": null,
            "right": null,
            "top": null,
            "visibility": null,
            "width": null
          }
        },
        "e9f1aa9cb8b046ac84df1ff4e321d13f": {
          "model_module": "@jupyter-widgets/controls",
          "model_name": "DescriptionStyleModel",
          "model_module_version": "1.5.0",
          "state": {
            "_model_module": "@jupyter-widgets/controls",
            "_model_module_version": "1.5.0",
            "_model_name": "DescriptionStyleModel",
            "_view_count": null,
            "_view_module": "@jupyter-widgets/base",
            "_view_module_version": "1.2.0",
            "_view_name": "StyleView",
            "description_width": ""
          }
        }
      }
    },
    "kaggle": {
      "accelerator": "gpu",
      "dataSources": [
        {
          "sourceId": 7225223,
          "sourceType": "datasetVersion",
          "datasetId": 4182584
        }
      ],
      "dockerImageVersionId": 30627,
      "isInternetEnabled": true,
      "language": "python",
      "sourceType": "notebook",
      "isGpuEnabled": true
    }
  },
  "nbformat_minor": 0,
  "nbformat": 4,
  "cells": [
    {
      "cell_type": "code",
      "source": [
        "import pandas as pd\n",
        "import sklearn\n",
        "import numpy as np"
      ],
      "metadata": {
        "id": "79bDTu_T-pum",
        "execution": {
          "iopub.status.busy": "2023-12-18T15:55:51.086616Z",
          "iopub.execute_input": "2023-12-18T15:55:51.086986Z",
          "iopub.status.idle": "2023-12-18T15:55:51.735954Z",
          "shell.execute_reply.started": "2023-12-18T15:55:51.086958Z",
          "shell.execute_reply": "2023-12-18T15:55:51.735177Z"
        },
        "trusted": true,
        "outputId": "80f8818f-c374-4c1d-dda4-17f35da9d9e3"
      },
      "execution_count": null,
      "outputs": [
        {
          "name": "stderr",
          "text": "/opt/conda/lib/python3.10/site-packages/scipy/__init__.py:146: UserWarning: A NumPy version >=1.16.5 and <1.23.0 is required for this version of SciPy (detected version 1.24.3\n  warnings.warn(f\"A NumPy version >={np_minversion} and <{np_maxversion}\"\n",
          "output_type": "stream"
        }
      ]
    },
    {
      "cell_type": "code",
      "source": [
        "import os\n",
        "from os.path import join\n",
        "os.listdir(\"/kaggle/input/ds-nlp\")\n",
        "\n",
        "input_dir = \"/kaggle/input/\"\n",
        "output_dir = \"/kaggle/working/\"\n",
        "\n",
        "dataset_path = join(input_dir, \"ds-nlp/.___DS_NLP.xlsx\")"
      ],
      "metadata": {
        "execution": {
          "iopub.status.busy": "2023-12-18T15:55:56.339164Z",
          "iopub.execute_input": "2023-12-18T15:55:56.339872Z",
          "iopub.status.idle": "2023-12-18T15:55:56.345215Z",
          "shell.execute_reply.started": "2023-12-18T15:55:56.339838Z",
          "shell.execute_reply": "2023-12-18T15:55:56.344143Z"
        },
        "trusted": true,
        "id": "1vb2qz89v-J8"
      },
      "execution_count": null,
      "outputs": []
    },
    {
      "cell_type": "code",
      "source": [
        "df = pd.read_excel(dataset_path)\n",
        "df.drop(['Unnamed: 0'], axis=1, inplace=True)"
      ],
      "metadata": {
        "id": "oknykCW-IvVe",
        "execution": {
          "iopub.status.busy": "2023-12-18T15:55:57.781506Z",
          "iopub.execute_input": "2023-12-18T15:55:57.781855Z",
          "iopub.status.idle": "2023-12-18T15:55:58.595738Z",
          "shell.execute_reply.started": "2023-12-18T15:55:57.781827Z",
          "shell.execute_reply": "2023-12-18T15:55:58.594904Z"
        },
        "trusted": true
      },
      "execution_count": null,
      "outputs": []
    },
    {
      "cell_type": "markdown",
      "source": [
        "# Классический ML"
      ],
      "metadata": {
        "id": "bQrsbHbfJDiQ"
      }
    },
    {
      "cell_type": "markdown",
      "source": [
        "## Токенизация"
      ],
      "metadata": {
        "id": "u3jqUnHPv-KA"
      }
    },
    {
      "cell_type": "code",
      "source": [
        "import nltk\n",
        "nltk.download('punkt')\n",
        "from nltk.tokenize import word_tokenize, sent_tokenize\n",
        "from nltk.tokenize import RegexpTokenizer\n",
        "\n",
        "#Токенизируем наши данные (в качестве токенов будут выступать отдельные слова)\n",
        "def tokenize(data):\n",
        "    tokens = pd.Series()\n",
        "    tokenizer = RegexpTokenizer(r'\\w+')\n",
        "    for i, review in enumerate(data):\n",
        "        for sent in sent_tokenize(review, 'russian'):\n",
        "            tokens.loc[i] = tokenizer.tokenize(sent)\n",
        "    nonempty_ind = tokens.str.len() != 0\n",
        "    tokens = tokens[tokens.str.len() != 0]\n",
        "    tokens = tokens.reset_index().drop('index', axis=1)\n",
        "    tokens = tokens.rename({0: 'review'}, axis=1)\n",
        "    return tokens, nonempty_ind\n",
        "\n",
        "tokens, nonempty_ind = tokenize(df.text)\n",
        "df = df[nonempty_ind]"
      ],
      "metadata": {
        "colab": {
          "base_uri": "https://localhost:8080/"
        },
        "id": "NQt28cWaAILV",
        "outputId": "d734d9f4-ed20-42a7-97c9-95c3f1f5ec1d",
        "execution": {
          "iopub.status.busy": "2023-12-18T10:48:06.949288Z",
          "iopub.execute_input": "2023-12-18T10:48:06.949682Z",
          "iopub.status.idle": "2023-12-18T10:48:09.754818Z",
          "shell.execute_reply.started": "2023-12-18T10:48:06.949652Z",
          "shell.execute_reply": "2023-12-18T10:48:09.754035Z"
        },
        "trusted": true
      },
      "execution_count": null,
      "outputs": [
        {
          "name": "stdout",
          "text": "[nltk_data] Downloading package punkt to /usr/share/nltk_data...\n[nltk_data]   Package punkt is already up-to-date!\n",
          "output_type": "stream"
        }
      ]
    },
    {
      "cell_type": "code",
      "source": [
        "from nltk.corpus import stopwords\n",
        "nltk.download('stopwords')\n",
        "\n",
        "#Отчистим токены от стоп-слов, которые только мешают обучению\n",
        "def filter_tokens(tokens):\n",
        "    filtered_tokens = pd.Series()\n",
        "    for i, review in enumerate(tokens.review):\n",
        "        filtered_tokens.loc[i] = [word for word in review if word not in stopwords.words('russian')]\n",
        "    filter_tokens = pd.DataFrame(filtered_tokens)\n",
        "    filter_tokens.rename({0: 'review'}, axis=1, inplace=True)\n",
        "    return filter_tokens\n",
        "\n",
        "tokens = filter_tokens(tokens)\n",
        "tokens"
      ],
      "metadata": {
        "colab": {
          "base_uri": "https://localhost:8080/",
          "height": 513
        },
        "id": "kofn4UQ6GRF5",
        "outputId": "b1f37904-2020-435c-9d3c-b587f53a6af4",
        "execution": {
          "iopub.status.busy": "2023-12-18T10:48:09.756255Z",
          "iopub.execute_input": "2023-12-18T10:48:09.756552Z",
          "iopub.status.idle": "2023-12-18T10:48:15.031992Z",
          "shell.execute_reply.started": "2023-12-18T10:48:09.756527Z",
          "shell.execute_reply": "2023-12-18T10:48:15.031000Z"
        },
        "trusted": true
      },
      "execution_count": null,
      "outputs": [
        {
          "name": "stdout",
          "text": "[nltk_data] Downloading package stopwords to /usr/share/nltk_data...\n[nltk_data]   Package stopwords is already up-to-date!\n",
          "output_type": "stream"
        },
        {
          "execution_count": 36,
          "output_type": "execute_result",
          "data": {
            "text/plain": "                                                 review\n0     [перестаньте, впаривать, клиентам, дополнитель...\n1                                 [это, очень, приятно]\n2     [продавец, режил, продать, нам, товар, почему,...\n3     [навязанные, услуги, моего, согласия, сумму, 1...\n4     [оператор, проигнорировала, информацию, ошибке...\n...                                                 ...\n2714                                          [спасибо]\n2715  [продавцы, торопятся, заказами, разговаривают,...\n2716  [профессионализма, менеджеру, внимания, клиент...\n2717  [сколько, времени, ещё, стояла, просто, ждала,...\n2718                         [клиентоориентированность]\n\n[2719 rows x 1 columns]",
            "text/html": "<div>\n<style scoped>\n    .dataframe tbody tr th:only-of-type {\n        vertical-align: middle;\n    }\n\n    .dataframe tbody tr th {\n        vertical-align: top;\n    }\n\n    .dataframe thead th {\n        text-align: right;\n    }\n</style>\n<table border=\"1\" class=\"dataframe\">\n  <thead>\n    <tr style=\"text-align: right;\">\n      <th></th>\n      <th>review</th>\n    </tr>\n  </thead>\n  <tbody>\n    <tr>\n      <th>0</th>\n      <td>[перестаньте, впаривать, клиентам, дополнитель...</td>\n    </tr>\n    <tr>\n      <th>1</th>\n      <td>[это, очень, приятно]</td>\n    </tr>\n    <tr>\n      <th>2</th>\n      <td>[продавец, режил, продать, нам, товар, почему,...</td>\n    </tr>\n    <tr>\n      <th>3</th>\n      <td>[навязанные, услуги, моего, согласия, сумму, 1...</td>\n    </tr>\n    <tr>\n      <th>4</th>\n      <td>[оператор, проигнорировала, информацию, ошибке...</td>\n    </tr>\n    <tr>\n      <th>...</th>\n      <td>...</td>\n    </tr>\n    <tr>\n      <th>2714</th>\n      <td>[спасибо]</td>\n    </tr>\n    <tr>\n      <th>2715</th>\n      <td>[продавцы, торопятся, заказами, разговаривают,...</td>\n    </tr>\n    <tr>\n      <th>2716</th>\n      <td>[профессионализма, менеджеру, внимания, клиент...</td>\n    </tr>\n    <tr>\n      <th>2717</th>\n      <td>[сколько, времени, ещё, стояла, просто, ждала,...</td>\n    </tr>\n    <tr>\n      <th>2718</th>\n      <td>[клиентоориентированность]</td>\n    </tr>\n  </tbody>\n</table>\n<p>2719 rows × 1 columns</p>\n</div>"
          },
          "metadata": {}
        }
      ]
    },
    {
      "cell_type": "markdown",
      "source": [
        "Продолжим преобразование токенов. Объединим в токен те словосочетания из двух слов, которые встречаются как минимум 20 среди всех отзывов."
      ],
      "metadata": {
        "id": "34l5KZ0iv-KE"
      }
    },
    {
      "cell_type": "code",
      "source": [
        "from nltk.collocations import *\n",
        "\n",
        "def get_text(tokens):\n",
        "    text = ''\n",
        "    for i in range(len(tokens)):\n",
        "        text += ' '.join(tokens[i])\n",
        "    text = text.strip()\n",
        "    return text\n",
        "\n",
        "#Для начала найдём эти словосочетания\n",
        "bigram_measures = nltk.collocations.BigramAssocMeasures()\n",
        "text = get_text(tokens.review)\n",
        "finder = BigramCollocationFinder.from_words(word_tokenize(text))\n",
        "freq_filter = 20\n",
        "finder.apply_freq_filter(freq_filter)\n",
        "nbest = 100\n",
        "most_common_phrases = finder.nbest(bigram_measures.raw_freq, nbest)"
      ],
      "metadata": {
        "id": "1tn7GsHnJZoq",
        "execution": {
          "iopub.status.busy": "2023-12-18T10:49:45.925157Z",
          "iopub.execute_input": "2023-12-18T10:49:45.925527Z",
          "iopub.status.idle": "2023-12-18T10:49:46.231222Z",
          "shell.execute_reply.started": "2023-12-18T10:49:45.925496Z",
          "shell.execute_reply": "2023-12-18T10:49:46.230378Z"
        },
        "trusted": true
      },
      "execution_count": null,
      "outputs": []
    },
    {
      "cell_type": "code",
      "source": [
        "from nltk.tokenize import MWETokenizer\n",
        "\n",
        "#Объединим их в один токен\n",
        "def tokenize(tokens):\n",
        "    tokenizer = MWETokenizer()\n",
        "    for phrase in most_common_phrases:\n",
        "        tokenizer.add_mwe(phrase)\n",
        "    for i, review in enumerate(tokens):\n",
        "        tokens.loc[i] = tokenizer.tokenize(review)\n",
        "    tokens = pd.DataFrame(tokens)\n",
        "    tokens = tokens.rename({0: 'review'}, axis=1)\n",
        "    return tokens\n",
        "\n",
        "tokens = tokenize(tokens.review)"
      ],
      "metadata": {
        "id": "cyB91oEOWG8P",
        "execution": {
          "iopub.status.busy": "2023-12-18T10:49:48.413912Z",
          "iopub.execute_input": "2023-12-18T10:49:48.414738Z",
          "iopub.status.idle": "2023-12-18T10:49:48.984828Z",
          "shell.execute_reply.started": "2023-12-18T10:49:48.414709Z",
          "shell.execute_reply": "2023-12-18T10:49:48.983848Z"
        },
        "trusted": true
      },
      "execution_count": null,
      "outputs": []
    },
    {
      "cell_type": "code",
      "source": [
        "!pip install pymorphy2\n",
        "import pymorphy2\n",
        "\n",
        "#Лемматизируем токены:\n",
        "def lemmatize(tokens):\n",
        "    morph = pymorphy2.MorphAnalyzer(lang='ru')\n",
        "    new_tokens = pd.Series()\n",
        "    for i, review in enumerate(tokens):\n",
        "        new_review = []\n",
        "        for word in review:\n",
        "            new_review.append(morph.normal_forms(word)[0])\n",
        "        new_tokens.loc[i] = new_review\n",
        "    new_tokes = pd.DataFrame(new_tokens).rename({0: 'review'}, axis=1)\n",
        "    return new_tokens\n",
        "\n",
        "lemmatized_tokens = lemmatize(tokens.review)\n",
        "lemmatized_tokens"
      ],
      "metadata": {
        "colab": {
          "base_uri": "https://localhost:8080/"
        },
        "id": "STmpHLh8joSi",
        "outputId": "9d9d8289-8545-42d7-bfd3-9a99d3a7a39d",
        "execution": {
          "iopub.status.busy": "2023-12-18T10:50:04.881211Z",
          "iopub.execute_input": "2023-12-18T10:50:04.881949Z",
          "iopub.status.idle": "2023-12-18T10:50:25.159295Z",
          "shell.execute_reply.started": "2023-12-18T10:50:04.881919Z",
          "shell.execute_reply": "2023-12-18T10:50:25.158338Z"
        },
        "trusted": true
      },
      "execution_count": null,
      "outputs": [
        {
          "name": "stdout",
          "text": "Collecting pymorphy2\n  Downloading pymorphy2-0.9.1-py3-none-any.whl (55 kB)\n\u001b[2K     \u001b[90m━━━━━━━━━━━━━━━━━━━━━━━━━━━━━━━━━━━━━━━━\u001b[0m \u001b[32m55.5/55.5 kB\u001b[0m \u001b[31m2.4 MB/s\u001b[0m eta \u001b[36m0:00:00\u001b[0m\n\u001b[?25hCollecting dawg-python>=0.7.1 (from pymorphy2)\n  Downloading DAWG_Python-0.7.2-py2.py3-none-any.whl (11 kB)\nCollecting pymorphy2-dicts-ru<3.0,>=2.4 (from pymorphy2)\n  Downloading pymorphy2_dicts_ru-2.4.417127.4579844-py2.py3-none-any.whl (8.2 MB)\n\u001b[2K     \u001b[90m━━━━━━━━━━━━━━━━━━━━━━━━━━━━━━━━━━━━━━━━\u001b[0m \u001b[32m8.2/8.2 MB\u001b[0m \u001b[31m57.1 MB/s\u001b[0m eta \u001b[36m0:00:00\u001b[0m00:01\u001b[0m00:01\u001b[0m\n\u001b[?25hRequirement already satisfied: docopt>=0.6 in /opt/conda/lib/python3.10/site-packages (from pymorphy2) (0.6.2)\nInstalling collected packages: pymorphy2-dicts-ru, dawg-python, pymorphy2\nSuccessfully installed dawg-python-0.7.2 pymorphy2-0.9.1 pymorphy2-dicts-ru-2.4.417127.4579844\n",
          "output_type": "stream"
        },
        {
          "execution_count": 43,
          "output_type": "execute_result",
          "data": {
            "text/plain": "0       [перестать, впаривать, клиент, дополнительный,...\n1                                   [это, очень, приятно]\n2       [продавец, режить, продать, мы, товар, почему,...\n3       [навязать, услуга, мой, согласие, сумма, 1949,...\n4       [оператор, проигнорировать, информация, ошибка...\n                              ...                        \n2714                                            [спасибо]\n2715    [продавец, торопиться, заказ, разговаривать, т...\n2716    [профессионализм, менеджер, внимание, клиент, ...\n2717    [сколько, время, ещё, стоять, просто, ждать, н...\n2718                           [клиентоориентированность]\nLength: 2719, dtype: object"
          },
          "metadata": {}
        }
      ]
    },
    {
      "cell_type": "markdown",
      "source": [
        "## Получение эмбеддингов с помощью Word2Vec"
      ],
      "metadata": {
        "id": "YcAnKuaPbOPH"
      }
    },
    {
      "cell_type": "code",
      "source": [
        "from gensim.models import Word2Vec\n",
        "\n",
        "#Инициализируем Word2Vec модель\n",
        "model = Word2Vec(min_count=1, window=2, negative=10, alpha=0.03, min_alpha=0.0007, sample=6e-5, sg=1)\n",
        "model.build_vocab(lemmatized_tokens)"
      ],
      "metadata": {
        "id": "vmfyZYWce0l2",
        "execution": {
          "iopub.status.busy": "2023-12-18T10:51:07.271157Z",
          "iopub.execute_input": "2023-12-18T10:51:07.271966Z",
          "iopub.status.idle": "2023-12-18T10:51:07.378899Z",
          "shell.execute_reply.started": "2023-12-18T10:51:07.271934Z",
          "shell.execute_reply": "2023-12-18T10:51:07.378168Z"
        },
        "trusted": true
      },
      "execution_count": null,
      "outputs": []
    },
    {
      "cell_type": "code",
      "source": [
        "#Обучим word2vec\n",
        "model.train(lemmatized_tokens, total_examples=2719, epochs=30, report_delay=1)"
      ],
      "metadata": {
        "colab": {
          "base_uri": "https://localhost:8080/"
        },
        "id": "5vGUBVdlprmV",
        "outputId": "0643ccae-d687-447a-a601-a10fc0f7f38f",
        "execution": {
          "iopub.status.busy": "2023-12-18T10:51:13.090454Z",
          "iopub.execute_input": "2023-12-18T10:51:13.090999Z",
          "iopub.status.idle": "2023-12-18T10:51:14.090314Z",
          "shell.execute_reply.started": "2023-12-18T10:51:13.090965Z",
          "shell.execute_reply": "2023-12-18T10:51:14.089439Z"
        },
        "trusted": true
      },
      "execution_count": null,
      "outputs": [
        {
          "execution_count": 48,
          "output_type": "execute_result",
          "data": {
            "text/plain": "(235498, 602790)"
          },
          "metadata": {}
        }
      ]
    },
    {
      "cell_type": "code",
      "source": [
        "from sklearn.model_selection import train_test_split\n",
        "\n",
        "#Поделим выборку на train, test и val и каждую из этих частей преобразуем с помощью полученных эмбеддингов\n",
        "def vectorize(review):\n",
        "    words_vecs = [model.wv[word] for word in review if word in model.wv]\n",
        "    if len(words_vecs) == 0:\n",
        "        return np.zeros(5)\n",
        "    words_vecs = np.array(words_vecs)\n",
        "    return words_vecs.mean(axis=0)\n",
        "\n",
        "X = np.array([vectorize(review) for review in lemmatized_tokens])"
      ],
      "metadata": {
        "id": "Dk6z1pMRovoF",
        "execution": {
          "iopub.status.busy": "2023-12-18T11:13:01.447897Z",
          "iopub.execute_input": "2023-12-18T11:13:01.448988Z",
          "iopub.status.idle": "2023-12-18T11:13:01.585243Z",
          "shell.execute_reply.started": "2023-12-18T11:13:01.448937Z",
          "shell.execute_reply": "2023-12-18T11:13:01.584306Z"
        },
        "trusted": true
      },
      "execution_count": null,
      "outputs": []
    },
    {
      "cell_type": "code",
      "source": [
        "from sklearn.preprocessing import OrdinalEncoder\n",
        "\n",
        "#Закодируем метки классов числами от 0 до 7\n",
        "ord_enc = OrdinalEncoder()\n",
        "ord_enc.fit(y_train.to_numpy().reshape(-1, 1))\n",
        "y = ord_enc.transform(df['class'].to_numpy().reshape(-1, 1))"
      ],
      "metadata": {
        "id": "LrnQA1C8upQJ",
        "execution": {
          "iopub.status.busy": "2023-12-18T11:11:31.810554Z",
          "iopub.execute_input": "2023-12-18T11:11:31.810917Z",
          "iopub.status.idle": "2023-12-18T11:11:31.818036Z",
          "shell.execute_reply.started": "2023-12-18T11:11:31.810867Z",
          "shell.execute_reply": "2023-12-18T11:11:31.816965Z"
        },
        "trusted": true
      },
      "execution_count": null,
      "outputs": []
    },
    {
      "cell_type": "markdown",
      "source": [
        "## Несбалансированность классов"
      ],
      "metadata": {
        "id": "do0RTUwRv-KM"
      }
    },
    {
      "cell_type": "code",
      "source": [
        "#Посмотрим на распределение классов:\n",
        "import seaborn as sns\n",
        "import matplotlib.pyplot as plt\n",
        "sns.set_style('whitegrid')\n",
        "\n",
        "grouped_df = df[['class', 'id']].groupby('class').count()\n",
        "sns.barplot(x=grouped_df.index, y=grouped_df['id'])\n",
        "plt.title('Распределение отзывов по классам')\n",
        "plt.ylabel('quantity')\n",
        "plt.show()"
      ],
      "metadata": {
        "execution": {
          "iopub.status.busy": "2023-12-18T11:15:58.689269Z",
          "iopub.execute_input": "2023-12-18T11:15:58.690005Z",
          "iopub.status.idle": "2023-12-18T11:15:59.047721Z",
          "shell.execute_reply.started": "2023-12-18T11:15:58.689971Z",
          "shell.execute_reply": "2023-12-18T11:15:59.046861Z"
        },
        "trusted": true,
        "id": "yCUJmC4_v-KN",
        "outputId": "87593a6d-51d3-4639-fa04-1e41d39cdc86"
      },
      "execution_count": null,
      "outputs": [
        {
          "output_type": "display_data",
          "data": {
            "text/plain": "<Figure size 640x480 with 1 Axes>",
            "image/png": "[encoded data removed]"
          },
          "metadata": {}
        }
      ]
    },
    {
      "cell_type": "markdown",
      "source": [
        "Например, мы видим, что в четвёртом классе объектов столько же, сколько в 5, 6, 7, 8 вместе взятых.\n",
        "\n",
        "Чтобы избавиться от этой проблемы, сделаем oversampling с помощью класса SMOTE. Для этого просто применим соответсвующую функцию к нашим эмбеддингам:"
      ],
      "metadata": {
        "id": "s5TWMOxKv-KN"
      }
    },
    {
      "cell_type": "code",
      "source": [
        "from imblearn.over_sampling import SMOTE\n",
        "\n",
        "smote = SMOTE()\n",
        "X_, y_ = smote.fit_resample(X, y)"
      ],
      "metadata": {
        "execution": {
          "iopub.status.busy": "2023-12-18T11:16:41.484036Z",
          "iopub.execute_input": "2023-12-18T11:16:41.485968Z",
          "iopub.status.idle": "2023-12-18T11:16:41.546950Z",
          "shell.execute_reply.started": "2023-12-18T11:16:41.485896Z",
          "shell.execute_reply": "2023-12-18T11:16:41.545218Z"
        },
        "trusted": true,
        "id": "iKalgipzv-KO"
      },
      "execution_count": null,
      "outputs": []
    },
    {
      "cell_type": "code",
      "source": [
        "sns.barplot(x=pd.Series(y_).value_counts().keys(), y=pd.Series(y_).value_counts().values)\n",
        "plt.xlabel('class')\n",
        "plt.ylabel('quantity')\n",
        "plt.title('Распределение отзывов по классам после over_sampling')\n",
        "plt.show()"
      ],
      "metadata": {
        "execution": {
          "iopub.status.busy": "2023-12-18T11:15:44.598143Z",
          "iopub.execute_input": "2023-12-18T11:15:44.598976Z",
          "iopub.status.idle": "2023-12-18T11:15:44.950520Z",
          "shell.execute_reply.started": "2023-12-18T11:15:44.598944Z",
          "shell.execute_reply": "2023-12-18T11:15:44.949624Z"
        },
        "trusted": true,
        "id": "uOyrwCR_v-KO",
        "outputId": "0ddf8cf7-0a1e-4bda-daf6-e86c44c00788"
      },
      "execution_count": null,
      "outputs": [
        {
          "output_type": "display_data",
          "data": {
            "text/plain": "<Figure size 640x480 with 1 Axes>",
            "image/png": "[encoded data removed]"
          },
          "metadata": {}
        }
      ]
    },
    {
      "cell_type": "markdown",
      "source": [
        "## Построение ансамбля\n",
        "\n",
        "В этой части мы построим ансамбль, состоящий из 4 моделей классификации:\n",
        "\n",
        "1) линейная модель (какая именно -- будет подобрано с помощью GridSearchCV)\n",
        "\n",
        "2) RandomForest, т.к. он хорошо себя показывает при классификации с малым набором данных, как у нас\n",
        "\n",
        "3) Light Gradient Boosting Machine\n",
        "\n",
        "4) XGBoost, потому что бустинг -- один из самых эффективных ML-алгоритмов для работы с табличными данными"
      ],
      "metadata": {
        "id": "Wsat_L2AkOmc"
      }
    },
    {
      "cell_type": "markdown",
      "source": [
        "Так как в ансамбль имеет смысл добавлять только уже подтюненные (т.е. с подобранными гиперпараметрами) модели, то сделаем их таковыми с помощью GridSearchCV.\n",
        "\n",
        "В качестве метрики, под которую будем подстраиваться, выберем f1-меру с макро-усреднением, т.к. при таком варианте предсказания всех классов имеют равный вклад (если бы мы взяли микро-усреднение, то тогда предсказания бы классов более крупных были более значимы для модели).\n",
        "\n",
        "Также обратим внимание, что я не выделяла отдельно валидационную выборку, потому что в GridSearchCV и так уже используется кросс-валидация, т.е. выборка автоматически разбивается на обучающую и валидационную."
      ],
      "metadata": {
        "id": "2qb3OHgqv-KQ"
      }
    },
    {
      "cell_type": "code",
      "source": [
        "from sklearn.model_selection import train_test_split\n",
        "\n",
        "X_train_, X_test_, y_train_, y_test_ = train_test_split(X_, y_, test_size=0.2, random_state=42)"
      ],
      "metadata": {
        "execution": {
          "iopub.status.busy": "2023-12-18T11:19:38.857003Z",
          "iopub.execute_input": "2023-12-18T11:19:38.857855Z",
          "iopub.status.idle": "2023-12-18T11:19:38.866333Z",
          "shell.execute_reply.started": "2023-12-18T11:19:38.857807Z",
          "shell.execute_reply": "2023-12-18T11:19:38.865276Z"
        },
        "trusted": true,
        "id": "PpuwTYirv-KR"
      },
      "execution_count": null,
      "outputs": []
    },
    {
      "cell_type": "code",
      "source": [
        "from sklearn.ensemble import VotingClassifier, RandomForestClassifier\n",
        "from sklearn.model_selection import GridSearchCV\n",
        "from sklearn.metrics import f1_score\n",
        "\n",
        "def f1_macro(self, X, y):\n",
        "    return f1_score(y, self.predict(X), average='macro')\n",
        "\n",
        "#Тюним RandomForest\n",
        "n_estimators = [80, 160]\n",
        "max_depth = [25, 40]\n",
        "min_samples_leaf = [2, 3]\n",
        "bootstrap = [True, False]\n",
        "\n",
        "param_grid = {\n",
        "    \"n_estimators\": n_estimators,\n",
        "    \"max_depth\": max_depth,\n",
        "    \"min_samples_leaf\": min_samples_leaf,\n",
        "    \"bootstrap\": bootstrap,\n",
        "    \"random_state\": [42], #для воспроизводимости результатов\n",
        "}\n",
        "\n",
        "rf = RandomForestClassifier()\n",
        "grid_rf_macro = GridSearchCV(estimator=rf, param_grid=param_grid, cv=3, scoring=f1_macro)\n",
        "grid_rf_macro.fit(X_train_, y_train_.ravel())"
      ],
      "metadata": {
        "colab": {
          "base_uri": "https://localhost:8080/"
        },
        "id": "x4pGfcCT3_bQ",
        "outputId": "8587f1b4-9a6e-45aa-fb3c-e7fb45b0ea8b",
        "execution": {
          "iopub.status.busy": "2023-12-18T11:48:10.470991Z",
          "iopub.execute_input": "2023-12-18T11:48:10.471359Z",
          "iopub.status.idle": "2023-12-18T11:51:14.581154Z",
          "shell.execute_reply.started": "2023-12-18T11:48:10.471330Z",
          "shell.execute_reply": "2023-12-18T11:51:14.580238Z"
        },
        "trusted": true
      },
      "execution_count": null,
      "outputs": [
        {
          "execution_count": 97,
          "output_type": "execute_result",
          "data": {
            "text/plain": "GridSearchCV(cv=3, estimator=RandomForestClassifier(),\n             param_grid={'bootstrap': [True, False], 'max_depth': [25, 40],\n                         'min_samples_leaf': [2, 3], 'n_estimators': [80, 160],\n                         'random_state': [42]},\n             scoring=<function f1_macro at 0x7d04a78655a0>)",
            "text/html": "<style>#sk-container-id-4 {color: black;background-color: white;}#sk-container-id-4 pre{padding: 0;}#sk-container-id-4 div.sk-toggleable {background-color: white;}#sk-container-id-4 label.sk-toggleable__label {cursor: pointer;display: block;width: 100%;margin-bottom: 0;padding: 0.3em;box-sizing: border-box;text-align: center;}#sk-container-id-4 label.sk-toggleable__label-arrow:before {content: \"▸\";float: left;margin-right: 0.25em;color: #696969;}#sk-container-id-4 label.sk-toggleable__label-arrow:hover:before {color: black;}#sk-container-id-4 div.sk-estimator:hover label.sk-toggleable__label-arrow:before {color: black;}#sk-container-id-4 div.sk-toggleable__content {max-height: 0;max-width: 0;overflow: hidden;text-align: left;background-color: #f0f8ff;}#sk-container-id-4 div.sk-toggleable__content pre {margin: 0.2em;color: black;border-radius: 0.25em;background-color: #f0f8ff;}#sk-container-id-4 input.sk-toggleable__control:checked~div.sk-toggleable__content {max-height: 200px;max-width: 100%;overflow: auto;}#sk-container-id-4 input.sk-toggleable__control:checked~label.sk-toggleable__label-arrow:before {content: \"▾\";}#sk-container-id-4 div.sk-estimator input.sk-toggleable__control:checked~label.sk-toggleable__label {background-color: #d4ebff;}#sk-container-id-4 div.sk-label input.sk-toggleable__control:checked~label.sk-toggleable__label {background-color: #d4ebff;}#sk-container-id-4 input.sk-hidden--visually {border: 0;clip: rect(1px 1px 1px 1px);clip: rect(1px, 1px, 1px, 1px);height: 1px;margin: -1px;overflow: hidden;padding: 0;position: absolute;width: 1px;}#sk-container-id-4 div.sk-estimator {font-family: monospace;background-color: #f0f8ff;border: 1px dotted black;border-radius: 0.25em;box-sizing: border-box;margin-bottom: 0.5em;}#sk-container-id-4 div.sk-estimator:hover {background-color: #d4ebff;}#sk-container-id-4 div.sk-parallel-item::after {content: \"\";width: 100%;border-bottom: 1px solid gray;flex-grow: 1;}#sk-container-id-4 div.sk-label:hover label.sk-toggleable__label {background-color: #d4ebff;}#sk-container-id-4 div.sk-serial::before {content: \"\";position: absolute;border-left: 1px solid gray;box-sizing: border-box;top: 0;bottom: 0;left: 50%;z-index: 0;}#sk-container-id-4 div.sk-serial {display: flex;flex-direction: column;align-items: center;background-color: white;padding-right: 0.2em;padding-left: 0.2em;position: relative;}#sk-container-id-4 div.sk-item {position: relative;z-index: 1;}#sk-container-id-4 div.sk-parallel {display: flex;align-items: stretch;justify-content: center;background-color: white;position: relative;}#sk-container-id-4 div.sk-item::before, #sk-container-id-4 div.sk-parallel-item::before {content: \"\";position: absolute;border-left: 1px solid gray;box-sizing: border-box;top: 0;bottom: 0;left: 50%;z-index: -1;}#sk-container-id-4 div.sk-parallel-item {display: flex;flex-direction: column;z-index: 1;position: relative;background-color: white;}#sk-container-id-4 div.sk-parallel-item:first-child::after {align-self: flex-end;width: 50%;}#sk-container-id-4 div.sk-parallel-item:last-child::after {align-self: flex-start;width: 50%;}#sk-container-id-4 div.sk-parallel-item:only-child::after {width: 0;}#sk-container-id-4 div.sk-dashed-wrapped {border: 1px dashed gray;margin: 0 0.4em 0.5em 0.4em;box-sizing: border-box;padding-bottom: 0.4em;background-color: white;}#sk-container-id-4 div.sk-label label {font-family: monospace;font-weight: bold;display: inline-block;line-height: 1.2em;}#sk-container-id-4 div.sk-label-container {text-align: center;}#sk-container-id-4 div.sk-container {/* jupyter's `normalize.less` sets `[hidden] { display: none; }` but bootstrap.min.css set `[hidden] { display: none !important; }` so we also need the `!important` here to be able to override the default hidden behavior on the sphinx rendered scikit-learn.org. See: https://github.com/scikit-learn/scikit-learn/issues/21755 */display: inline-block !important;position: relative;}#sk-container-id-4 div.sk-text-repr-fallback {display: none;}</style><div id=\"sk-container-id-4\" class=\"sk-top-container\"><div class=\"sk-text-repr-fallback\"><pre>GridSearchCV(cv=3, estimator=RandomForestClassifier(),\n             param_grid={&#x27;bootstrap&#x27;: [True, False], &#x27;max_depth&#x27;: [25, 40],\n                         &#x27;min_samples_leaf&#x27;: [2, 3], &#x27;n_estimators&#x27;: [80, 160],\n                         &#x27;random_state&#x27;: [42]},\n             scoring=&lt;function f1_macro at 0x7d04a78655a0&gt;)</pre><b>In a Jupyter environment, please rerun this cell to show the HTML representation or trust the notebook. <br />On GitHub, the HTML representation is unable to render, please try loading this page with nbviewer.org.</b></div><div class=\"sk-container\" hidden><div class=\"sk-item sk-dashed-wrapped\"><div class=\"sk-label-container\"><div class=\"sk-label sk-toggleable\"><input class=\"sk-toggleable__control sk-hidden--visually\" id=\"sk-estimator-id-10\" type=\"checkbox\" ><label for=\"sk-estimator-id-10\" class=\"sk-toggleable__label sk-toggleable__label-arrow\">GridSearchCV</label><div class=\"sk-toggleable__content\"><pre>GridSearchCV(cv=3, estimator=RandomForestClassifier(),\n             param_grid={&#x27;bootstrap&#x27;: [True, False], &#x27;max_depth&#x27;: [25, 40],\n                         &#x27;min_samples_leaf&#x27;: [2, 3], &#x27;n_estimators&#x27;: [80, 160],\n                         &#x27;random_state&#x27;: [42]},\n             scoring=&lt;function f1_macro at 0x7d04a78655a0&gt;)</pre></div></div></div><div class=\"sk-parallel\"><div class=\"sk-parallel-item\"><div class=\"sk-item\"><div class=\"sk-label-container\"><div class=\"sk-label sk-toggleable\"><input class=\"sk-toggleable__control sk-hidden--visually\" id=\"sk-estimator-id-11\" type=\"checkbox\" ><label for=\"sk-estimator-id-11\" class=\"sk-toggleable__label sk-toggleable__label-arrow\">estimator: RandomForestClassifier</label><div class=\"sk-toggleable__content\"><pre>RandomForestClassifier()</pre></div></div></div><div class=\"sk-serial\"><div class=\"sk-item\"><div class=\"sk-estimator sk-toggleable\"><input class=\"sk-toggleable__control sk-hidden--visually\" id=\"sk-estimator-id-12\" type=\"checkbox\" ><label for=\"sk-estimator-id-12\" class=\"sk-toggleable__label sk-toggleable__label-arrow\">RandomForestClassifier</label><div class=\"sk-toggleable__content\"><pre>RandomForestClassifier()</pre></div></div></div></div></div></div></div></div></div></div>"
          },
          "metadata": {}
        }
      ]
    },
    {
      "cell_type": "code",
      "source": [
        "grid_rf_macro.best_params_"
      ],
      "metadata": {
        "colab": {
          "base_uri": "https://localhost:8080/"
        },
        "id": "79g8pdL37WOP",
        "outputId": "a0716219-30ac-44bd-a569-cbe97a95a5ac",
        "execution": {
          "iopub.status.busy": "2023-12-18T11:51:14.582995Z",
          "iopub.execute_input": "2023-12-18T11:51:14.583294Z",
          "iopub.status.idle": "2023-12-18T11:51:14.589283Z",
          "shell.execute_reply.started": "2023-12-18T11:51:14.583267Z",
          "shell.execute_reply": "2023-12-18T11:51:14.588408Z"
        },
        "trusted": true
      },
      "execution_count": null,
      "outputs": [
        {
          "execution_count": 98,
          "output_type": "execute_result",
          "data": {
            "text/plain": "{'bootstrap': False,\n 'max_depth': 25,\n 'min_samples_leaf': 2,\n 'n_estimators': 160,\n 'random_state': 42}"
          },
          "metadata": {}
        }
      ]
    },
    {
      "cell_type": "code",
      "source": [
        "rf_macro = RandomForestClassifier(**grid_rf_macro.best_params_)\n",
        "rf_macro.fit(X_train_, y_train_)\n",
        "f1_score(y_test_, rf_macro.predict(X_test_), average='macro')"
      ],
      "metadata": {
        "colab": {
          "base_uri": "https://localhost:8080/"
        },
        "id": "lww8vjOb73PH",
        "outputId": "7d4f2160-03b7-4bb6-e545-74f0b2b4af93",
        "execution": {
          "iopub.status.busy": "2023-12-18T11:52:52.010255Z",
          "iopub.execute_input": "2023-12-18T11:52:52.011006Z",
          "iopub.status.idle": "2023-12-18T11:53:01.412523Z",
          "shell.execute_reply.started": "2023-12-18T11:52:52.010974Z",
          "shell.execute_reply": "2023-12-18T11:53:01.411647Z"
        },
        "trusted": true
      },
      "execution_count": null,
      "outputs": [
        {
          "execution_count": 99,
          "output_type": "execute_result",
          "data": {
            "text/plain": "0.84654679793817"
          },
          "metadata": {}
        }
      ]
    },
    {
      "cell_type": "code",
      "source": [
        "from sklearn.linear_model import SGDClassifier\n",
        "\n",
        "#Подбираем линейный классификатор, а также его параметры\n",
        "loss = ['hinge', 'log_loss', 'modified_huber', 'squared_hinge']\n",
        "shuffle = [True]\n",
        "max_iter = [100, 500, 1000]\n",
        "penalty = ['l2', 'elasticnet']\n",
        "alpha = [0.0001, 0.001]\n",
        "\n",
        "param_grid = {\n",
        "    'loss': loss,\n",
        "    'shuffle': shuffle,\n",
        "    'max_iter': max_iter,\n",
        "    'penalty': penalty,\n",
        "    'alpha': alpha,\n",
        "    'random_state': [42],\n",
        "}\n",
        "\n",
        "sgd = SGDClassifier()\n",
        "grid_sgd_macro = GridSearchCV(estimator=sgd, param_grid=param_grid, cv=3, scoring=f1_macro)\n",
        "grid_sgd_macro.fit(X_train_, y_train_.ravel())"
      ],
      "metadata": {
        "colab": {
          "base_uri": "https://localhost:8080/"
        },
        "id": "aqAsMhnH-exr",
        "outputId": "3d91d672-4bc7-42fd-83d7-a6e82688bb71",
        "execution": {
          "iopub.status.busy": "2023-12-18T11:53:44.393163Z",
          "iopub.execute_input": "2023-12-18T11:53:44.393533Z",
          "iopub.status.idle": "2023-12-18T12:01:17.836136Z",
          "shell.execute_reply.started": "2023-12-18T11:53:44.393502Z",
          "shell.execute_reply": "2023-12-18T12:01:17.835171Z"
        },
        "trusted": true
      },
      "execution_count": null,
      "outputs": [
        {
          "execution_count": 100,
          "output_type": "execute_result",
          "data": {
            "text/plain": "GridSearchCV(cv=3, estimator=SGDClassifier(),\n             param_grid={'alpha': [0.0001, 0.001], 'class_weight': ['balanced'],\n                         'loss': ['hinge', 'log_loss', 'modified_huber',\n                                  'squared_hinge'],\n                         'max_iter': [1000, 1500, 2000],\n                         'penalty': ['l2', 'elasticnet'], 'random_state': [42],\n                         'shuffle': [True]},\n             scoring=<function f1_macro at 0x7d04a78655a0>)",
            "text/html": "<style>#sk-container-id-5 {color: black;background-color: white;}#sk-container-id-5 pre{padding: 0;}#sk-container-id-5 div.sk-toggleable {background-color: white;}#sk-container-id-5 label.sk-toggleable__label {cursor: pointer;display: block;width: 100%;margin-bottom: 0;padding: 0.3em;box-sizing: border-box;text-align: center;}#sk-container-id-5 label.sk-toggleable__label-arrow:before {content: \"▸\";float: left;margin-right: 0.25em;color: #696969;}#sk-container-id-5 label.sk-toggleable__label-arrow:hover:before {color: black;}#sk-container-id-5 div.sk-estimator:hover label.sk-toggleable__label-arrow:before {color: black;}#sk-container-id-5 div.sk-toggleable__content {max-height: 0;max-width: 0;overflow: hidden;text-align: left;background-color: #f0f8ff;}#sk-container-id-5 div.sk-toggleable__content pre {margin: 0.2em;color: black;border-radius: 0.25em;background-color: #f0f8ff;}#sk-container-id-5 input.sk-toggleable__control:checked~div.sk-toggleable__content {max-height: 200px;max-width: 100%;overflow: auto;}#sk-container-id-5 input.sk-toggleable__control:checked~label.sk-toggleable__label-arrow:before {content: \"▾\";}#sk-container-id-5 div.sk-estimator input.sk-toggleable__control:checked~label.sk-toggleable__label {background-color: #d4ebff;}#sk-container-id-5 div.sk-label input.sk-toggleable__control:checked~label.sk-toggleable__label {background-color: #d4ebff;}#sk-container-id-5 input.sk-hidden--visually {border: 0;clip: rect(1px 1px 1px 1px);clip: rect(1px, 1px, 1px, 1px);height: 1px;margin: -1px;overflow: hidden;padding: 0;position: absolute;width: 1px;}#sk-container-id-5 div.sk-estimator {font-family: monospace;background-color: #f0f8ff;border: 1px dotted black;border-radius: 0.25em;box-sizing: border-box;margin-bottom: 0.5em;}#sk-container-id-5 div.sk-estimator:hover {background-color: #d4ebff;}#sk-container-id-5 div.sk-parallel-item::after {content: \"\";width: 100%;border-bottom: 1px solid gray;flex-grow: 1;}#sk-container-id-5 div.sk-label:hover label.sk-toggleable__label {background-color: #d4ebff;}#sk-container-id-5 div.sk-serial::before {content: \"\";position: absolute;border-left: 1px solid gray;box-sizing: border-box;top: 0;bottom: 0;left: 50%;z-index: 0;}#sk-container-id-5 div.sk-serial {display: flex;flex-direction: column;align-items: center;background-color: white;padding-right: 0.2em;padding-left: 0.2em;position: relative;}#sk-container-id-5 div.sk-item {position: relative;z-index: 1;}#sk-container-id-5 div.sk-parallel {display: flex;align-items: stretch;justify-content: center;background-color: white;position: relative;}#sk-container-id-5 div.sk-item::before, #sk-container-id-5 div.sk-parallel-item::before {content: \"\";position: absolute;border-left: 1px solid gray;box-sizing: border-box;top: 0;bottom: 0;left: 50%;z-index: -1;}#sk-container-id-5 div.sk-parallel-item {display: flex;flex-direction: column;z-index: 1;position: relative;background-color: white;}#sk-container-id-5 div.sk-parallel-item:first-child::after {align-self: flex-end;width: 50%;}#sk-container-id-5 div.sk-parallel-item:last-child::after {align-self: flex-start;width: 50%;}#sk-container-id-5 div.sk-parallel-item:only-child::after {width: 0;}#sk-container-id-5 div.sk-dashed-wrapped {border: 1px dashed gray;margin: 0 0.4em 0.5em 0.4em;box-sizing: border-box;padding-bottom: 0.4em;background-color: white;}#sk-container-id-5 div.sk-label label {font-family: monospace;font-weight: bold;display: inline-block;line-height: 1.2em;}#sk-container-id-5 div.sk-label-container {text-align: center;}#sk-container-id-5 div.sk-container {/* jupyter's `normalize.less` sets `[hidden] { display: none; }` but bootstrap.min.css set `[hidden] { display: none !important; }` so we also need the `!important` here to be able to override the default hidden behavior on the sphinx rendered scikit-learn.org. See: https://github.com/scikit-learn/scikit-learn/issues/21755 */display: inline-block !important;position: relative;}#sk-container-id-5 div.sk-text-repr-fallback {display: none;}</style><div id=\"sk-container-id-5\" class=\"sk-top-container\"><div class=\"sk-text-repr-fallback\"><pre>GridSearchCV(cv=3, estimator=SGDClassifier(),\n             param_grid={&#x27;alpha&#x27;: [0.0001, 0.001], &#x27;class_weight&#x27;: [&#x27;balanced&#x27;],\n                         &#x27;loss&#x27;: [&#x27;hinge&#x27;, &#x27;log_loss&#x27;, &#x27;modified_huber&#x27;,\n                                  &#x27;squared_hinge&#x27;],\n                         &#x27;max_iter&#x27;: [1000, 1500, 2000],\n                         &#x27;penalty&#x27;: [&#x27;l2&#x27;, &#x27;elasticnet&#x27;], &#x27;random_state&#x27;: [42],\n                         &#x27;shuffle&#x27;: [True]},\n             scoring=&lt;function f1_macro at 0x7d04a78655a0&gt;)</pre><b>In a Jupyter environment, please rerun this cell to show the HTML representation or trust the notebook. <br />On GitHub, the HTML representation is unable to render, please try loading this page with nbviewer.org.</b></div><div class=\"sk-container\" hidden><div class=\"sk-item sk-dashed-wrapped\"><div class=\"sk-label-container\"><div class=\"sk-label sk-toggleable\"><input class=\"sk-toggleable__control sk-hidden--visually\" id=\"sk-estimator-id-13\" type=\"checkbox\" ><label for=\"sk-estimator-id-13\" class=\"sk-toggleable__label sk-toggleable__label-arrow\">GridSearchCV</label><div class=\"sk-toggleable__content\"><pre>GridSearchCV(cv=3, estimator=SGDClassifier(),\n             param_grid={&#x27;alpha&#x27;: [0.0001, 0.001], &#x27;class_weight&#x27;: [&#x27;balanced&#x27;],\n                         &#x27;loss&#x27;: [&#x27;hinge&#x27;, &#x27;log_loss&#x27;, &#x27;modified_huber&#x27;,\n                                  &#x27;squared_hinge&#x27;],\n                         &#x27;max_iter&#x27;: [1000, 1500, 2000],\n                         &#x27;penalty&#x27;: [&#x27;l2&#x27;, &#x27;elasticnet&#x27;], &#x27;random_state&#x27;: [42],\n                         &#x27;shuffle&#x27;: [True]},\n             scoring=&lt;function f1_macro at 0x7d04a78655a0&gt;)</pre></div></div></div><div class=\"sk-parallel\"><div class=\"sk-parallel-item\"><div class=\"sk-item\"><div class=\"sk-label-container\"><div class=\"sk-label sk-toggleable\"><input class=\"sk-toggleable__control sk-hidden--visually\" id=\"sk-estimator-id-14\" type=\"checkbox\" ><label for=\"sk-estimator-id-14\" class=\"sk-toggleable__label sk-toggleable__label-arrow\">estimator: SGDClassifier</label><div class=\"sk-toggleable__content\"><pre>SGDClassifier()</pre></div></div></div><div class=\"sk-serial\"><div class=\"sk-item\"><div class=\"sk-estimator sk-toggleable\"><input class=\"sk-toggleable__control sk-hidden--visually\" id=\"sk-estimator-id-15\" type=\"checkbox\" ><label for=\"sk-estimator-id-15\" class=\"sk-toggleable__label sk-toggleable__label-arrow\">SGDClassifier</label><div class=\"sk-toggleable__content\"><pre>SGDClassifier()</pre></div></div></div></div></div></div></div></div></div></div>"
          },
          "metadata": {}
        }
      ]
    },
    {
      "cell_type": "code",
      "source": [
        "grid_sgd_macro.best_params_"
      ],
      "metadata": {
        "colab": {
          "base_uri": "https://localhost:8080/"
        },
        "id": "BzdROkWFAKok",
        "outputId": "ad3dde4d-5643-4cf6-b186-ad20393831e5",
        "execution": {
          "iopub.status.busy": "2023-12-18T12:01:17.838123Z",
          "iopub.execute_input": "2023-12-18T12:01:17.838513Z",
          "iopub.status.idle": "2023-12-18T12:01:17.846824Z",
          "shell.execute_reply.started": "2023-12-18T12:01:17.838478Z",
          "shell.execute_reply": "2023-12-18T12:01:17.846051Z"
        },
        "trusted": true
      },
      "execution_count": null,
      "outputs": [
        {
          "execution_count": 101,
          "output_type": "execute_result",
          "data": {
            "text/plain": "{'alpha': 0.0001,\n 'class_weight': 'balanced',\n 'loss': 'squared_hinge',\n 'max_iter': 1000,\n 'penalty': 'l2',\n 'random_state': 42,\n 'shuffle': True}"
          },
          "metadata": {}
        }
      ]
    },
    {
      "cell_type": "code",
      "source": [
        "sgd_macro = SGDClassifier(**grid_sgd_macro.best_params_)\n",
        "sgd_macro.fit(X_train_, y_train_)\n",
        "f1_score(y_test_, sgd_macro.predict(X_test_), average='macro')"
      ],
      "metadata": {
        "colab": {
          "base_uri": "https://localhost:8080/"
        },
        "id": "NJAzFR2PAQMO",
        "outputId": "8b3eaf4a-f5c2-43b6-da29-1fa2c537c539",
        "execution": {
          "iopub.status.busy": "2023-12-18T12:03:16.198275Z",
          "iopub.execute_input": "2023-12-18T12:03:16.199206Z",
          "iopub.status.idle": "2023-12-18T12:03:24.220144Z",
          "shell.execute_reply.started": "2023-12-18T12:03:16.199172Z",
          "shell.execute_reply": "2023-12-18T12:03:24.218477Z"
        },
        "trusted": true
      },
      "execution_count": null,
      "outputs": [
        {
          "execution_count": 103,
          "output_type": "execute_result",
          "data": {
            "text/plain": "0.5436843774017626"
          },
          "metadata": {}
        }
      ]
    },
    {
      "cell_type": "code",
      "source": [
        "from lightgbm import LGBMClassifier\n",
        "\n",
        "#Тюним LGBM\n",
        "param_grid = {\n",
        "    'num_leaves': [31, 60],\n",
        "    'learning_rate': [0.1],\n",
        "    'n_estimators': [200, 300],\n",
        "    \"objective\": [\"multiclass\"],\n",
        "    \"num_classes\": [8],\n",
        "    \"random_state\": [42],\n",
        "}\n",
        "lgb = LGBMClassifier(verbose=-1)\n",
        "grid_lgb_macro = GridSearchCV(estimator=lgb, param_grid=param_grid, cv=3, scoring=f1_macro)\n",
        "grid_lgb_macro.fit(X_train_, y_train_.ravel())"
      ],
      "metadata": {
        "colab": {
          "base_uri": "https://localhost:8080/"
        },
        "id": "fmiN1_rOBAeh",
        "outputId": "6e8e0cf6-c6d2-414a-b128-0055c4c1cf19",
        "execution": {
          "iopub.status.busy": "2023-12-18T12:11:07.333681Z",
          "iopub.execute_input": "2023-12-18T12:11:07.334859Z",
          "iopub.status.idle": "2023-12-18T12:13:50.673681Z",
          "shell.execute_reply.started": "2023-12-18T12:11:07.334821Z",
          "shell.execute_reply": "2023-12-18T12:13:50.672741Z"
        },
        "trusted": true
      },
      "execution_count": null,
      "outputs": [
        {
          "execution_count": 108,
          "output_type": "execute_result",
          "data": {
            "text/plain": "GridSearchCV(cv=3, estimator=LGBMClassifier(verbose=-1),\n             param_grid={'learning_rate': [0.1], 'n_estimators': [200, 300],\n                         'num_classes': [8], 'num_leaves': [31, 60],\n                         'objective': ['multiclass'], 'random_state': [42]},\n             scoring=<function f1_macro at 0x7d04a78655a0>)",
            "text/html": "<style>#sk-container-id-7 {color: black;background-color: white;}#sk-container-id-7 pre{padding: 0;}#sk-container-id-7 div.sk-toggleable {background-color: white;}#sk-container-id-7 label.sk-toggleable__label {cursor: pointer;display: block;width: 100%;margin-bottom: 0;padding: 0.3em;box-sizing: border-box;text-align: center;}#sk-container-id-7 label.sk-toggleable__label-arrow:before {content: \"▸\";float: left;margin-right: 0.25em;color: #696969;}#sk-container-id-7 label.sk-toggleable__label-arrow:hover:before {color: black;}#sk-container-id-7 div.sk-estimator:hover label.sk-toggleable__label-arrow:before {color: black;}#sk-container-id-7 div.sk-toggleable__content {max-height: 0;max-width: 0;overflow: hidden;text-align: left;background-color: #f0f8ff;}#sk-container-id-7 div.sk-toggleable__content pre {margin: 0.2em;color: black;border-radius: 0.25em;background-color: #f0f8ff;}#sk-container-id-7 input.sk-toggleable__control:checked~div.sk-toggleable__content {max-height: 200px;max-width: 100%;overflow: auto;}#sk-container-id-7 input.sk-toggleable__control:checked~label.sk-toggleable__label-arrow:before {content: \"▾\";}#sk-container-id-7 div.sk-estimator input.sk-toggleable__control:checked~label.sk-toggleable__label {background-color: #d4ebff;}#sk-container-id-7 div.sk-label input.sk-toggleable__control:checked~label.sk-toggleable__label {background-color: #d4ebff;}#sk-container-id-7 input.sk-hidden--visually {border: 0;clip: rect(1px 1px 1px 1px);clip: rect(1px, 1px, 1px, 1px);height: 1px;margin: -1px;overflow: hidden;padding: 0;position: absolute;width: 1px;}#sk-container-id-7 div.sk-estimator {font-family: monospace;background-color: #f0f8ff;border: 1px dotted black;border-radius: 0.25em;box-sizing: border-box;margin-bottom: 0.5em;}#sk-container-id-7 div.sk-estimator:hover {background-color: #d4ebff;}#sk-container-id-7 div.sk-parallel-item::after {content: \"\";width: 100%;border-bottom: 1px solid gray;flex-grow: 1;}#sk-container-id-7 div.sk-label:hover label.sk-toggleable__label {background-color: #d4ebff;}#sk-container-id-7 div.sk-serial::before {content: \"\";position: absolute;border-left: 1px solid gray;box-sizing: border-box;top: 0;bottom: 0;left: 50%;z-index: 0;}#sk-container-id-7 div.sk-serial {display: flex;flex-direction: column;align-items: center;background-color: white;padding-right: 0.2em;padding-left: 0.2em;position: relative;}#sk-container-id-7 div.sk-item {position: relative;z-index: 1;}#sk-container-id-7 div.sk-parallel {display: flex;align-items: stretch;justify-content: center;background-color: white;position: relative;}#sk-container-id-7 div.sk-item::before, #sk-container-id-7 div.sk-parallel-item::before {content: \"\";position: absolute;border-left: 1px solid gray;box-sizing: border-box;top: 0;bottom: 0;left: 50%;z-index: -1;}#sk-container-id-7 div.sk-parallel-item {display: flex;flex-direction: column;z-index: 1;position: relative;background-color: white;}#sk-container-id-7 div.sk-parallel-item:first-child::after {align-self: flex-end;width: 50%;}#sk-container-id-7 div.sk-parallel-item:last-child::after {align-self: flex-start;width: 50%;}#sk-container-id-7 div.sk-parallel-item:only-child::after {width: 0;}#sk-container-id-7 div.sk-dashed-wrapped {border: 1px dashed gray;margin: 0 0.4em 0.5em 0.4em;box-sizing: border-box;padding-bottom: 0.4em;background-color: white;}#sk-container-id-7 div.sk-label label {font-family: monospace;font-weight: bold;display: inline-block;line-height: 1.2em;}#sk-container-id-7 div.sk-label-container {text-align: center;}#sk-container-id-7 div.sk-container {/* jupyter's `normalize.less` sets `[hidden] { display: none; }` but bootstrap.min.css set `[hidden] { display: none !important; }` so we also need the `!important` here to be able to override the default hidden behavior on the sphinx rendered scikit-learn.org. See: https://github.com/scikit-learn/scikit-learn/issues/21755 */display: inline-block !important;position: relative;}#sk-container-id-7 div.sk-text-repr-fallback {display: none;}</style><div id=\"sk-container-id-7\" class=\"sk-top-container\"><div class=\"sk-text-repr-fallback\"><pre>GridSearchCV(cv=3, estimator=LGBMClassifier(verbose=-1),\n             param_grid={&#x27;learning_rate&#x27;: [0.1], &#x27;n_estimators&#x27;: [200, 300],\n                         &#x27;num_classes&#x27;: [8], &#x27;num_leaves&#x27;: [31, 60],\n                         &#x27;objective&#x27;: [&#x27;multiclass&#x27;], &#x27;random_state&#x27;: [42]},\n             scoring=&lt;function f1_macro at 0x7d04a78655a0&gt;)</pre><b>In a Jupyter environment, please rerun this cell to show the HTML representation or trust the notebook. <br />On GitHub, the HTML representation is unable to render, please try loading this page with nbviewer.org.</b></div><div class=\"sk-container\" hidden><div class=\"sk-item sk-dashed-wrapped\"><div class=\"sk-label-container\"><div class=\"sk-label sk-toggleable\"><input class=\"sk-toggleable__control sk-hidden--visually\" id=\"sk-estimator-id-19\" type=\"checkbox\" ><label for=\"sk-estimator-id-19\" class=\"sk-toggleable__label sk-toggleable__label-arrow\">GridSearchCV</label><div class=\"sk-toggleable__content\"><pre>GridSearchCV(cv=3, estimator=LGBMClassifier(verbose=-1),\n             param_grid={&#x27;learning_rate&#x27;: [0.1], &#x27;n_estimators&#x27;: [200, 300],\n                         &#x27;num_classes&#x27;: [8], &#x27;num_leaves&#x27;: [31, 60],\n                         &#x27;objective&#x27;: [&#x27;multiclass&#x27;], &#x27;random_state&#x27;: [42]},\n             scoring=&lt;function f1_macro at 0x7d04a78655a0&gt;)</pre></div></div></div><div class=\"sk-parallel\"><div class=\"sk-parallel-item\"><div class=\"sk-item\"><div class=\"sk-label-container\"><div class=\"sk-label sk-toggleable\"><input class=\"sk-toggleable__control sk-hidden--visually\" id=\"sk-estimator-id-20\" type=\"checkbox\" ><label for=\"sk-estimator-id-20\" class=\"sk-toggleable__label sk-toggleable__label-arrow\">estimator: LGBMClassifier</label><div class=\"sk-toggleable__content\"><pre>LGBMClassifier(verbose=-1)</pre></div></div></div><div class=\"sk-serial\"><div class=\"sk-item\"><div class=\"sk-estimator sk-toggleable\"><input class=\"sk-toggleable__control sk-hidden--visually\" id=\"sk-estimator-id-21\" type=\"checkbox\" ><label for=\"sk-estimator-id-21\" class=\"sk-toggleable__label sk-toggleable__label-arrow\">LGBMClassifier</label><div class=\"sk-toggleable__content\"><pre>LGBMClassifier(verbose=-1)</pre></div></div></div></div></div></div></div></div></div></div>"
          },
          "metadata": {}
        }
      ]
    },
    {
      "cell_type": "code",
      "source": [
        "grid_lgb_macro.best_params_"
      ],
      "metadata": {
        "colab": {
          "base_uri": "https://localhost:8080/"
        },
        "id": "02-8EsqxGnmd",
        "outputId": "b11ff558-e69b-4d6b-d07e-6c5aea83e6d6",
        "execution": {
          "iopub.status.busy": "2023-12-18T12:13:50.675545Z",
          "iopub.execute_input": "2023-12-18T12:13:50.675957Z",
          "iopub.status.idle": "2023-12-18T12:13:50.682258Z",
          "shell.execute_reply.started": "2023-12-18T12:13:50.675912Z",
          "shell.execute_reply": "2023-12-18T12:13:50.681356Z"
        },
        "trusted": true
      },
      "execution_count": null,
      "outputs": [
        {
          "execution_count": 109,
          "output_type": "execute_result",
          "data": {
            "text/plain": "{'learning_rate': 0.1,\n 'n_estimators': 200,\n 'num_classes': 8,\n 'num_leaves': 31,\n 'objective': 'multiclass',\n 'random_state': 42}"
          },
          "metadata": {}
        }
      ]
    },
    {
      "cell_type": "code",
      "source": [
        "lgb_macro = LGBMClassifier(**grid_lgb_macro.best_params_ , verbose=-1)\n",
        "lgb_macro.fit(X_train_, y_train_)\n",
        "f1_score(y_test_, lgb_macro.predict(X_test_), average=None)"
      ],
      "metadata": {
        "colab": {
          "base_uri": "https://localhost:8080/"
        },
        "id": "oej7PVPVIwGz",
        "outputId": "2c633bdb-b018-4f50-c52b-e9b7e6d8d998",
        "execution": {
          "iopub.status.busy": "2023-12-18T12:14:35.506361Z",
          "iopub.execute_input": "2023-12-18T12:14:35.506998Z",
          "iopub.status.idle": "2023-12-18T12:14:48.345448Z",
          "shell.execute_reply.started": "2023-12-18T12:14:35.506968Z",
          "shell.execute_reply": "2023-12-18T12:14:48.344428Z"
        },
        "trusted": true
      },
      "execution_count": null,
      "outputs": [
        {
          "execution_count": 110,
          "output_type": "execute_result",
          "data": {
            "text/plain": "array([0.66666667, 0.93159609, 0.88401254, 0.6006006 , 0.94769231,\n       0.93197279, 0.84385382, 0.93294461])"
          },
          "metadata": {}
        }
      ]
    },
    {
      "cell_type": "code",
      "source": [
        "f1_score(y_test_, lgb_macro.predict(X_test_), average='macro')"
      ],
      "metadata": {
        "execution": {
          "iopub.status.busy": "2023-12-18T12:14:52.618599Z",
          "iopub.execute_input": "2023-12-18T12:14:52.619305Z",
          "iopub.status.idle": "2023-12-18T12:14:52.751635Z",
          "shell.execute_reply.started": "2023-12-18T12:14:52.619271Z",
          "shell.execute_reply": "2023-12-18T12:14:52.750734Z"
        },
        "trusted": true,
        "id": "T2C-0ta-v-KZ",
        "outputId": "ba0ba8bf-7e18-48de-d427-ffa3fefa88d2"
      },
      "execution_count": null,
      "outputs": [
        {
          "execution_count": 111,
          "output_type": "execute_result",
          "data": {
            "text/plain": "0.8424174276846733"
          },
          "metadata": {}
        }
      ]
    },
    {
      "cell_type": "code",
      "source": [
        "from xgboost import XGBClassifier\n",
        "\n",
        "#Тюним XGBoost\n",
        "param_grid = {\n",
        "    \"max_leaves\": [0],\n",
        "    \"objective\": [\"multiclass\"],\n",
        "    \"num_classes\": [8],\n",
        "    \"random_state\": [42],\n",
        "    \"max_depth\": [5, 6],\n",
        "    \"learning_rate\": [0.2],\n",
        "    \"n_estimators\": [300, 400],\n",
        "}\n",
        "\n",
        "xgb = XGBClassifier()\n",
        "grid_xgb_macro = GridSearchCV(estimator=xgb, param_grid=param_grid, cv=3, scoring=f1_macro)\n",
        "grid_xgb_macro.fit(X_train_, y_train_.ravel())"
      ],
      "metadata": {
        "colab": {
          "base_uri": "https://localhost:8080/"
        },
        "id": "eOSleKQ_dUgH",
        "outputId": "3a343711-7bf4-4d9a-f55e-15dade55eb21",
        "execution": {
          "iopub.status.busy": "2023-12-18T12:28:16.004535Z",
          "iopub.execute_input": "2023-12-18T12:28:16.005483Z",
          "iopub.status.idle": "2023-12-18T12:31:43.413007Z",
          "shell.execute_reply.started": "2023-12-18T12:28:16.005448Z",
          "shell.execute_reply": "2023-12-18T12:31:43.411958Z"
        },
        "trusted": true
      },
      "execution_count": null,
      "outputs": [
        {
          "execution_count": 119,
          "output_type": "execute_result",
          "data": {
            "text/plain": "GridSearchCV(cv=3,\n             estimator=XGBClassifier(base_score=None, booster=None,\n                                     callbacks=None, colsample_bylevel=None,\n                                     colsample_bynode=None,\n                                     colsample_bytree=None, device=None,\n                                     early_stopping_rounds=None,\n                                     enable_categorical=False, eval_metric=None,\n                                     feature_types=None, gamma=None,\n                                     grow_policy=None, importance_type=None,\n                                     interaction_constraints=None,\n                                     learning_rate=None,...\n                                     max_leaves=None, min_child_weight=None,\n                                     missing=nan, monotone_constraints=None,\n                                     multi_strategy=None, n_estimators=None,\n                                     n_jobs=None, num_parallel_tree=None,\n                                     random_state=None, ...),\n             param_grid={'learning_rate': [0.2], 'max_depth': [5, 6],\n                         'max_leaves': [0], 'n_estimators': [300, 400],\n                         'num_classes': [8], 'objective': ['multiclass'],\n                         'random_state': [42]},\n             scoring=<function f1_macro at 0x7d04a78655a0>)",
            "text/html": "<style>#sk-container-id-10 {color: black;background-color: white;}#sk-container-id-10 pre{padding: 0;}#sk-container-id-10 div.sk-toggleable {background-color: white;}#sk-container-id-10 label.sk-toggleable__label {cursor: pointer;display: block;width: 100%;margin-bottom: 0;padding: 0.3em;box-sizing: border-box;text-align: center;}#sk-container-id-10 label.sk-toggleable__label-arrow:before {content: \"▸\";float: left;margin-right: 0.25em;color: #696969;}#sk-container-id-10 label.sk-toggleable__label-arrow:hover:before {color: black;}#sk-container-id-10 div.sk-estimator:hover label.sk-toggleable__label-arrow:before {color: black;}#sk-container-id-10 div.sk-toggleable__content {max-height: 0;max-width: 0;overflow: hidden;text-align: left;background-color: #f0f8ff;}#sk-container-id-10 div.sk-toggleable__content pre {margin: 0.2em;color: black;border-radius: 0.25em;background-color: #f0f8ff;}#sk-container-id-10 input.sk-toggleable__control:checked~div.sk-toggleable__content {max-height: 200px;max-width: 100%;overflow: auto;}#sk-container-id-10 input.sk-toggleable__control:checked~label.sk-toggleable__label-arrow:before {content: \"▾\";}#sk-container-id-10 div.sk-estimator input.sk-toggleable__control:checked~label.sk-toggleable__label {background-color: #d4ebff;}#sk-container-id-10 div.sk-label input.sk-toggleable__control:checked~label.sk-toggleable__label {background-color: #d4ebff;}#sk-container-id-10 input.sk-hidden--visually {border: 0;clip: rect(1px 1px 1px 1px);clip: rect(1px, 1px, 1px, 1px);height: 1px;margin: -1px;overflow: hidden;padding: 0;position: absolute;width: 1px;}#sk-container-id-10 div.sk-estimator {font-family: monospace;background-color: #f0f8ff;border: 1px dotted black;border-radius: 0.25em;box-sizing: border-box;margin-bottom: 0.5em;}#sk-container-id-10 div.sk-estimator:hover {background-color: #d4ebff;}#sk-container-id-10 div.sk-parallel-item::after {content: \"\";width: 100%;border-bottom: 1px solid gray;flex-grow: 1;}#sk-container-id-10 div.sk-label:hover label.sk-toggleable__label {background-color: #d4ebff;}#sk-container-id-10 div.sk-serial::before {content: \"\";position: absolute;border-left: 1px solid gray;box-sizing: border-box;top: 0;bottom: 0;left: 50%;z-index: 0;}#sk-container-id-10 div.sk-serial {display: flex;flex-direction: column;align-items: center;background-color: white;padding-right: 0.2em;padding-left: 0.2em;position: relative;}#sk-container-id-10 div.sk-item {position: relative;z-index: 1;}#sk-container-id-10 div.sk-parallel {display: flex;align-items: stretch;justify-content: center;background-color: white;position: relative;}#sk-container-id-10 div.sk-item::before, #sk-container-id-10 div.sk-parallel-item::before {content: \"\";position: absolute;border-left: 1px solid gray;box-sizing: border-box;top: 0;bottom: 0;left: 50%;z-index: -1;}#sk-container-id-10 div.sk-parallel-item {display: flex;flex-direction: column;z-index: 1;position: relative;background-color: white;}#sk-container-id-10 div.sk-parallel-item:first-child::after {align-self: flex-end;width: 50%;}#sk-container-id-10 div.sk-parallel-item:last-child::after {align-self: flex-start;width: 50%;}#sk-container-id-10 div.sk-parallel-item:only-child::after {width: 0;}#sk-container-id-10 div.sk-dashed-wrapped {border: 1px dashed gray;margin: 0 0.4em 0.5em 0.4em;box-sizing: border-box;padding-bottom: 0.4em;background-color: white;}#sk-container-id-10 div.sk-label label {font-family: monospace;font-weight: bold;display: inline-block;line-height: 1.2em;}#sk-container-id-10 div.sk-label-container {text-align: center;}#sk-container-id-10 div.sk-container {/* jupyter's `normalize.less` sets `[hidden] { display: none; }` but bootstrap.min.css set `[hidden] { display: none !important; }` so we also need the `!important` here to be able to override the default hidden behavior on the sphinx rendered scikit-learn.org. See: https://github.com/scikit-learn/scikit-learn/issues/21755 */display: inline-block !important;position: relative;}#sk-container-id-10 div.sk-text-repr-fallback {display: none;}</style><div id=\"sk-container-id-10\" class=\"sk-top-container\"><div class=\"sk-text-repr-fallback\"><pre>GridSearchCV(cv=3,\n             estimator=XGBClassifier(base_score=None, booster=None,\n                                     callbacks=None, colsample_bylevel=None,\n                                     colsample_bynode=None,\n                                     colsample_bytree=None, device=None,\n                                     early_stopping_rounds=None,\n                                     enable_categorical=False, eval_metric=None,\n                                     feature_types=None, gamma=None,\n                                     grow_policy=None, importance_type=None,\n                                     interaction_constraints=None,\n                                     learning_rate=None,...\n                                     max_leaves=None, min_child_weight=None,\n                                     missing=nan, monotone_constraints=None,\n                                     multi_strategy=None, n_estimators=None,\n                                     n_jobs=None, num_parallel_tree=None,\n                                     random_state=None, ...),\n             param_grid={&#x27;learning_rate&#x27;: [0.2], &#x27;max_depth&#x27;: [5, 6],\n                         &#x27;max_leaves&#x27;: [0], &#x27;n_estimators&#x27;: [300, 400],\n                         &#x27;num_classes&#x27;: [8], &#x27;objective&#x27;: [&#x27;multiclass&#x27;],\n                         &#x27;random_state&#x27;: [42]},\n             scoring=&lt;function f1_macro at 0x7d04a78655a0&gt;)</pre><b>In a Jupyter environment, please rerun this cell to show the HTML representation or trust the notebook. <br />On GitHub, the HTML representation is unable to render, please try loading this page with nbviewer.org.</b></div><div class=\"sk-container\" hidden><div class=\"sk-item sk-dashed-wrapped\"><div class=\"sk-label-container\"><div class=\"sk-label sk-toggleable\"><input class=\"sk-toggleable__control sk-hidden--visually\" id=\"sk-estimator-id-28\" type=\"checkbox\" ><label for=\"sk-estimator-id-28\" class=\"sk-toggleable__label sk-toggleable__label-arrow\">GridSearchCV</label><div class=\"sk-toggleable__content\"><pre>GridSearchCV(cv=3,\n             estimator=XGBClassifier(base_score=None, booster=None,\n                                     callbacks=None, colsample_bylevel=None,\n                                     colsample_bynode=None,\n                                     colsample_bytree=None, device=None,\n                                     early_stopping_rounds=None,\n                                     enable_categorical=False, eval_metric=None,\n                                     feature_types=None, gamma=None,\n                                     grow_policy=None, importance_type=None,\n                                     interaction_constraints=None,\n                                     learning_rate=None,...\n                                     max_leaves=None, min_child_weight=None,\n                                     missing=nan, monotone_constraints=None,\n                                     multi_strategy=None, n_estimators=None,\n                                     n_jobs=None, num_parallel_tree=None,\n                                     random_state=None, ...),\n             param_grid={&#x27;learning_rate&#x27;: [0.2], &#x27;max_depth&#x27;: [5, 6],\n                         &#x27;max_leaves&#x27;: [0], &#x27;n_estimators&#x27;: [300, 400],\n                         &#x27;num_classes&#x27;: [8], &#x27;objective&#x27;: [&#x27;multiclass&#x27;],\n                         &#x27;random_state&#x27;: [42]},\n             scoring=&lt;function f1_macro at 0x7d04a78655a0&gt;)</pre></div></div></div><div class=\"sk-parallel\"><div class=\"sk-parallel-item\"><div class=\"sk-item\"><div class=\"sk-label-container\"><div class=\"sk-label sk-toggleable\"><input class=\"sk-toggleable__control sk-hidden--visually\" id=\"sk-estimator-id-29\" type=\"checkbox\" ><label for=\"sk-estimator-id-29\" class=\"sk-toggleable__label sk-toggleable__label-arrow\">estimator: XGBClassifier</label><div class=\"sk-toggleable__content\"><pre>XGBClassifier(base_score=None, booster=None, callbacks=None,\n              colsample_bylevel=None, colsample_bynode=None,\n              colsample_bytree=None, device=None, early_stopping_rounds=None,\n              enable_categorical=False, eval_metric=None, feature_types=None,\n              gamma=None, grow_policy=None, importance_type=None,\n              interaction_constraints=None, learning_rate=None, max_bin=None,\n              max_cat_threshold=None, max_cat_to_onehot=None,\n              max_delta_step=None, max_depth=None, max_leaves=None,\n              min_child_weight=None, missing=nan, monotone_constraints=None,\n              multi_strategy=None, n_estimators=None, n_jobs=None,\n              num_parallel_tree=None, random_state=None, ...)</pre></div></div></div><div class=\"sk-serial\"><div class=\"sk-item\"><div class=\"sk-estimator sk-toggleable\"><input class=\"sk-toggleable__control sk-hidden--visually\" id=\"sk-estimator-id-30\" type=\"checkbox\" ><label for=\"sk-estimator-id-30\" class=\"sk-toggleable__label sk-toggleable__label-arrow\">XGBClassifier</label><div class=\"sk-toggleable__content\"><pre>XGBClassifier(base_score=None, booster=None, callbacks=None,\n              colsample_bylevel=None, colsample_bynode=None,\n              colsample_bytree=None, device=None, early_stopping_rounds=None,\n              enable_categorical=False, eval_metric=None, feature_types=None,\n              gamma=None, grow_policy=None, importance_type=None,\n              interaction_constraints=None, learning_rate=None, max_bin=None,\n              max_cat_threshold=None, max_cat_to_onehot=None,\n              max_delta_step=None, max_depth=None, max_leaves=None,\n              min_child_weight=None, missing=nan, monotone_constraints=None,\n              multi_strategy=None, n_estimators=None, n_jobs=None,\n              num_parallel_tree=None, random_state=None, ...)</pre></div></div></div></div></div></div></div></div></div></div>"
          },
          "metadata": {}
        }
      ]
    },
    {
      "cell_type": "code",
      "source": [
        "grid_xgb_macro.best_params_"
      ],
      "metadata": {
        "execution": {
          "iopub.status.busy": "2023-12-18T12:39:03.452909Z",
          "iopub.execute_input": "2023-12-18T12:39:03.453329Z",
          "iopub.status.idle": "2023-12-18T12:39:03.459826Z",
          "shell.execute_reply.started": "2023-12-18T12:39:03.453299Z",
          "shell.execute_reply": "2023-12-18T12:39:03.458937Z"
        },
        "trusted": true,
        "id": "XGIXBeNlv-Kb",
        "outputId": "d745e4d9-a78c-4a48-caf6-33811160ee31"
      },
      "execution_count": null,
      "outputs": [
        {
          "execution_count": 120,
          "output_type": "execute_result",
          "data": {
            "text/plain": "{'learning_rate': 0.2,\n 'max_depth': 6,\n 'max_leaves': 0,\n 'n_estimators': 400,\n 'num_classes': 8,\n 'objective': 'multiclass',\n 'random_state': 42}"
          },
          "metadata": {}
        }
      ]
    },
    {
      "cell_type": "code",
      "source": [
        "xgb_macro = XGBClassifier(**grid_xgb_macro.best_params_ , verbose=-1)\n",
        "xgb_macro.fit(X_train_, y_train_)\n",
        "f1_score(y_test_, xgb_macro.predict(X_test_), average=None)"
      ],
      "metadata": {
        "colab": {
          "base_uri": "https://localhost:8080/"
        },
        "id": "HD4TEcxPe6iQ",
        "outputId": "21b7dab0-4ae9-440a-a2b0-93712f1d2f5b",
        "execution": {
          "iopub.status.busy": "2023-12-18T12:39:10.405081Z",
          "iopub.execute_input": "2023-12-18T12:39:10.405941Z",
          "iopub.status.idle": "2023-12-18T12:39:33.698648Z",
          "shell.execute_reply.started": "2023-12-18T12:39:10.405907Z",
          "shell.execute_reply": "2023-12-18T12:39:33.697854Z"
        },
        "trusted": true
      },
      "execution_count": null,
      "outputs": [
        {
          "execution_count": 121,
          "output_type": "execute_result",
          "data": {
            "text/plain": "array([0.69127517, 0.9201278 , 0.87179487, 0.56393443, 0.93902439,\n       0.87581699, 0.83501684, 0.89635854])"
          },
          "metadata": {}
        }
      ]
    },
    {
      "cell_type": "code",
      "source": [
        "f1_score(y_test_, xgb_macro.predict(X_test_), average='macro')"
      ],
      "metadata": {
        "execution": {
          "iopub.status.busy": "2023-12-18T12:26:20.927518Z",
          "iopub.execute_input": "2023-12-18T12:26:20.928284Z",
          "iopub.status.idle": "2023-12-18T12:26:20.988216Z",
          "shell.execute_reply.started": "2023-12-18T12:26:20.928248Z",
          "shell.execute_reply": "2023-12-18T12:26:20.987199Z"
        },
        "trusted": true,
        "id": "5fDSmXBYv-Kc",
        "outputId": "6aa1caa0-5c81-415d-bf7c-6f751f6f9a57"
      },
      "execution_count": null,
      "outputs": [
        {
          "execution_count": 117,
          "output_type": "execute_result",
          "data": {
            "text/plain": "0.8360469794469084"
          },
          "metadata": {}
        }
      ]
    },
    {
      "cell_type": "code",
      "source": [
        "weights = [0.3, 0.1, 0.3, 0.3] #подобраны в соответствии с качеством, которое выдавала каждая модель\n",
        "ensemble = VotingClassifier(estimators=[('rf', rf_macro),\n",
        "                                        ('sgd', sgd_macro),\n",
        "                                        ('lgb',lgb_macro),\n",
        "                                        ('xgb', xgb_macro)],\n",
        "                            weights=weights, voting='hard')\n",
        "ensemble.fit(X_train_, y_train_)"
      ],
      "metadata": {
        "colab": {
          "base_uri": "https://localhost:8080/"
        },
        "id": "HS_BVXsfk02z",
        "outputId": "18a48eb4-4ac7-4226-a996-68fa68746365",
        "execution": {
          "iopub.status.busy": "2023-12-18T12:43:05.494393Z",
          "iopub.execute_input": "2023-12-18T12:43:05.495210Z",
          "iopub.status.idle": "2023-12-18T12:43:58.596329Z",
          "shell.execute_reply.started": "2023-12-18T12:43:05.495175Z",
          "shell.execute_reply": "2023-12-18T12:43:58.595348Z"
        },
        "trusted": true
      },
      "execution_count": null,
      "outputs": [
        {
          "execution_count": 124,
          "output_type": "execute_result",
          "data": {
            "text/plain": "VotingClassifier(estimators=[('rf',\n                              RandomForestClassifier(bootstrap=False,\n                                                     max_depth=25,\n                                                     min_samples_leaf=2,\n                                                     n_estimators=160,\n                                                     random_state=42)),\n                             ('sgd',\n                              SGDClassifier(class_weight='balanced',\n                                            loss='squared_hinge',\n                                            random_state=42)),\n                             ('lgb',\n                              LGBMClassifier(n_estimators=200, num_classes=8,\n                                             objective='multiclass',\n                                             random_state=42, verbose=-1)),\n                             ('xgb',\n                              XGBClassifier...\n                                            importance_type=None,\n                                            interaction_constraints=None,\n                                            learning_rate=0.2, max_bin=None,\n                                            max_cat_threshold=None,\n                                            max_cat_to_onehot=None,\n                                            max_delta_step=None, max_depth=6,\n                                            max_leaves=0, min_child_weight=None,\n                                            missing=nan,\n                                            monotone_constraints=None,\n                                            multi_strategy=None,\n                                            n_estimators=400, n_jobs=None,\n                                            num_classes=8,\n                                            num_parallel_tree=None, ...))],\n                 weights=[0.3, 0.1, 0.3, 0.3])",
            "text/html": "<style>#sk-container-id-12 {color: black;background-color: white;}#sk-container-id-12 pre{padding: 0;}#sk-container-id-12 div.sk-toggleable {background-color: white;}#sk-container-id-12 label.sk-toggleable__label {cursor: pointer;display: block;width: 100%;margin-bottom: 0;padding: 0.3em;box-sizing: border-box;text-align: center;}#sk-container-id-12 label.sk-toggleable__label-arrow:before {content: \"▸\";float: left;margin-right: 0.25em;color: #696969;}#sk-container-id-12 label.sk-toggleable__label-arrow:hover:before {color: black;}#sk-container-id-12 div.sk-estimator:hover label.sk-toggleable__label-arrow:before {color: black;}#sk-container-id-12 div.sk-toggleable__content {max-height: 0;max-width: 0;overflow: hidden;text-align: left;background-color: #f0f8ff;}#sk-container-id-12 div.sk-toggleable__content pre {margin: 0.2em;color: black;border-radius: 0.25em;background-color: #f0f8ff;}#sk-container-id-12 input.sk-toggleable__control:checked~div.sk-toggleable__content {max-height: 200px;max-width: 100%;overflow: auto;}#sk-container-id-12 input.sk-toggleable__control:checked~label.sk-toggleable__label-arrow:before {content: \"▾\";}#sk-container-id-12 div.sk-estimator input.sk-toggleable__control:checked~label.sk-toggleable__label {background-color: #d4ebff;}#sk-container-id-12 div.sk-label input.sk-toggleable__control:checked~label.sk-toggleable__label {background-color: #d4ebff;}#sk-container-id-12 input.sk-hidden--visually {border: 0;clip: rect(1px 1px 1px 1px);clip: rect(1px, 1px, 1px, 1px);height: 1px;margin: -1px;overflow: hidden;padding: 0;position: absolute;width: 1px;}#sk-container-id-12 div.sk-estimator {font-family: monospace;background-color: #f0f8ff;border: 1px dotted black;border-radius: 0.25em;box-sizing: border-box;margin-bottom: 0.5em;}#sk-container-id-12 div.sk-estimator:hover {background-color: #d4ebff;}#sk-container-id-12 div.sk-parallel-item::after {content: \"\";width: 100%;border-bottom: 1px solid gray;flex-grow: 1;}#sk-container-id-12 div.sk-label:hover label.sk-toggleable__label {background-color: #d4ebff;}#sk-container-id-12 div.sk-serial::before {content: \"\";position: absolute;border-left: 1px solid gray;box-sizing: border-box;top: 0;bottom: 0;left: 50%;z-index: 0;}#sk-container-id-12 div.sk-serial {display: flex;flex-direction: column;align-items: center;background-color: white;padding-right: 0.2em;padding-left: 0.2em;position: relative;}#sk-container-id-12 div.sk-item {position: relative;z-index: 1;}#sk-container-id-12 div.sk-parallel {display: flex;align-items: stretch;justify-content: center;background-color: white;position: relative;}#sk-container-id-12 div.sk-item::before, #sk-container-id-12 div.sk-parallel-item::before {content: \"\";position: absolute;border-left: 1px solid gray;box-sizing: border-box;top: 0;bottom: 0;left: 50%;z-index: -1;}#sk-container-id-12 div.sk-parallel-item {display: flex;flex-direction: column;z-index: 1;position: relative;background-color: white;}#sk-container-id-12 div.sk-parallel-item:first-child::after {align-self: flex-end;width: 50%;}#sk-container-id-12 div.sk-parallel-item:last-child::after {align-self: flex-start;width: 50%;}#sk-container-id-12 div.sk-parallel-item:only-child::after {width: 0;}#sk-container-id-12 div.sk-dashed-wrapped {border: 1px dashed gray;margin: 0 0.4em 0.5em 0.4em;box-sizing: border-box;padding-bottom: 0.4em;background-color: white;}#sk-container-id-12 div.sk-label label {font-family: monospace;font-weight: bold;display: inline-block;line-height: 1.2em;}#sk-container-id-12 div.sk-label-container {text-align: center;}#sk-container-id-12 div.sk-container {/* jupyter's `normalize.less` sets `[hidden] { display: none; }` but bootstrap.min.css set `[hidden] { display: none !important; }` so we also need the `!important` here to be able to override the default hidden behavior on the sphinx rendered scikit-learn.org. See: https://github.com/scikit-learn/scikit-learn/issues/21755 */display: inline-block !important;position: relative;}#sk-container-id-12 div.sk-text-repr-fallback {display: none;}</style><div id=\"sk-container-id-12\" class=\"sk-top-container\"><div class=\"sk-text-repr-fallback\"><pre>VotingClassifier(estimators=[(&#x27;rf&#x27;,\n                              RandomForestClassifier(bootstrap=False,\n                                                     max_depth=25,\n                                                     min_samples_leaf=2,\n                                                     n_estimators=160,\n                                                     random_state=42)),\n                             (&#x27;sgd&#x27;,\n                              SGDClassifier(class_weight=&#x27;balanced&#x27;,\n                                            loss=&#x27;squared_hinge&#x27;,\n                                            random_state=42)),\n                             (&#x27;lgb&#x27;,\n                              LGBMClassifier(n_estimators=200, num_classes=8,\n                                             objective=&#x27;multiclass&#x27;,\n                                             random_state=42, verbose=-1)),\n                             (&#x27;xgb&#x27;,\n                              XGBClassifier...\n                                            importance_type=None,\n                                            interaction_constraints=None,\n                                            learning_rate=0.2, max_bin=None,\n                                            max_cat_threshold=None,\n                                            max_cat_to_onehot=None,\n                                            max_delta_step=None, max_depth=6,\n                                            max_leaves=0, min_child_weight=None,\n                                            missing=nan,\n                                            monotone_constraints=None,\n                                            multi_strategy=None,\n                                            n_estimators=400, n_jobs=None,\n                                            num_classes=8,\n                                            num_parallel_tree=None, ...))],\n                 weights=[0.3, 0.1, 0.3, 0.3])</pre><b>In a Jupyter environment, please rerun this cell to show the HTML representation or trust the notebook. <br />On GitHub, the HTML representation is unable to render, please try loading this page with nbviewer.org.</b></div><div class=\"sk-container\" hidden><div class=\"sk-item sk-dashed-wrapped\"><div class=\"sk-label-container\"><div class=\"sk-label sk-toggleable\"><input class=\"sk-toggleable__control sk-hidden--visually\" id=\"sk-estimator-id-36\" type=\"checkbox\" ><label for=\"sk-estimator-id-36\" class=\"sk-toggleable__label sk-toggleable__label-arrow\">VotingClassifier</label><div class=\"sk-toggleable__content\"><pre>VotingClassifier(estimators=[(&#x27;rf&#x27;,\n                              RandomForestClassifier(bootstrap=False,\n                                                     max_depth=25,\n                                                     min_samples_leaf=2,\n                                                     n_estimators=160,\n                                                     random_state=42)),\n                             (&#x27;sgd&#x27;,\n                              SGDClassifier(class_weight=&#x27;balanced&#x27;,\n                                            loss=&#x27;squared_hinge&#x27;,\n                                            random_state=42)),\n                             (&#x27;lgb&#x27;,\n                              LGBMClassifier(n_estimators=200, num_classes=8,\n                                             objective=&#x27;multiclass&#x27;,\n                                             random_state=42, verbose=-1)),\n                             (&#x27;xgb&#x27;,\n                              XGBClassifier...\n                                            importance_type=None,\n                                            interaction_constraints=None,\n                                            learning_rate=0.2, max_bin=None,\n                                            max_cat_threshold=None,\n                                            max_cat_to_onehot=None,\n                                            max_delta_step=None, max_depth=6,\n                                            max_leaves=0, min_child_weight=None,\n                                            missing=nan,\n                                            monotone_constraints=None,\n                                            multi_strategy=None,\n                                            n_estimators=400, n_jobs=None,\n                                            num_classes=8,\n                                            num_parallel_tree=None, ...))],\n                 weights=[0.3, 0.1, 0.3, 0.3])</pre></div></div></div><div class=\"sk-parallel\"><div class=\"sk-parallel-item\"><div class=\"sk-item\"><div class=\"sk-label-container\"><div class=\"sk-label sk-toggleable\"><label>rf</label></div></div><div class=\"sk-serial\"><div class=\"sk-item\"><div class=\"sk-estimator sk-toggleable\"><input class=\"sk-toggleable__control sk-hidden--visually\" id=\"sk-estimator-id-37\" type=\"checkbox\" ><label for=\"sk-estimator-id-37\" class=\"sk-toggleable__label sk-toggleable__label-arrow\">RandomForestClassifier</label><div class=\"sk-toggleable__content\"><pre>RandomForestClassifier(bootstrap=False, max_depth=25, min_samples_leaf=2,\n                       n_estimators=160, random_state=42)</pre></div></div></div></div></div></div><div class=\"sk-parallel-item\"><div class=\"sk-item\"><div class=\"sk-label-container\"><div class=\"sk-label sk-toggleable\"><label>sgd</label></div></div><div class=\"sk-serial\"><div class=\"sk-item\"><div class=\"sk-estimator sk-toggleable\"><input class=\"sk-toggleable__control sk-hidden--visually\" id=\"sk-estimator-id-38\" type=\"checkbox\" ><label for=\"sk-estimator-id-38\" class=\"sk-toggleable__label sk-toggleable__label-arrow\">SGDClassifier</label><div class=\"sk-toggleable__content\"><pre>SGDClassifier(class_weight=&#x27;balanced&#x27;, loss=&#x27;squared_hinge&#x27;, random_state=42)</pre></div></div></div></div></div></div><div class=\"sk-parallel-item\"><div class=\"sk-item\"><div class=\"sk-label-container\"><div class=\"sk-label sk-toggleable\"><label>lgb</label></div></div><div class=\"sk-serial\"><div class=\"sk-item\"><div class=\"sk-estimator sk-toggleable\"><input class=\"sk-toggleable__control sk-hidden--visually\" id=\"sk-estimator-id-39\" type=\"checkbox\" ><label for=\"sk-estimator-id-39\" class=\"sk-toggleable__label sk-toggleable__label-arrow\">LGBMClassifier</label><div class=\"sk-toggleable__content\"><pre>LGBMClassifier(n_estimators=200, num_classes=8, objective=&#x27;multiclass&#x27;,\n               random_state=42, verbose=-1)</pre></div></div></div></div></div></div><div class=\"sk-parallel-item\"><div class=\"sk-item\"><div class=\"sk-label-container\"><div class=\"sk-label sk-toggleable\"><label>xgb</label></div></div><div class=\"sk-serial\"><div class=\"sk-item\"><div class=\"sk-estimator sk-toggleable\"><input class=\"sk-toggleable__control sk-hidden--visually\" id=\"sk-estimator-id-40\" type=\"checkbox\" ><label for=\"sk-estimator-id-40\" class=\"sk-toggleable__label sk-toggleable__label-arrow\">XGBClassifier</label><div class=\"sk-toggleable__content\"><pre>XGBClassifier(base_score=None, booster=None, callbacks=None,\n              colsample_bylevel=None, colsample_bynode=None,\n              colsample_bytree=None, device=None, early_stopping_rounds=None,\n              enable_categorical=False, eval_metric=None, feature_types=None,\n              gamma=None, grow_policy=None, importance_type=None,\n              interaction_constraints=None, learning_rate=0.2, max_bin=None,\n              max_cat_threshold=None, max_cat_to_onehot=None,\n              max_delta_step=None, max_depth=6, max_leaves=0,\n              min_child_weight=None, missing=nan, monotone_constraints=None,\n              multi_strategy=None, n_estimators=400, n_jobs=None, num_classes=8,\n              num_parallel_tree=None, ...)</pre></div></div></div></div></div></div></div></div></div></div>"
          },
          "metadata": {}
        }
      ]
    },
    {
      "cell_type": "code",
      "source": [
        "print(\"f1_score ансамбля на тестовой выборке:\", f1_score(y_test_, ensemble.predict(X_test_),\n",
        "                                                         average='macro'))"
      ],
      "metadata": {
        "colab": {
          "base_uri": "https://localhost:8080/"
        },
        "id": "H005LJiVlzPm",
        "outputId": "56f0479c-4d3b-4de1-eb3d-8bd2dc89c976",
        "execution": {
          "iopub.status.busy": "2023-12-18T12:43:58.598216Z",
          "iopub.execute_input": "2023-12-18T12:43:58.598587Z",
          "iopub.status.idle": "2023-12-18T12:43:58.968499Z",
          "shell.execute_reply.started": "2023-12-18T12:43:58.598554Z",
          "shell.execute_reply": "2023-12-18T12:43:58.967552Z"
        },
        "trusted": true
      },
      "execution_count": null,
      "outputs": [
        {
          "name": "stdout",
          "text": "f1_score ансамбля на тестовой выборке: 0.8422785308033354\n",
          "output_type": "stream"
        }
      ]
    },
    {
      "cell_type": "markdown",
      "source": [
        "# BERT\n",
        "\n",
        "В этой части мы файн-тьюним трансформер BERT, предобученный на русских текстах также на задачу классификации"
      ],
      "metadata": {
        "id": "wV8ctXYho3io"
      }
    },
    {
      "cell_type": "code",
      "source": [
        "from tqdm import tqdm\n",
        "import torch\n",
        "import torch.nn as nn\n",
        "from torch.utils.data import DataLoader, Dataset\n",
        "from transformers import BertTokenizer, BertForSequenceClassification"
      ],
      "metadata": {
        "id": "h91beHMDqBHN",
        "execution": {
          "iopub.status.busy": "2023-12-18T15:56:08.859563Z",
          "iopub.execute_input": "2023-12-18T15:56:08.860570Z",
          "iopub.status.idle": "2023-12-18T15:56:09.435226Z",
          "shell.execute_reply.started": "2023-12-18T15:56:08.860535Z",
          "shell.execute_reply": "2023-12-18T15:56:09.434251Z"
        },
        "trusted": true
      },
      "execution_count": null,
      "outputs": []
    },
    {
      "cell_type": "code",
      "source": [
        "#Преобразуем названия классов в цифры от 0 до 7\n",
        "enc_dict = {\"Вежливость сотрудников магазина\": 0, \"Время ожидания у кассы\": 1,\n",
        "           \"Доступность персонала в магазине\": 2, \"Компетентность продавцов/ консультантов\": 3,\n",
        "           \"Консультация КЦ\": 4, \"Обслуживание на кассе\": 5,\n",
        "           \"Обслуживание продавцами/ консультантами\": 6, \"Электронная очередь\": 7}\n",
        "\n",
        "inv_enc_dict = {0: \"Вежливость сотрудников магазина\", 1: \"Время ожидания у кассы\",\n",
        "               2: \"Доступность персонала в магазине\", 3: \"Компетентность продавцов/ консультантов\",\n",
        "               4: \"Консультация КЦ\", 5: \"Обслуживание на кассе\",\n",
        "               6: \"Обслуживание продавцами/ консультантами\", 7: \"Электронная очередь\"}\n",
        "\n",
        "df['class'] = df['class'].map(enc_dict)\n",
        "df"
      ],
      "metadata": {
        "execution": {
          "iopub.status.busy": "2023-12-18T15:56:10.985400Z",
          "iopub.execute_input": "2023-12-18T15:56:10.986417Z",
          "iopub.status.idle": "2023-12-18T15:56:11.006107Z",
          "shell.execute_reply.started": "2023-12-18T15:56:10.986385Z",
          "shell.execute_reply": "2023-12-18T15:56:11.005159Z"
        },
        "trusted": true,
        "id": "ySReD2imv-LB",
        "outputId": "042d8e2b-31ed-4931-8f60-8ab5c1155344"
      },
      "execution_count": null,
      "outputs": [
        {
          "execution_count": 7,
          "output_type": "execute_result",
          "data": {
            "text/plain": "         id                                               text  class\n0        45   негатив к вам и горячей линии которые нафиг н...      4\n1        97  перестаньте впаривать клиентам дополнительные ...      3\n2       105   продавец предложил наклеить защитную плёнку з...      3\n3       127  продавец режил продать нам товар почему то по ...      3\n4       130  навязанные услуги ( без моего согласия) на сум...      3\n...     ...                                                ...    ...\n2832  17570  почему отключили электронную очередь через пол...      7\n2833  17579  очередь на кассе. продавцы не торопятся с зака...      1\n2834  17586  профессионализма менеджеру бы, да и внимания к...      6\n2835  17591  сотрудник на выдаче заказа потребовал документ...      7\n2836  17594                           клиентоориентированность      3\n\n[2837 rows x 3 columns]",
            "text/html": "<div>\n<style scoped>\n    .dataframe tbody tr th:only-of-type {\n        vertical-align: middle;\n    }\n\n    .dataframe tbody tr th {\n        vertical-align: top;\n    }\n\n    .dataframe thead th {\n        text-align: right;\n    }\n</style>\n<table border=\"1\" class=\"dataframe\">\n  <thead>\n    <tr style=\"text-align: right;\">\n      <th></th>\n      <th>id</th>\n      <th>text</th>\n      <th>class</th>\n    </tr>\n  </thead>\n  <tbody>\n    <tr>\n      <th>0</th>\n      <td>45</td>\n      <td>негатив к вам и горячей линии которые нафиг н...</td>\n      <td>4</td>\n    </tr>\n    <tr>\n      <th>1</th>\n      <td>97</td>\n      <td>перестаньте впаривать клиентам дополнительные ...</td>\n      <td>3</td>\n    </tr>\n    <tr>\n      <th>2</th>\n      <td>105</td>\n      <td>продавец предложил наклеить защитную плёнку з...</td>\n      <td>3</td>\n    </tr>\n    <tr>\n      <th>3</th>\n      <td>127</td>\n      <td>продавец режил продать нам товар почему то по ...</td>\n      <td>3</td>\n    </tr>\n    <tr>\n      <th>4</th>\n      <td>130</td>\n      <td>навязанные услуги ( без моего согласия) на сум...</td>\n      <td>3</td>\n    </tr>\n    <tr>\n      <th>...</th>\n      <td>...</td>\n      <td>...</td>\n      <td>...</td>\n    </tr>\n    <tr>\n      <th>2832</th>\n      <td>17570</td>\n      <td>почему отключили электронную очередь через пол...</td>\n      <td>7</td>\n    </tr>\n    <tr>\n      <th>2833</th>\n      <td>17579</td>\n      <td>очередь на кассе. продавцы не торопятся с зака...</td>\n      <td>1</td>\n    </tr>\n    <tr>\n      <th>2834</th>\n      <td>17586</td>\n      <td>профессионализма менеджеру бы, да и внимания к...</td>\n      <td>6</td>\n    </tr>\n    <tr>\n      <th>2835</th>\n      <td>17591</td>\n      <td>сотрудник на выдаче заказа потребовал документ...</td>\n      <td>7</td>\n    </tr>\n    <tr>\n      <th>2836</th>\n      <td>17594</td>\n      <td>клиентоориентированность</td>\n      <td>3</td>\n    </tr>\n  </tbody>\n</table>\n<p>2837 rows × 3 columns</p>\n</div>"
          },
          "metadata": {}
        }
      ]
    },
    {
      "cell_type": "markdown",
      "source": [
        "Опять решим проблему oversampling'a, только на тот раз, т.к. у нас нет быстрого доступа к скрытому признаковому пространству, как это было в предыдущий раз, используем RandomOverSapmpler, который  генерирует новые данные для меньшего класса путём случайного выбора одного объекта из выборки с возвращением."
      ],
      "metadata": {
        "id": "oDulGxAQv-LC"
      }
    },
    {
      "cell_type": "code",
      "source": [
        "from imblearn.over_sampling import RandomOverSampler\n",
        "\n",
        "ros = RandomOverSampler(random_state=42)\n",
        "X_ros, y_ros = ros.fit_resample(np.array(df['text']).reshape(-1, 1), np.array(df['class']).reshape(-1, 1))\n",
        "df_ros = pd.DataFrame(list(zip([x[0] for x in X_ros], y_ros)), columns = ['text', 'class'])\n",
        "df_ros"
      ],
      "metadata": {
        "execution": {
          "iopub.status.busy": "2023-12-18T15:56:15.563748Z",
          "iopub.execute_input": "2023-12-18T15:56:15.564448Z",
          "iopub.status.idle": "2023-12-18T15:56:16.036438Z",
          "shell.execute_reply.started": "2023-12-18T15:56:15.564414Z",
          "shell.execute_reply": "2023-12-18T15:56:16.035471Z"
        },
        "trusted": true,
        "id": "A7YHkBdbv-LC",
        "outputId": "cfc2b1d9-3b83-42d0-ad1a-0026687b976e"
      },
      "execution_count": null,
      "outputs": [
        {
          "execution_count": 8,
          "output_type": "execute_result",
          "data": {
            "text/plain": "                                                   text  class\n0      негатив к вам и горячей линии которые нафиг н...      4\n1     перестаньте впаривать клиентам дополнительные ...      3\n2      продавец предложил наклеить защитную плёнку з...      3\n3     продавец режил продать нам товар почему то по ...      3\n4     навязанные услуги ( без моего согласия) на сум...      3\n...                                                 ...    ...\n6595  долгое обслуживание. какой-то талончик при вхо...      7\n6596  пришёл, взял талон, на выдаче никого и в очере...      7\n6597  очень тяжело найти этот магазин. электронный н...      7\n6598  добавьте в смс о готовности товара информацию,...      7\n6599  после того как получил талон электронной очере...      7\n\n[6600 rows x 2 columns]",
            "text/html": "<div>\n<style scoped>\n    .dataframe tbody tr th:only-of-type {\n        vertical-align: middle;\n    }\n\n    .dataframe tbody tr th {\n        vertical-align: top;\n    }\n\n    .dataframe thead th {\n        text-align: right;\n    }\n</style>\n<table border=\"1\" class=\"dataframe\">\n  <thead>\n    <tr style=\"text-align: right;\">\n      <th></th>\n      <th>text</th>\n      <th>class</th>\n    </tr>\n  </thead>\n  <tbody>\n    <tr>\n      <th>0</th>\n      <td>негатив к вам и горячей линии которые нафиг н...</td>\n      <td>4</td>\n    </tr>\n    <tr>\n      <th>1</th>\n      <td>перестаньте впаривать клиентам дополнительные ...</td>\n      <td>3</td>\n    </tr>\n    <tr>\n      <th>2</th>\n      <td>продавец предложил наклеить защитную плёнку з...</td>\n      <td>3</td>\n    </tr>\n    <tr>\n      <th>3</th>\n      <td>продавец режил продать нам товар почему то по ...</td>\n      <td>3</td>\n    </tr>\n    <tr>\n      <th>4</th>\n      <td>навязанные услуги ( без моего согласия) на сум...</td>\n      <td>3</td>\n    </tr>\n    <tr>\n      <th>...</th>\n      <td>...</td>\n      <td>...</td>\n    </tr>\n    <tr>\n      <th>6595</th>\n      <td>долгое обслуживание. какой-то талончик при вхо...</td>\n      <td>7</td>\n    </tr>\n    <tr>\n      <th>6596</th>\n      <td>пришёл, взял талон, на выдаче никого и в очере...</td>\n      <td>7</td>\n    </tr>\n    <tr>\n      <th>6597</th>\n      <td>очень тяжело найти этот магазин. электронный н...</td>\n      <td>7</td>\n    </tr>\n    <tr>\n      <th>6598</th>\n      <td>добавьте в смс о готовности товара информацию,...</td>\n      <td>7</td>\n    </tr>\n    <tr>\n      <th>6599</th>\n      <td>после того как получил талон электронной очере...</td>\n      <td>7</td>\n    </tr>\n  </tbody>\n</table>\n<p>6600 rows × 2 columns</p>\n</div>"
          },
          "metadata": {}
        }
      ]
    },
    {
      "cell_type": "markdown",
      "source": [
        "Напишем саму модель:"
      ],
      "metadata": {
        "id": "ioAGVKllv-LD"
      }
    },
    {
      "cell_type": "code",
      "source": [
        "class BertDataset(Dataset):\n",
        "    def __init__(self, df):\n",
        "        tokenizer = BertTokenizer.from_pretrained('cointegrated/rubert-tiny')\n",
        "        self.tokens = [tokenizer(text, padding='max_length', max_length = 512, truncation=True,\n",
        "                                return_tensors=\"pt\") for text in df.text]\n",
        "        self.labels = df['class'].to_numpy()\n",
        "\n",
        "    def __len__(self):\n",
        "        return len(self.tokens)\n",
        "\n",
        "    def __getitem__(self, idx):\n",
        "        return self.tokens[idx], torch.tensor(self.labels[idx])"
      ],
      "metadata": {
        "id": "xVJxG3I1rFlC",
        "execution": {
          "iopub.status.busy": "2023-12-18T15:56:18.831819Z",
          "iopub.execute_input": "2023-12-18T15:56:18.832305Z",
          "iopub.status.idle": "2023-12-18T15:56:18.839447Z",
          "shell.execute_reply.started": "2023-12-18T15:56:18.832275Z",
          "shell.execute_reply": "2023-12-18T15:56:18.838450Z"
        },
        "trusted": true
      },
      "execution_count": null,
      "outputs": []
    },
    {
      "cell_type": "code",
      "source": [
        "class BertClassifier(nn.Module):\n",
        "    def __init__(self):\n",
        "        super().__init__()\n",
        "        self.model = BertForSequenceClassification.from_pretrained('cointegrated/rubert-tiny')\n",
        "        self.tokenizer = BertTokenizer.from_pretrained('cointegrated/rubert-tiny')\n",
        "        self.n_classes = 8\n",
        "        self.loss_fn = torch.nn.CrossEntropyLoss().cuda()\n",
        "        self.out_features = self.model.bert.encoder.layer[1].output.dense.out_features\n",
        "        self.model.classifier = torch.nn.Linear(self.out_features, self.n_classes)\n",
        "        self.model = self.model.cuda()\n",
        "\n",
        "    def forward(self, input_id, mask):\n",
        "        return self.model(input_id, mask)"
      ],
      "metadata": {
        "id": "iAdvrfpw3uTP",
        "execution": {
          "iopub.status.busy": "2023-12-18T15:56:20.473545Z",
          "iopub.execute_input": "2023-12-18T15:56:20.474079Z",
          "iopub.status.idle": "2023-12-18T15:56:20.482493Z",
          "shell.execute_reply.started": "2023-12-18T15:56:20.474028Z",
          "shell.execute_reply": "2023-12-18T15:56:20.481369Z"
        },
        "trusted": true
      },
      "execution_count": null,
      "outputs": []
    },
    {
      "cell_type": "code",
      "source": [
        "from sklearn.model_selection import train_test_split\n",
        "from sklearn.metrics import f1_score, accuracy_score\n",
        "\n",
        "def test(model, loader):\n",
        "    total_acc_val, total_loss_val, total_f1_val, total_pr_val, total_rec_val = 0, 0, 0, 0, 0\n",
        "    model.eval()\n",
        "    with torch.no_grad():\n",
        "        for val_input, val_label in tqdm(loader):\n",
        "            val_label = val_label.cuda()\n",
        "            mask = val_input['attention_mask'].cuda()\n",
        "            input_id = val_input['input_ids'].squeeze(1).cuda()\n",
        "\n",
        "            output = model(input_id, mask)\n",
        "\n",
        "            batch_loss = model.loss_fn(output[0], val_label.long())\n",
        "            total_loss_val += batch_loss.item()\n",
        "\n",
        "            f1 = f1_score(val_label.cpu(), output[0].argmax(dim=1).cpu(), average='macro')\n",
        "            total_f1_val += f1\n",
        "\n",
        "            acc = accuracy_score(val_label.cpu(), output[0].argmax(dim=1).cpu())\n",
        "            total_acc_val += acc\n",
        "    acc_val, loss_val, f1_val = total_acc_val / len(loader), total_loss_val / len(loader), total_f1_val / len(loader)\n",
        "    return acc_val, loss_val, f1_val\n",
        "\n",
        "\n",
        "def train(model, optimizer, n_epochs, train_loader, val_loader, scheduler=None):\n",
        "    model.train()\n",
        "    for epoch_num in range(n_epochs):\n",
        "        total_acc_train, total_loss_train, total_f1_train, total_pr_train, total_rec_train = 0, 0, 0, 0, 0\n",
        "        for train_input, train_label in tqdm(train_loader):\n",
        "            train_label = train_label.cuda()\n",
        "            mask = train_input['attention_mask'].cuda()\n",
        "            input_id = train_input['input_ids'].squeeze(1).cuda()\n",
        "            output = model(input_id, mask)\n",
        "\n",
        "            batch_loss = model.loss_fn(output[0], train_label.long())\n",
        "            total_loss_train += batch_loss.item()\n",
        "\n",
        "            model.zero_grad()\n",
        "            batch_loss.backward()\n",
        "            optimizer.step()\n",
        "\n",
        "            f1 = f1_score(train_label.cpu(), output[0].argmax(dim=1).cpu(), average='macro')\n",
        "            total_f1_train += f1\n",
        "\n",
        "            acc = accuracy_score(train_label.cpu(), output[0].argmax(dim=1).cpu())\n",
        "            total_acc_train += acc\n",
        "\n",
        "        acc_val, loss_val, f1_val = test(model, val_loader)\n",
        "        if scheduler is not None:\n",
        "            scheduler.step(loss_val)\n",
        "        acc_train, loss_train, f1_train = total_acc_train / len(train_loader), total_loss_train / len(train_loader), total_f1_train / len(train_loader)\n",
        "        print(f\"Epochs: {epoch_num + 1} | Train Loss: {loss_train: .3f} | Train Acc: {acc_train: .3f} \\\n",
        "        | Train F1: {f1_train: .3f} | Val Loss: {loss_val: .3f} \\\n",
        "        | Val Acc: {acc_val: .3f} | Val F1: {f1_val: .3f}\")\n",
        "\n",
        "    return acc_train, loss_train, f1_train"
      ],
      "metadata": {
        "id": "eyiMucA16Fbh",
        "execution": {
          "iopub.status.busy": "2023-12-18T15:56:22.300478Z",
          "iopub.execute_input": "2023-12-18T15:56:22.300944Z",
          "iopub.status.idle": "2023-12-18T15:56:22.321374Z",
          "shell.execute_reply.started": "2023-12-18T15:56:22.300907Z",
          "shell.execute_reply": "2023-12-18T15:56:22.320166Z"
        },
        "trusted": true
      },
      "execution_count": null,
      "outputs": []
    },
    {
      "cell_type": "markdown",
      "source": [
        "В качестве оптимизатора возьмём Adam с weight_decay'ем, а в качестве шедулера -- cosine annealing with warmup, т.к. в документации BERT написано, что лучше для этого трансформера брать именно AdamW и какой-нибудь шедулер с warmup)."
      ],
      "metadata": {
        "id": "s0SMhbhPv-LF"
      }
    },
    {
      "cell_type": "code",
      "source": [
        "from transformers import AdamW, get_cosine_schedule_with_warmup\n",
        "\n",
        "df_train, df_test, _, _ = train_test_split(df_ros[['text', 'class']], np.zeros(df_ros.shape[0]), random_state=42)\n",
        "df_train, df_val, _, _ = train_test_split(df_train, np.zeros(df_train.shape[0]), random_state=42)\n",
        "train_dataset, val_dataset, test_dataset = BertDataset(df_train), BertDataset(df_val), BertDataset(df_test)\n",
        "train_loader = torch.utils.data.DataLoader(train_dataset, batch_size=64, shuffle=True)\n",
        "val_loader = torch.utils.data.DataLoader(val_dataset, batch_size=64)\n",
        "test_loader = torch.utils.data.DataLoader(test_dataset, batch_size=64)\n",
        "\n",
        "scheduler = get_cosine_schedule_with_warmup(optimizer, num_warmup_steps=0,\n",
        "                                            num_training_steps=len(train_loader) * n_epochs)\n",
        "n_epochs = 15\n",
        "bert = BertClassifier()\n",
        "optimizer = AdamW(bert.parameters(), lr=2e-5)"
      ],
      "metadata": {
        "colab": {
          "base_uri": "https://localhost:8080/",
          "height": 264,
          "referenced_widgets": [
            "1826d1d5ec8d4541b238bcbe3ce51dd7",
            "cd7ce26a4971479abf4adff1e870c445",
            "52c9339553194e90aac59fd9d7102152",
            "8ac0ebd3b12b4a36a3c7fbf856fd4c3b",
            "97e65e390ef3486fabff2660e6bfab53",
            "471bb1edb0c54cca9748631c84870621",
            "a44a5a1e469c46eb9d9e8b897a35a249",
            "e8cf9ed76bf14e6a93c93488e965a30d",
            "8b6344302f52416bb2c59b1f146040bb",
            "4cdce78995c543c3bd1c7eb8c9bbeab5",
            "2a50a5fc17e84f56a93c112c4220e1dc",
            "174fd0c1859c49f585bfe710f297aacf",
            "afb460fc0a5843c593e912f0fa98718d",
            "2b821ef95fbf4415871a1f08b91865d7",
            "491628a6e89f4adc85c8581ad78b9439",
            "aa64d365a589472f8f6163f08ae65c1a",
            "a93ef37a42a947f08b93447d143c3898",
            "9a258b206088474188d894e22391d46c",
            "d72a9d6ed5db4610b5589f2e75c67dc2",
            "1850012ac95440e397c5f8eadb7ad68b",
            "4404612e0a904922a9fea85827b0cf91",
            "849b394b8d174737b705229a5d259229",
            "a711f84e20634254a58e6176a49e6663",
            "4ad3856359374c969632c740f75525e4",
            "60b1c5b6a96646b6a33c19652db9bd87",
            "cfd8f0f66ab0493aa7583586077eb534",
            "35e4f6a23c8042c5ae2e09d104b363f5",
            "f50bbd5260504598ad5f484357dea5e2",
            "b178d897890d41a5aff07cb58033400b",
            "efab09b66eec43f5a94e8e692e0cbbac",
            "2b94b128e7514d5ebc10efcae8fdccab",
            "1f047b6d1d2c4ebd8de32f866d76b7f6",
            "5f437ee21ae5409c995413a91edb1205",
            "c7e6255838524d6cbff6a44a017fc474",
            "594b900f51534cf8a099e87098acf969",
            "a099049a27aa4aa1b9011118114a1d8b",
            "0cf60eb9007e46fe80f4a5cf96078155",
            "e4417433ab0840398c00d3e7f2555f31",
            "859329f7b5ed4412a861692ef671a7ff",
            "05ab5061ffa248b98ee5bee0ba35fb87",
            "364c36d10e0e4cf7a92c380a63601f93",
            "e375934fe76b49dfaa7ccffd6d25abf8",
            "4a3078c08bbc46529dc103934e7ad306",
            "8f8b39ba45d64a4ea11fea8b9457f666",
            "8b25af028c524b8e80a6b4fed07db298",
            "f4a7b438dd2740fdbc9a040b3cf1d426",
            "915b97626503438f81c8cbf66ea22339",
            "051ca8de00114fa3bd34ce021de20bfa",
            "2991ae92809d4916bf06e35ccc15aa04",
            "0bf036d5ac6345ac92a7b334d9799d47",
            "92909c7c310945bea3c6f9f6b40db014",
            "ea681de741be4821925966bc76798bb9",
            "08d275d7984e44acbc413793879f180f",
            "db8b14f53791432c8c42f4b70e0b05ca",
            "5bc6dd3dad224a44a201116e2f1766f6",
            "630ccd1ad0e1404bab4d7528d5571f65",
            "14ec6aec5a254fc6af53f82c1089e441",
            "05865683cc9c4e9984c09d692bf0b0ef",
            "666a3fe80cc248648a1001bac3337798",
            "00411703d8a74bb69e0306be64e45097",
            "094d3ecbb96e4481a1dec76a9ce84195",
            "2aed26a919d34ab5b6244b2a1dd098e3",
            "00d23f4046254c76b83e5c91abfa043b",
            "087980708d254c05b41faef49e0e89cd",
            "3dfc496b9a934e7c95d66650dd73f2dc",
            "e9f1aa9cb8b046ac84df1ff4e321d13f",
            "d6452bbb22af4c24a0b581b3a43a6700",
            "b57eb61cb49c45cb9a44eb363e934ec0",
            "5238542a6b5d4d758dba2d5aa01b6b4e",
            "94b1310168a04dc19131aeda9bb1f1d8",
            "00eb80b4a1404d67b25d0cf5ebf4e978"
          ]
        },
        "id": "t_JTSmpQ88Km",
        "outputId": "fa141af6-526b-4bfc-8e60-300ac9c6d8ea",
        "execution": {
          "iopub.status.busy": "2023-12-18T15:56:25.319015Z",
          "iopub.execute_input": "2023-12-18T15:56:25.319491Z",
          "iopub.status.idle": "2023-12-18T15:56:39.798685Z",
          "shell.execute_reply.started": "2023-12-18T15:56:25.319453Z",
          "shell.execute_reply": "2023-12-18T15:56:39.797387Z"
        },
        "trusted": true
      },
      "execution_count": null,
      "outputs": [
        {
          "output_type": "display_data",
          "data": {
            "text/plain": "tokenizer_config.json:   0%|          | 0.00/341 [00:00<?, ?B/s]",
            "application/vnd.jupyter.widget-view+json": {
              "version_major": 2,
              "version_minor": 0,
              "model_id": "d6452bbb22af4c24a0b581b3a43a6700"
            }
          },
          "metadata": {}
        },
        {
          "output_type": "display_data",
          "data": {
            "text/plain": "vocab.txt:   0%|          | 0.00/241k [00:00<?, ?B/s]",
            "application/vnd.jupyter.widget-view+json": {
              "version_major": 2,
              "version_minor": 0,
              "model_id": "b57eb61cb49c45cb9a44eb363e934ec0"
            }
          },
          "metadata": {}
        },
        {
          "output_type": "display_data",
          "data": {
            "text/plain": "special_tokens_map.json:   0%|          | 0.00/112 [00:00<?, ?B/s]",
            "application/vnd.jupyter.widget-view+json": {
              "version_major": 2,
              "version_minor": 0,
              "model_id": "5238542a6b5d4d758dba2d5aa01b6b4e"
            }
          },
          "metadata": {}
        },
        {
          "output_type": "display_data",
          "data": {
            "text/plain": "tokenizer.json:   0%|          | 0.00/468k [00:00<?, ?B/s]",
            "application/vnd.jupyter.widget-view+json": {
              "version_major": 2,
              "version_minor": 0,
              "model_id": "94b1310168a04dc19131aeda9bb1f1d8"
            }
          },
          "metadata": {}
        },
        {
          "output_type": "display_data",
          "data": {
            "text/plain": "config.json:   0%|          | 0.00/632 [00:00<?, ?B/s]",
            "application/vnd.jupyter.widget-view+json": {
              "version_major": 2,
              "version_minor": 0,
              "model_id": "00eb80b4a1404d67b25d0cf5ebf4e978"
            }
          },
          "metadata": {}
        },
        {
          "traceback": [
            "\u001b[0;31m---------------------------------------------------------------------------\u001b[0m",
            "\u001b[0;31mNameError\u001b[0m                                 Traceback (most recent call last)",
            "Cell \u001b[0;32mIn[12], line 10\u001b[0m\n\u001b[1;32m      7\u001b[0m val_loader \u001b[38;5;241m=\u001b[39m torch\u001b[38;5;241m.\u001b[39mutils\u001b[38;5;241m.\u001b[39mdata\u001b[38;5;241m.\u001b[39mDataLoader(val_dataset, batch_size\u001b[38;5;241m=\u001b[39m\u001b[38;5;241m64\u001b[39m)\n\u001b[1;32m      8\u001b[0m test_loader \u001b[38;5;241m=\u001b[39m torch\u001b[38;5;241m.\u001b[39mutils\u001b[38;5;241m.\u001b[39mdata\u001b[38;5;241m.\u001b[39mDataLoader(test_dataset, batch_size\u001b[38;5;241m=\u001b[39m\u001b[38;5;241m64\u001b[39m)\n\u001b[0;32m---> 10\u001b[0m scheduler \u001b[38;5;241m=\u001b[39m get_cosine_schedule_with_warmup(\u001b[43moptimizer\u001b[49m, num_warmup_steps\u001b[38;5;241m=\u001b[39m\u001b[38;5;241m0\u001b[39m, \n\u001b[1;32m     11\u001b[0m                                             num_training_steps\u001b[38;5;241m=\u001b[39m\u001b[38;5;28mlen\u001b[39m(train_loader) \u001b[38;5;241m*\u001b[39m n_epochs)\n\u001b[1;32m     12\u001b[0m n_epochs \u001b[38;5;241m=\u001b[39m \u001b[38;5;241m15\u001b[39m\n\u001b[1;32m     13\u001b[0m bert \u001b[38;5;241m=\u001b[39m BertClassifier()\n",
            "\u001b[0;31mNameError\u001b[0m: name 'optimizer' is not defined"
          ],
          "ename": "NameError",
          "evalue": "name 'optimizer' is not defined",
          "output_type": "error"
        }
      ]
    },
    {
      "cell_type": "code",
      "source": [
        "train(bert, optimizer, n_epochs, train_loader, val_loader, scheduler)"
      ],
      "metadata": {
        "colab": {
          "base_uri": "https://localhost:8080/"
        },
        "id": "onaHsZ9o-FsX",
        "outputId": "d10bf1f8-fd74-4b29-9483-5bcc23cee654",
        "execution": {
          "iopub.status.busy": "2023-12-18T13:18:51.823236Z",
          "iopub.execute_input": "2023-12-18T13:18:51.823845Z",
          "iopub.status.idle": "2023-12-18T13:22:48.228343Z",
          "shell.execute_reply.started": "2023-12-18T13:18:51.823807Z",
          "shell.execute_reply": "2023-12-18T13:22:48.227394Z"
        },
        "collapsed": true,
        "jupyter": {
          "outputs_hidden": true
        },
        "trusted": true
      },
      "execution_count": null,
      "outputs": [
        {
          "name": "stderr",
          "text": "100%|██████████| 56/56 [00:15<00:00,  3.66it/s]\n100%|██████████| 19/19 [00:01<00:00, 11.07it/s]\n",
          "output_type": "stream"
        },
        {
          "name": "stdout",
          "text": "Epochs: 1 | Train Loss:  2.017 | Train Acc:  0.207         | Train F1:  0.167 | Val Loss:  1.924         | Val Acc:  0.331 | Val F1:  0.279\n",
          "output_type": "stream"
        },
        {
          "name": "stderr",
          "text": "100%|██████████| 56/56 [00:13<00:00,  4.01it/s]\n100%|██████████| 19/19 [00:01<00:00, 11.13it/s]\n",
          "output_type": "stream"
        },
        {
          "name": "stdout",
          "text": "Epochs: 2 | Train Loss:  1.742 | Train Acc:  0.482         | Train F1:  0.430 | Val Loss:  1.476         | Val Acc:  0.638 | Val F1:  0.605\n",
          "output_type": "stream"
        },
        {
          "name": "stderr",
          "text": "100%|██████████| 56/56 [00:13<00:00,  4.02it/s]\n100%|██████████| 19/19 [00:01<00:00, 11.15it/s]\n",
          "output_type": "stream"
        },
        {
          "name": "stdout",
          "text": "Epochs: 3 | Train Loss:  1.216 | Train Acc:  0.701         | Train F1:  0.670 | Val Loss:  0.991         | Val Acc:  0.751 | Val F1:  0.739\n",
          "output_type": "stream"
        },
        {
          "name": "stderr",
          "text": "100%|██████████| 56/56 [00:13<00:00,  4.01it/s]\n100%|██████████| 19/19 [00:01<00:00, 11.16it/s]\n",
          "output_type": "stream"
        },
        {
          "name": "stdout",
          "text": "Epochs: 4 | Train Loss:  0.841 | Train Acc:  0.798         | Train F1:  0.778 | Val Loss:  0.741         | Val Acc:  0.805 | Val F1:  0.794\n",
          "output_type": "stream"
        },
        {
          "name": "stderr",
          "text": "100%|██████████| 56/56 [00:13<00:00,  4.01it/s]\n100%|██████████| 19/19 [00:01<00:00, 11.17it/s]\n",
          "output_type": "stream"
        },
        {
          "name": "stdout",
          "text": "Epochs: 5 | Train Loss:  0.618 | Train Acc:  0.856         | Train F1:  0.843 | Val Loss:  0.593         | Val Acc:  0.838 | Val F1:  0.829\n",
          "output_type": "stream"
        },
        {
          "name": "stderr",
          "text": "100%|██████████| 56/56 [00:13<00:00,  4.01it/s]\n100%|██████████| 19/19 [00:01<00:00, 11.17it/s]\n",
          "output_type": "stream"
        },
        {
          "name": "stdout",
          "text": "Epochs: 6 | Train Loss:  0.469 | Train Acc:  0.897         | Train F1:  0.890 | Val Loss:  0.504         | Val Acc:  0.863 | Val F1:  0.854\n",
          "output_type": "stream"
        },
        {
          "name": "stderr",
          "text": "100%|██████████| 56/56 [00:13<00:00,  4.02it/s]\n100%|██████████| 19/19 [00:01<00:00, 11.13it/s]\n",
          "output_type": "stream"
        },
        {
          "name": "stdout",
          "text": "Epochs: 7 | Train Loss:  0.358 | Train Acc:  0.925         | Train F1:  0.918 | Val Loss:  0.414         | Val Acc:  0.888 | Val F1:  0.880\n",
          "output_type": "stream"
        },
        {
          "name": "stderr",
          "text": "100%|██████████| 56/56 [00:13<00:00,  4.02it/s]\n100%|██████████| 19/19 [00:01<00:00, 11.16it/s]\n",
          "output_type": "stream"
        },
        {
          "name": "stdout",
          "text": "Epochs: 8 | Train Loss:  0.274 | Train Acc:  0.946         | Train F1:  0.941 | Val Loss:  0.371         | Val Acc:  0.895 | Val F1:  0.887\n",
          "output_type": "stream"
        },
        {
          "name": "stderr",
          "text": "100%|██████████| 56/56 [00:13<00:00,  4.01it/s]\n100%|██████████| 19/19 [00:01<00:00, 11.01it/s]\n",
          "output_type": "stream"
        },
        {
          "name": "stdout",
          "text": "Epochs: 9 | Train Loss:  0.207 | Train Acc:  0.967         | Train F1:  0.963 | Val Loss:  0.323         | Val Acc:  0.911 | Val F1:  0.905\n",
          "output_type": "stream"
        },
        {
          "name": "stderr",
          "text": "100%|██████████| 56/56 [00:14<00:00,  4.00it/s]\n100%|██████████| 19/19 [00:01<00:00, 11.09it/s]\n",
          "output_type": "stream"
        },
        {
          "name": "stdout",
          "text": "Epochs: 10 | Train Loss:  0.157 | Train Acc:  0.977         | Train F1:  0.976 | Val Loss:  0.295         | Val Acc:  0.922 | Val F1:  0.918\n",
          "output_type": "stream"
        },
        {
          "name": "stderr",
          "text": "100%|██████████| 56/56 [00:13<00:00,  4.01it/s]\n100%|██████████| 19/19 [00:01<00:00, 11.16it/s]\n",
          "output_type": "stream"
        },
        {
          "name": "stdout",
          "text": "Epochs: 11 | Train Loss:  0.120 | Train Acc:  0.987         | Train F1:  0.985 | Val Loss:  0.267         | Val Acc:  0.924 | Val F1:  0.922\n",
          "output_type": "stream"
        },
        {
          "name": "stderr",
          "text": "100%|██████████| 56/56 [00:13<00:00,  4.02it/s]\n100%|██████████| 19/19 [00:01<00:00, 11.14it/s]\n",
          "output_type": "stream"
        },
        {
          "name": "stdout",
          "text": "Epochs: 12 | Train Loss:  0.091 | Train Acc:  0.993         | Train F1:  0.992 | Val Loss:  0.257         | Val Acc:  0.923 | Val F1:  0.920\n",
          "output_type": "stream"
        },
        {
          "name": "stderr",
          "text": "100%|██████████| 56/56 [00:13<00:00,  4.01it/s]\n100%|██████████| 19/19 [00:01<00:00, 11.13it/s]\n",
          "output_type": "stream"
        },
        {
          "name": "stdout",
          "text": "Epochs: 13 | Train Loss:  0.071 | Train Acc:  0.994         | Train F1:  0.993 | Val Loss:  0.239         | Val Acc:  0.927 | Val F1:  0.926\n",
          "output_type": "stream"
        },
        {
          "name": "stderr",
          "text": "100%|██████████| 56/56 [00:13<00:00,  4.02it/s]\n100%|██████████| 19/19 [00:01<00:00, 11.15it/s]\n",
          "output_type": "stream"
        },
        {
          "name": "stdout",
          "text": "Epochs: 14 | Train Loss:  0.055 | Train Acc:  0.996         | Train F1:  0.996 | Val Loss:  0.245         | Val Acc:  0.929 | Val F1:  0.927\n",
          "output_type": "stream"
        },
        {
          "name": "stderr",
          "text": "100%|██████████| 56/56 [00:13<00:00,  4.01it/s]\n100%|██████████| 19/19 [00:01<00:00, 11.12it/s]",
          "output_type": "stream"
        },
        {
          "name": "stdout",
          "text": "Epochs: 15 | Train Loss:  0.045 | Train Acc:  0.997         | Train F1:  0.997 | Val Loss:  0.236         | Val Acc:  0.927 | Val F1:  0.924\n",
          "output_type": "stream"
        },
        {
          "name": "stderr",
          "text": "\n",
          "output_type": "stream"
        },
        {
          "execution_count": 156,
          "output_type": "execute_result",
          "data": {
            "text/plain": "(0.9974888392857143, 0.044670044644070525, 0.9972955746283727)"
          },
          "metadata": {}
        }
      ]
    },
    {
      "cell_type": "code",
      "source": [
        "acc, loss, f1 = test(bert, test_loader)\n",
        "print(\"f1-score на тестовой выборке:\", f1)"
      ],
      "metadata": {
        "colab": {
          "base_uri": "https://localhost:8080/"
        },
        "id": "H7OjK_rcRIBr",
        "outputId": "387df365-4636-43ba-aba2-7d6fcca2ef65",
        "execution": {
          "iopub.status.busy": "2023-12-18T13:22:56.140171Z",
          "iopub.execute_input": "2023-12-18T13:22:56.141008Z",
          "iopub.status.idle": "2023-12-18T13:22:58.445453Z",
          "shell.execute_reply.started": "2023-12-18T13:22:56.140976Z",
          "shell.execute_reply": "2023-12-18T13:22:58.444568Z"
        },
        "trusted": true
      },
      "execution_count": null,
      "outputs": [
        {
          "name": "stderr",
          "text": "100%|██████████| 25/25 [00:02<00:00, 10.89it/s]",
          "output_type": "stream"
        },
        {
          "name": "stdout",
          "text": "f1-score на тестовой выборке: 0.9240130212625702\n",
          "output_type": "stream"
        },
        {
          "name": "stderr",
          "text": "\n",
          "output_type": "stream"
        }
      ]
    },
    {
      "cell_type": "code",
      "source": [
        "import warnings\n",
        "warnings.simplefilter('ignore')"
      ],
      "metadata": {
        "id": "glkLNi1pb1Ml",
        "execution": {
          "iopub.status.busy": "2023-12-18T15:56:39.799404Z",
          "iopub.status.idle": "2023-12-18T15:56:39.799730Z",
          "shell.execute_reply.started": "2023-12-18T15:56:39.799569Z",
          "shell.execute_reply": "2023-12-18T15:56:39.799585Z"
        },
        "trusted": true
      },
      "execution_count": null,
      "outputs": []
    },
    {
      "cell_type": "code",
      "source": [
        "#Тюним AdamW\n",
        "n_epochs = 18\n",
        "lrs = [1e-5, 2e-5, 1e-4, 1e-3]\n",
        "adam_lr = pd.DataFrame(columns=lrs)\n",
        "for lr in lrs:\n",
        "    bert = BertClassifier()\n",
        "    optimizer = AdamW(bert.parameters(), lr=lr)\n",
        "    scheduler = get_cosine_schedule_with_warmup(optimizer, num_warmup_steps=0,\n",
        "                                                num_training_steps=len(train_loader) * n_epochs)\n",
        "    train(bert, optimizer, n_epochs, train_loader, val_loader)\n",
        "    acc, loss, f1 = test(bert, test_loader)\n",
        "    results = [loss, acc, f1]\n",
        "    adam_lr[lr] = results"
      ],
      "metadata": {
        "execution": {
          "iopub.status.busy": "2023-12-18T15:22:08.099766Z",
          "iopub.execute_input": "2023-12-18T15:22:08.100651Z",
          "iopub.status.idle": "2023-12-18T15:53:56.886437Z",
          "shell.execute_reply.started": "2023-12-18T15:22:08.100617Z",
          "shell.execute_reply": "2023-12-18T15:53:56.885414Z"
        },
        "collapsed": true,
        "jupyter": {
          "outputs_hidden": true
        },
        "trusted": true,
        "id": "CFlosmZFv-LH",
        "outputId": "59bae80b-3ff5-4ce0-9702-6286cedffc26"
      },
      "execution_count": null,
      "outputs": [
        {
          "name": "stderr",
          "text": "Some weights of BertForSequenceClassification were not initialized from the model checkpoint at cointegrated/rubert-tiny and are newly initialized: ['classifier.weight', 'classifier.bias']\nYou should probably TRAIN this model on a down-stream task to be able to use it for predictions and inference.\n100%|██████████| 58/58 [00:27<00:00,  2.12it/s]\n100%|██████████| 20/20 [00:02<00:00,  6.98it/s]\n",
          "output_type": "stream"
        },
        {
          "name": "stdout",
          "text": "Epochs: 1 | Train Loss:  2.067 | Train Acc:  0.162         | Train F1:  0.126 | Val Loss:  2.034         | Val Acc:  0.260 | Val F1:  0.206\n",
          "output_type": "stream"
        },
        {
          "name": "stderr",
          "text": "100%|██████████| 58/58 [00:21<00:00,  2.64it/s]\n100%|██████████| 20/20 [00:02<00:00,  6.81it/s]\n",
          "output_type": "stream"
        },
        {
          "name": "stdout",
          "text": "Epochs: 2 | Train Loss:  1.993 | Train Acc:  0.319         | Train F1:  0.266 | Val Loss:  1.942         | Val Acc:  0.393 | Val F1:  0.343\n",
          "output_type": "stream"
        },
        {
          "name": "stderr",
          "text": "100%|██████████| 58/58 [00:22<00:00,  2.58it/s]\n100%|██████████| 20/20 [00:03<00:00,  6.60it/s]\n",
          "output_type": "stream"
        },
        {
          "name": "stdout",
          "text": "Epochs: 3 | Train Loss:  1.838 | Train Acc:  0.470         | Train F1:  0.429 | Val Loss:  1.720         | Val Acc:  0.519 | Val F1:  0.468\n",
          "output_type": "stream"
        },
        {
          "name": "stderr",
          "text": "100%|██████████| 58/58 [00:23<00:00,  2.50it/s]\n100%|██████████| 20/20 [00:03<00:00,  6.36it/s]\n",
          "output_type": "stream"
        },
        {
          "name": "stdout",
          "text": "Epochs: 4 | Train Loss:  1.538 | Train Acc:  0.585         | Train F1:  0.547 | Val Loss:  1.392         | Val Acc:  0.630 | Val F1:  0.601\n",
          "output_type": "stream"
        },
        {
          "name": "stderr",
          "text": "100%|██████████| 58/58 [00:23<00:00,  2.51it/s]\n100%|██████████| 20/20 [00:03<00:00,  6.57it/s]\n",
          "output_type": "stream"
        },
        {
          "name": "stdout",
          "text": "Epochs: 5 | Train Loss:  1.228 | Train Acc:  0.689         | Train F1:  0.669 | Val Loss:  1.138         | Val Acc:  0.695 | Val F1:  0.673\n",
          "output_type": "stream"
        },
        {
          "name": "stderr",
          "text": "100%|██████████| 58/58 [00:22<00:00,  2.54it/s]\n100%|██████████| 20/20 [00:03<00:00,  6.58it/s]\n",
          "output_type": "stream"
        },
        {
          "name": "stdout",
          "text": "Epochs: 6 | Train Loss:  0.998 | Train Acc:  0.757         | Train F1:  0.736 | Val Loss:  0.958         | Val Acc:  0.762 | Val F1:  0.737\n",
          "output_type": "stream"
        },
        {
          "name": "stderr",
          "text": "100%|██████████| 58/58 [00:22<00:00,  2.52it/s]\n100%|██████████| 20/20 [00:03<00:00,  6.47it/s]\n",
          "output_type": "stream"
        },
        {
          "name": "stdout",
          "text": "Epochs: 7 | Train Loss:  0.828 | Train Acc:  0.814         | Train F1:  0.798 | Val Loss:  0.819         | Val Acc:  0.795 | Val F1:  0.772\n",
          "output_type": "stream"
        },
        {
          "name": "stderr",
          "text": "100%|██████████| 58/58 [00:23<00:00,  2.51it/s]\n100%|██████████| 20/20 [00:03<00:00,  6.45it/s]\n",
          "output_type": "stream"
        },
        {
          "name": "stdout",
          "text": "Epochs: 8 | Train Loss:  0.690 | Train Acc:  0.854         | Train F1:  0.843 | Val Loss:  0.706         | Val Acc:  0.825 | Val F1:  0.800\n",
          "output_type": "stream"
        },
        {
          "name": "stderr",
          "text": "100%|██████████| 58/58 [00:23<00:00,  2.52it/s]\n100%|██████████| 20/20 [00:03<00:00,  6.49it/s]\n",
          "output_type": "stream"
        },
        {
          "name": "stdout",
          "text": "Epochs: 9 | Train Loss:  0.576 | Train Acc:  0.887         | Train F1:  0.880 | Val Loss:  0.617         | Val Acc:  0.847 | Val F1:  0.828\n",
          "output_type": "stream"
        },
        {
          "name": "stderr",
          "text": "100%|██████████| 58/58 [00:23<00:00,  2.52it/s]\n100%|██████████| 20/20 [00:03<00:00,  6.50it/s]\n",
          "output_type": "stream"
        },
        {
          "name": "stdout",
          "text": "Epochs: 10 | Train Loss:  0.485 | Train Acc:  0.910         | Train F1:  0.903 | Val Loss:  0.545         | Val Acc:  0.860 | Val F1:  0.842\n",
          "output_type": "stream"
        },
        {
          "name": "stderr",
          "text": "100%|██████████| 58/58 [00:23<00:00,  2.52it/s]\n100%|██████████| 20/20 [00:03<00:00,  6.47it/s]\n",
          "output_type": "stream"
        },
        {
          "name": "stdout",
          "text": "Epochs: 11 | Train Loss:  0.411 | Train Acc:  0.927         | Train F1:  0.922 | Val Loss:  0.491         | Val Acc:  0.876 | Val F1:  0.858\n",
          "output_type": "stream"
        },
        {
          "name": "stderr",
          "text": "100%|██████████| 58/58 [00:23<00:00,  2.51it/s]\n100%|██████████| 20/20 [00:03<00:00,  6.47it/s]\n",
          "output_type": "stream"
        },
        {
          "name": "stdout",
          "text": "Epochs: 12 | Train Loss:  0.350 | Train Acc:  0.946         | Train F1:  0.943 | Val Loss:  0.447         | Val Acc:  0.881 | Val F1:  0.863\n",
          "output_type": "stream"
        },
        {
          "name": "stderr",
          "text": "100%|██████████| 58/58 [00:23<00:00,  2.51it/s]\n100%|██████████| 20/20 [00:03<00:00,  6.46it/s]\n",
          "output_type": "stream"
        },
        {
          "name": "stdout",
          "text": "Epochs: 13 | Train Loss:  0.298 | Train Acc:  0.955         | Train F1:  0.952 | Val Loss:  0.404         | Val Acc:  0.893 | Val F1:  0.877\n",
          "output_type": "stream"
        },
        {
          "name": "stderr",
          "text": "100%|██████████| 58/58 [00:23<00:00,  2.51it/s]\n100%|██████████| 20/20 [00:03<00:00,  6.45it/s]\n",
          "output_type": "stream"
        },
        {
          "name": "stdout",
          "text": "Epochs: 14 | Train Loss:  0.252 | Train Acc:  0.961         | Train F1:  0.957 | Val Loss:  0.369         | Val Acc:  0.903 | Val F1:  0.886\n",
          "output_type": "stream"
        },
        {
          "name": "stderr",
          "text": "100%|██████████| 58/58 [00:23<00:00,  2.51it/s]\n100%|██████████| 20/20 [00:03<00:00,  6.43it/s]\n",
          "output_type": "stream"
        },
        {
          "name": "stdout",
          "text": "Epochs: 15 | Train Loss:  0.215 | Train Acc:  0.966         | Train F1:  0.963 | Val Loss:  0.349         | Val Acc:  0.906 | Val F1:  0.895\n",
          "output_type": "stream"
        },
        {
          "name": "stderr",
          "text": "100%|██████████| 58/58 [00:23<00:00,  2.51it/s]\n100%|██████████| 20/20 [00:03<00:00,  6.40it/s]\n",
          "output_type": "stream"
        },
        {
          "name": "stdout",
          "text": "Epochs: 16 | Train Loss:  0.183 | Train Acc:  0.974         | Train F1:  0.973 | Val Loss:  0.331         | Val Acc:  0.910 | Val F1:  0.900\n",
          "output_type": "stream"
        },
        {
          "name": "stderr",
          "text": "100%|██████████| 58/58 [00:23<00:00,  2.51it/s]\n100%|██████████| 20/20 [00:03<00:00,  6.46it/s]\n",
          "output_type": "stream"
        },
        {
          "name": "stdout",
          "text": "Epochs: 17 | Train Loss:  0.155 | Train Acc:  0.981         | Train F1:  0.980 | Val Loss:  0.311         | Val Acc:  0.925 | Val F1:  0.916\n",
          "output_type": "stream"
        },
        {
          "name": "stderr",
          "text": "100%|██████████| 58/58 [00:23<00:00,  2.52it/s]\n100%|██████████| 20/20 [00:03<00:00,  6.51it/s]\n",
          "output_type": "stream"
        },
        {
          "name": "stdout",
          "text": "Epochs: 18 | Train Loss:  0.133 | Train Acc:  0.987         | Train F1:  0.985 | Val Loss:  0.302         | Val Acc:  0.924 | Val F1:  0.914\n",
          "output_type": "stream"
        },
        {
          "name": "stderr",
          "text": "100%|██████████| 26/26 [00:04<00:00,  6.36it/s]\nSome weights of BertForSequenceClassification were not initialized from the model checkpoint at cointegrated/rubert-tiny and are newly initialized: ['classifier.weight', 'classifier.bias']\nYou should probably TRAIN this model on a down-stream task to be able to use it for predictions and inference.\n100%|██████████| 58/58 [00:25<00:00,  2.28it/s]\n100%|██████████| 20/20 [00:03<00:00,  6.49it/s]\n",
          "output_type": "stream"
        },
        {
          "name": "stdout",
          "text": "Epochs: 1 | Train Loss:  2.039 | Train Acc:  0.218         | Train F1:  0.170 | Val Loss:  1.963         | Val Acc:  0.368 | Val F1:  0.317\n",
          "output_type": "stream"
        },
        {
          "name": "stderr",
          "text": "100%|██████████| 58/58 [00:23<00:00,  2.52it/s]\n100%|██████████| 20/20 [00:03<00:00,  6.49it/s]\n",
          "output_type": "stream"
        },
        {
          "name": "stdout",
          "text": "Epochs: 2 | Train Loss:  1.745 | Train Acc:  0.516         | Train F1:  0.484 | Val Loss:  1.474         | Val Acc:  0.594 | Val F1:  0.564\n",
          "output_type": "stream"
        },
        {
          "name": "stderr",
          "text": "100%|██████████| 58/58 [00:23<00:00,  2.52it/s]\n100%|██████████| 20/20 [00:03<00:00,  6.50it/s]\n",
          "output_type": "stream"
        },
        {
          "name": "stdout",
          "text": "Epochs: 3 | Train Loss:  1.209 | Train Acc:  0.670         | Train F1:  0.649 | Val Loss:  1.042         | Val Acc:  0.689 | Val F1:  0.666\n",
          "output_type": "stream"
        },
        {
          "name": "stderr",
          "text": "100%|██████████| 58/58 [00:23<00:00,  2.52it/s]\n100%|██████████| 20/20 [00:03<00:00,  6.52it/s]\n",
          "output_type": "stream"
        },
        {
          "name": "stdout",
          "text": "Epochs: 4 | Train Loss:  0.851 | Train Acc:  0.773         | Train F1:  0.756 | Val Loss:  0.785         | Val Acc:  0.755 | Val F1:  0.726\n",
          "output_type": "stream"
        },
        {
          "name": "stderr",
          "text": "100%|██████████| 58/58 [00:23<00:00,  2.52it/s]\n100%|██████████| 20/20 [00:03<00:00,  6.46it/s]\n",
          "output_type": "stream"
        },
        {
          "name": "stdout",
          "text": "Epochs: 5 | Train Loss:  0.628 | Train Acc:  0.833         | Train F1:  0.820 | Val Loss:  0.637         | Val Acc:  0.798 | Val F1:  0.778\n",
          "output_type": "stream"
        },
        {
          "name": "stderr",
          "text": "100%|██████████| 58/58 [00:23<00:00,  2.52it/s]\n100%|██████████| 20/20 [00:03<00:00,  6.46it/s]\n",
          "output_type": "stream"
        },
        {
          "name": "stdout",
          "text": "Epochs: 6 | Train Loss:  0.475 | Train Acc:  0.884         | Train F1:  0.878 | Val Loss:  0.518         | Val Acc:  0.848 | Val F1:  0.831\n",
          "output_type": "stream"
        },
        {
          "name": "stderr",
          "text": "100%|██████████| 58/58 [00:23<00:00,  2.51it/s]\n100%|██████████| 20/20 [00:03<00:00,  6.47it/s]\n",
          "output_type": "stream"
        },
        {
          "name": "stdout",
          "text": "Epochs: 7 | Train Loss:  0.356 | Train Acc:  0.923         | Train F1:  0.921 | Val Loss:  0.441         | Val Acc:  0.870 | Val F1:  0.850\n",
          "output_type": "stream"
        },
        {
          "name": "stderr",
          "text": "100%|██████████| 58/58 [00:23<00:00,  2.51it/s]\n100%|██████████| 20/20 [00:03<00:00,  6.44it/s]\n",
          "output_type": "stream"
        },
        {
          "name": "stdout",
          "text": "Epochs: 8 | Train Loss:  0.267 | Train Acc:  0.948         | Train F1:  0.944 | Val Loss:  0.376         | Val Acc:  0.896 | Val F1:  0.884\n",
          "output_type": "stream"
        },
        {
          "name": "stderr",
          "text": "100%|██████████| 58/58 [00:23<00:00,  2.51it/s]\n100%|██████████| 20/20 [00:03<00:00,  6.47it/s]\n",
          "output_type": "stream"
        },
        {
          "name": "stdout",
          "text": "Epochs: 9 | Train Loss:  0.199 | Train Acc:  0.963         | Train F1:  0.960 | Val Loss:  0.339         | Val Acc:  0.902 | Val F1:  0.893\n",
          "output_type": "stream"
        },
        {
          "name": "stderr",
          "text": "100%|██████████| 58/58 [00:23<00:00,  2.52it/s]\n100%|██████████| 20/20 [00:03<00:00,  6.52it/s]\n",
          "output_type": "stream"
        },
        {
          "name": "stdout",
          "text": "Epochs: 10 | Train Loss:  0.148 | Train Acc:  0.978         | Train F1:  0.975 | Val Loss:  0.304         | Val Acc:  0.910 | Val F1:  0.900\n",
          "output_type": "stream"
        },
        {
          "name": "stderr",
          "text": "100%|██████████| 58/58 [00:23<00:00,  2.52it/s]\n100%|██████████| 20/20 [00:03<00:00,  6.49it/s]\n",
          "output_type": "stream"
        },
        {
          "name": "stdout",
          "text": "Epochs: 11 | Train Loss:  0.111 | Train Acc:  0.988         | Train F1:  0.987 | Val Loss:  0.293         | Val Acc:  0.917 | Val F1:  0.911\n",
          "output_type": "stream"
        },
        {
          "name": "stderr",
          "text": "100%|██████████| 58/58 [00:23<00:00,  2.52it/s]\n100%|██████████| 20/20 [00:03<00:00,  6.50it/s]\n",
          "output_type": "stream"
        },
        {
          "name": "stdout",
          "text": "Epochs: 12 | Train Loss:  0.083 | Train Acc:  0.992         | Train F1:  0.991 | Val Loss:  0.266         | Val Acc:  0.924 | Val F1:  0.919\n",
          "output_type": "stream"
        },
        {
          "name": "stderr",
          "text": "100%|██████████| 58/58 [00:23<00:00,  2.52it/s]\n100%|██████████| 20/20 [00:03<00:00,  6.50it/s]\n",
          "output_type": "stream"
        },
        {
          "name": "stdout",
          "text": "Epochs: 13 | Train Loss:  0.063 | Train Acc:  0.995         | Train F1:  0.994 | Val Loss:  0.277         | Val Acc:  0.920 | Val F1:  0.914\n",
          "output_type": "stream"
        },
        {
          "name": "stderr",
          "text": "100%|██████████| 58/58 [00:23<00:00,  2.52it/s]\n100%|██████████| 20/20 [00:03<00:00,  6.50it/s]\n",
          "output_type": "stream"
        },
        {
          "name": "stdout",
          "text": "Epochs: 14 | Train Loss:  0.047 | Train Acc:  0.997         | Train F1:  0.997 | Val Loss:  0.260         | Val Acc:  0.921 | Val F1:  0.916\n",
          "output_type": "stream"
        },
        {
          "name": "stderr",
          "text": "100%|██████████| 58/58 [00:23<00:00,  2.52it/s]\n100%|██████████| 20/20 [00:03<00:00,  6.50it/s]\n",
          "output_type": "stream"
        },
        {
          "name": "stdout",
          "text": "Epochs: 15 | Train Loss:  0.036 | Train Acc:  0.999         | Train F1:  0.999 | Val Loss:  0.268         | Val Acc:  0.921 | Val F1:  0.916\n",
          "output_type": "stream"
        },
        {
          "name": "stderr",
          "text": "100%|██████████| 58/58 [00:23<00:00,  2.51it/s]\n100%|██████████| 20/20 [00:03<00:00,  6.49it/s]\n",
          "output_type": "stream"
        },
        {
          "name": "stdout",
          "text": "Epochs: 16 | Train Loss:  0.029 | Train Acc:  0.999         | Train F1:  0.999 | Val Loss:  0.258         | Val Acc:  0.926 | Val F1:  0.921\n",
          "output_type": "stream"
        },
        {
          "name": "stderr",
          "text": "100%|██████████| 58/58 [00:23<00:00,  2.51it/s]\n100%|██████████| 20/20 [00:03<00:00,  6.44it/s]\n",
          "output_type": "stream"
        },
        {
          "name": "stdout",
          "text": "Epochs: 17 | Train Loss:  0.024 | Train Acc:  1.000         | Train F1:  1.000 | Val Loss:  0.267         | Val Acc:  0.922 | Val F1:  0.916\n",
          "output_type": "stream"
        },
        {
          "name": "stderr",
          "text": "100%|██████████| 58/58 [00:23<00:00,  2.52it/s]\n100%|██████████| 20/20 [00:03<00:00,  6.47it/s]\n",
          "output_type": "stream"
        },
        {
          "name": "stdout",
          "text": "Epochs: 18 | Train Loss:  0.020 | Train Acc:  1.000         | Train F1:  1.000 | Val Loss:  0.270         | Val Acc:  0.923 | Val F1:  0.918\n",
          "output_type": "stream"
        },
        {
          "name": "stderr",
          "text": "100%|██████████| 26/26 [00:04<00:00,  6.34it/s]\nSome weights of BertForSequenceClassification were not initialized from the model checkpoint at cointegrated/rubert-tiny and are newly initialized: ['classifier.weight', 'classifier.bias']\nYou should probably TRAIN this model on a down-stream task to be able to use it for predictions and inference.\n100%|██████████| 58/58 [00:25<00:00,  2.28it/s]\n100%|██████████| 20/20 [00:03<00:00,  6.49it/s]\n",
          "output_type": "stream"
        },
        {
          "name": "stdout",
          "text": "Epochs: 1 | Train Loss:  1.534 | Train Acc:  0.489         | Train F1:  0.452 | Val Loss:  0.864         | Val Acc:  0.728 | Val F1:  0.709\n",
          "output_type": "stream"
        },
        {
          "name": "stderr",
          "text": "100%|██████████| 58/58 [00:23<00:00,  2.52it/s]\n100%|██████████| 20/20 [00:03<00:00,  6.50it/s]\n",
          "output_type": "stream"
        },
        {
          "name": "stdout",
          "text": "Epochs: 2 | Train Loss:  0.536 | Train Acc:  0.851         | Train F1:  0.843 | Val Loss:  0.421         | Val Acc:  0.866 | Val F1:  0.849\n",
          "output_type": "stream"
        },
        {
          "name": "stderr",
          "text": "100%|██████████| 58/58 [00:23<00:00,  2.52it/s]\n100%|██████████| 20/20 [00:03<00:00,  6.48it/s]\n",
          "output_type": "stream"
        },
        {
          "name": "stdout",
          "text": "Epochs: 3 | Train Loss:  0.209 | Train Acc:  0.948         | Train F1:  0.944 | Val Loss:  0.270         | Val Acc:  0.923 | Val F1:  0.908\n",
          "output_type": "stream"
        },
        {
          "name": "stderr",
          "text": "100%|██████████| 58/58 [00:23<00:00,  2.52it/s]\n100%|██████████| 20/20 [00:03<00:00,  6.47it/s]\n",
          "output_type": "stream"
        },
        {
          "name": "stdout",
          "text": "Epochs: 4 | Train Loss:  0.081 | Train Acc:  0.985         | Train F1:  0.983 | Val Loss:  0.301         | Val Acc:  0.909 | Val F1:  0.894\n",
          "output_type": "stream"
        },
        {
          "name": "stderr",
          "text": "100%|██████████| 58/58 [00:23<00:00,  2.51it/s]\n100%|██████████| 20/20 [00:03<00:00,  6.44it/s]\n",
          "output_type": "stream"
        },
        {
          "name": "stdout",
          "text": "Epochs: 5 | Train Loss:  0.035 | Train Acc:  0.995         | Train F1:  0.996 | Val Loss:  0.237         | Val Acc:  0.934 | Val F1:  0.924\n",
          "output_type": "stream"
        },
        {
          "name": "stderr",
          "text": "100%|██████████| 58/58 [00:23<00:00,  2.51it/s]\n100%|██████████| 20/20 [00:03<00:00,  6.51it/s]\n",
          "output_type": "stream"
        },
        {
          "name": "stdout",
          "text": "Epochs: 6 | Train Loss:  0.015 | Train Acc:  1.000         | Train F1:  1.000 | Val Loss:  0.241         | Val Acc:  0.938 | Val F1:  0.928\n",
          "output_type": "stream"
        },
        {
          "name": "stderr",
          "text": "100%|██████████| 58/58 [00:23<00:00,  2.51it/s]\n100%|██████████| 20/20 [00:03<00:00,  6.47it/s]\n",
          "output_type": "stream"
        },
        {
          "name": "stdout",
          "text": "Epochs: 7 | Train Loss:  0.008 | Train Acc:  1.000         | Train F1:  1.000 | Val Loss:  0.263         | Val Acc:  0.929 | Val F1:  0.918\n",
          "output_type": "stream"
        },
        {
          "name": "stderr",
          "text": "100%|██████████| 58/58 [00:23<00:00,  2.52it/s]\n100%|██████████| 20/20 [00:03<00:00,  6.48it/s]\n",
          "output_type": "stream"
        },
        {
          "name": "stdout",
          "text": "Epochs: 8 | Train Loss:  0.006 | Train Acc:  1.000         | Train F1:  1.000 | Val Loss:  0.264         | Val Acc:  0.928 | Val F1:  0.917\n",
          "output_type": "stream"
        },
        {
          "name": "stderr",
          "text": "100%|██████████| 58/58 [00:23<00:00,  2.52it/s]\n100%|██████████| 20/20 [00:03<00:00,  6.47it/s]\n",
          "output_type": "stream"
        },
        {
          "name": "stdout",
          "text": "Epochs: 9 | Train Loss:  0.005 | Train Acc:  1.000         | Train F1:  1.000 | Val Loss:  0.273         | Val Acc:  0.931 | Val F1:  0.920\n",
          "output_type": "stream"
        },
        {
          "name": "stderr",
          "text": "100%|██████████| 58/58 [00:23<00:00,  2.52it/s]\n100%|██████████| 20/20 [00:03<00:00,  6.48it/s]\n",
          "output_type": "stream"
        },
        {
          "name": "stdout",
          "text": "Epochs: 10 | Train Loss:  0.004 | Train Acc:  1.000         | Train F1:  1.000 | Val Loss:  0.276         | Val Acc:  0.931 | Val F1:  0.921\n",
          "output_type": "stream"
        },
        {
          "name": "stderr",
          "text": "100%|██████████| 58/58 [00:23<00:00,  2.52it/s]\n100%|██████████| 20/20 [00:03<00:00,  6.49it/s]\n",
          "output_type": "stream"
        },
        {
          "name": "stdout",
          "text": "Epochs: 11 | Train Loss:  0.003 | Train Acc:  1.000         | Train F1:  1.000 | Val Loss:  0.284         | Val Acc:  0.931 | Val F1:  0.921\n",
          "output_type": "stream"
        },
        {
          "name": "stderr",
          "text": "100%|██████████| 58/58 [00:23<00:00,  2.52it/s]\n100%|██████████| 20/20 [00:03<00:00,  6.46it/s]\n",
          "output_type": "stream"
        },
        {
          "name": "stdout",
          "text": "Epochs: 12 | Train Loss:  0.003 | Train Acc:  1.000         | Train F1:  1.000 | Val Loss:  0.286         | Val Acc:  0.931 | Val F1:  0.921\n",
          "output_type": "stream"
        },
        {
          "name": "stderr",
          "text": "100%|██████████| 58/58 [00:23<00:00,  2.51it/s]\n100%|██████████| 20/20 [00:03<00:00,  6.49it/s]\n",
          "output_type": "stream"
        },
        {
          "name": "stdout",
          "text": "Epochs: 13 | Train Loss:  0.002 | Train Acc:  1.000         | Train F1:  1.000 | Val Loss:  0.291         | Val Acc:  0.931 | Val F1:  0.921\n",
          "output_type": "stream"
        },
        {
          "name": "stderr",
          "text": "100%|██████████| 58/58 [00:23<00:00,  2.51it/s]\n100%|██████████| 20/20 [00:03<00:00,  6.47it/s]\n",
          "output_type": "stream"
        },
        {
          "name": "stdout",
          "text": "Epochs: 14 | Train Loss:  0.002 | Train Acc:  1.000         | Train F1:  1.000 | Val Loss:  0.298         | Val Acc:  0.931 | Val F1:  0.920\n",
          "output_type": "stream"
        },
        {
          "name": "stderr",
          "text": "100%|██████████| 58/58 [00:23<00:00,  2.51it/s]\n100%|██████████| 20/20 [00:03<00:00,  6.42it/s]\n",
          "output_type": "stream"
        },
        {
          "name": "stdout",
          "text": "Epochs: 15 | Train Loss:  0.002 | Train Acc:  1.000         | Train F1:  1.000 | Val Loss:  0.301         | Val Acc:  0.931 | Val F1:  0.921\n",
          "output_type": "stream"
        },
        {
          "name": "stderr",
          "text": "100%|██████████| 58/58 [00:23<00:00,  2.51it/s]\n100%|██████████| 20/20 [00:03<00:00,  6.45it/s]\n",
          "output_type": "stream"
        },
        {
          "name": "stdout",
          "text": "Epochs: 16 | Train Loss:  0.002 | Train Acc:  1.000         | Train F1:  1.000 | Val Loss:  0.305         | Val Acc:  0.933 | Val F1:  0.923\n",
          "output_type": "stream"
        },
        {
          "name": "stderr",
          "text": "100%|██████████| 58/58 [00:23<00:00,  2.51it/s]\n100%|██████████| 20/20 [00:03<00:00,  6.46it/s]\n",
          "output_type": "stream"
        },
        {
          "name": "stdout",
          "text": "Epochs: 17 | Train Loss:  0.001 | Train Acc:  1.000         | Train F1:  1.000 | Val Loss:  0.307         | Val Acc:  0.933 | Val F1:  0.923\n",
          "output_type": "stream"
        },
        {
          "name": "stderr",
          "text": "100%|██████████| 58/58 [00:23<00:00,  2.51it/s]\n100%|██████████| 20/20 [00:03<00:00,  6.46it/s]\n",
          "output_type": "stream"
        },
        {
          "name": "stdout",
          "text": "Epochs: 18 | Train Loss:  0.001 | Train Acc:  1.000         | Train F1:  1.000 | Val Loss:  0.311         | Val Acc:  0.933 | Val F1:  0.924\n",
          "output_type": "stream"
        },
        {
          "name": "stderr",
          "text": "100%|██████████| 26/26 [00:04<00:00,  6.34it/s]\nSome weights of BertForSequenceClassification were not initialized from the model checkpoint at cointegrated/rubert-tiny and are newly initialized: ['classifier.weight', 'classifier.bias']\nYou should probably TRAIN this model on a down-stream task to be able to use it for predictions and inference.\n100%|██████████| 58/58 [00:25<00:00,  2.28it/s]\n100%|██████████| 20/20 [00:03<00:00,  6.46it/s]\n",
          "output_type": "stream"
        },
        {
          "name": "stdout",
          "text": "Epochs: 1 | Train Loss:  0.935 | Train Acc:  0.659         | Train F1:  0.634 | Val Loss:  0.435         | Val Acc:  0.856 | Val F1:  0.844\n",
          "output_type": "stream"
        },
        {
          "name": "stderr",
          "text": "100%|██████████| 58/58 [00:23<00:00,  2.51it/s]\n100%|██████████| 20/20 [00:03<00:00,  6.45it/s]\n",
          "output_type": "stream"
        },
        {
          "name": "stdout",
          "text": "Epochs: 2 | Train Loss:  0.260 | Train Acc:  0.922         | Train F1:  0.916 | Val Loss:  0.399         | Val Acc:  0.887 | Val F1:  0.883\n",
          "output_type": "stream"
        },
        {
          "name": "stderr",
          "text": "100%|██████████| 58/58 [00:23<00:00,  2.51it/s]\n100%|██████████| 20/20 [00:03<00:00,  6.51it/s]\n",
          "output_type": "stream"
        },
        {
          "name": "stdout",
          "text": "Epochs: 3 | Train Loss:  0.098 | Train Acc:  0.970         | Train F1:  0.967 | Val Loss:  0.377         | Val Acc:  0.907 | Val F1:  0.898\n",
          "output_type": "stream"
        },
        {
          "name": "stderr",
          "text": "100%|██████████| 58/58 [00:23<00:00,  2.52it/s]\n100%|██████████| 20/20 [00:03<00:00,  6.51it/s]\n",
          "output_type": "stream"
        },
        {
          "name": "stdout",
          "text": "Epochs: 4 | Train Loss:  0.089 | Train Acc:  0.972         | Train F1:  0.970 | Val Loss:  0.454         | Val Acc:  0.893 | Val F1:  0.882\n",
          "output_type": "stream"
        },
        {
          "name": "stderr",
          "text": "100%|██████████| 58/58 [00:22<00:00,  2.52it/s]\n100%|██████████| 20/20 [00:03<00:00,  6.52it/s]\n",
          "output_type": "stream"
        },
        {
          "name": "stdout",
          "text": "Epochs: 5 | Train Loss:  0.144 | Train Acc:  0.957         | Train F1:  0.952 | Val Loss:  0.524         | Val Acc:  0.881 | Val F1:  0.870\n",
          "output_type": "stream"
        },
        {
          "name": "stderr",
          "text": "100%|██████████| 58/58 [00:23<00:00,  2.52it/s]\n100%|██████████| 20/20 [00:03<00:00,  6.52it/s]\n",
          "output_type": "stream"
        },
        {
          "name": "stdout",
          "text": "Epochs: 6 | Train Loss:  0.090 | Train Acc:  0.971         | Train F1:  0.969 | Val Loss:  0.382         | Val Acc:  0.904 | Val F1:  0.899\n",
          "output_type": "stream"
        },
        {
          "name": "stderr",
          "text": "100%|██████████| 58/58 [00:23<00:00,  2.52it/s]\n100%|██████████| 20/20 [00:03<00:00,  6.51it/s]\n",
          "output_type": "stream"
        },
        {
          "name": "stdout",
          "text": "Epochs: 7 | Train Loss:  0.077 | Train Acc:  0.977         | Train F1:  0.976 | Val Loss:  0.446         | Val Acc:  0.902 | Val F1:  0.892\n",
          "output_type": "stream"
        },
        {
          "name": "stderr",
          "text": "100%|██████████| 58/58 [00:23<00:00,  2.52it/s]\n100%|██████████| 20/20 [00:03<00:00,  6.48it/s]\n",
          "output_type": "stream"
        },
        {
          "name": "stdout",
          "text": "Epochs: 8 | Train Loss:  0.032 | Train Acc:  0.987         | Train F1:  0.986 | Val Loss:  0.516         | Val Acc:  0.893 | Val F1:  0.880\n",
          "output_type": "stream"
        },
        {
          "name": "stderr",
          "text": "100%|██████████| 58/58 [00:23<00:00,  2.52it/s]\n100%|██████████| 20/20 [00:03<00:00,  6.51it/s]\n",
          "output_type": "stream"
        },
        {
          "name": "stdout",
          "text": "Epochs: 9 | Train Loss:  0.033 | Train Acc:  0.991         | Train F1:  0.991 | Val Loss:  0.442         | Val Acc:  0.899 | Val F1:  0.890\n",
          "output_type": "stream"
        },
        {
          "name": "stderr",
          "text": "100%|██████████| 58/58 [00:23<00:00,  2.52it/s]\n100%|██████████| 20/20 [00:03<00:00,  6.49it/s]\n",
          "output_type": "stream"
        },
        {
          "name": "stdout",
          "text": "Epochs: 10 | Train Loss:  0.046 | Train Acc:  0.987         | Train F1:  0.985 | Val Loss:  0.435         | Val Acc:  0.914 | Val F1:  0.901\n",
          "output_type": "stream"
        },
        {
          "name": "stderr",
          "text": "100%|██████████| 58/58 [00:23<00:00,  2.52it/s]\n100%|██████████| 20/20 [00:03<00:00,  6.51it/s]\n",
          "output_type": "stream"
        },
        {
          "name": "stdout",
          "text": "Epochs: 11 | Train Loss:  0.073 | Train Acc:  0.979         | Train F1:  0.978 | Val Loss:  0.677         | Val Acc:  0.836 | Val F1:  0.822\n",
          "output_type": "stream"
        },
        {
          "name": "stderr",
          "text": "100%|██████████| 58/58 [00:22<00:00,  2.52it/s]\n100%|██████████| 20/20 [00:03<00:00,  6.51it/s]\n",
          "output_type": "stream"
        },
        {
          "name": "stdout",
          "text": "Epochs: 12 | Train Loss:  0.138 | Train Acc:  0.961         | Train F1:  0.958 | Val Loss:  0.493         | Val Acc:  0.885 | Val F1:  0.873\n",
          "output_type": "stream"
        },
        {
          "name": "stderr",
          "text": "100%|██████████| 58/58 [00:22<00:00,  2.53it/s]\n100%|██████████| 20/20 [00:03<00:00,  6.54it/s]\n",
          "output_type": "stream"
        },
        {
          "name": "stdout",
          "text": "Epochs: 13 | Train Loss:  0.101 | Train Acc:  0.970         | Train F1:  0.968 | Val Loss:  0.524         | Val Acc:  0.876 | Val F1:  0.859\n",
          "output_type": "stream"
        },
        {
          "name": "stderr",
          "text": "100%|██████████| 58/58 [00:23<00:00,  2.52it/s]\n100%|██████████| 20/20 [00:03<00:00,  6.52it/s]\n",
          "output_type": "stream"
        },
        {
          "name": "stdout",
          "text": "Epochs: 14 | Train Loss:  0.072 | Train Acc:  0.981         | Train F1:  0.980 | Val Loss:  0.389         | Val Acc:  0.912 | Val F1:  0.902\n",
          "output_type": "stream"
        },
        {
          "name": "stderr",
          "text": "100%|██████████| 58/58 [00:23<00:00,  2.52it/s]\n100%|██████████| 20/20 [00:03<00:00,  6.50it/s]\n",
          "output_type": "stream"
        },
        {
          "name": "stdout",
          "text": "Epochs: 15 | Train Loss:  0.018 | Train Acc:  0.994         | Train F1:  0.994 | Val Loss:  0.453         | Val Acc:  0.911 | Val F1:  0.905\n",
          "output_type": "stream"
        },
        {
          "name": "stderr",
          "text": "100%|██████████| 58/58 [00:23<00:00,  2.52it/s]\n100%|██████████| 20/20 [00:03<00:00,  6.51it/s]\n",
          "output_type": "stream"
        },
        {
          "name": "stdout",
          "text": "Epochs: 16 | Train Loss:  0.023 | Train Acc:  0.994         | Train F1:  0.993 | Val Loss:  0.558         | Val Acc:  0.899 | Val F1:  0.880\n",
          "output_type": "stream"
        },
        {
          "name": "stderr",
          "text": "100%|██████████| 58/58 [00:23<00:00,  2.52it/s]\n100%|██████████| 20/20 [00:03<00:00,  6.51it/s]\n",
          "output_type": "stream"
        },
        {
          "name": "stdout",
          "text": "Epochs: 17 | Train Loss:  0.034 | Train Acc:  0.989         | Train F1:  0.989 | Val Loss:  0.581         | Val Acc:  0.897 | Val F1:  0.877\n",
          "output_type": "stream"
        },
        {
          "name": "stderr",
          "text": "100%|██████████| 58/58 [00:23<00:00,  2.52it/s]\n100%|██████████| 20/20 [00:03<00:00,  6.49it/s]\n",
          "output_type": "stream"
        },
        {
          "name": "stdout",
          "text": "Epochs: 18 | Train Loss:  0.037 | Train Acc:  0.988         | Train F1:  0.986 | Val Loss:  0.501         | Val Acc:  0.904 | Val F1:  0.897\n",
          "output_type": "stream"
        },
        {
          "name": "stderr",
          "text": "100%|██████████| 26/26 [00:04<00:00,  6.35it/s]\n",
          "output_type": "stream"
        }
      ]
    },
    {
      "cell_type": "code",
      "source": [
        "adam_lr"
      ],
      "metadata": {
        "execution": {
          "iopub.status.busy": "2023-12-18T13:46:48.390534Z",
          "iopub.execute_input": "2023-12-18T13:46:48.391293Z",
          "iopub.status.idle": "2023-12-18T13:46:48.402064Z",
          "shell.execute_reply.started": "2023-12-18T13:46:48.391262Z",
          "shell.execute_reply": "2023-12-18T13:46:48.401067Z"
        },
        "trusted": true,
        "id": "XK_SMu_Ov-LI",
        "outputId": "62be5569-cbd3-4db7-8855-567f39546455"
      },
      "execution_count": null,
      "outputs": [
        {
          "execution_count": 162,
          "output_type": "execute_result",
          "data": {
            "text/plain": "    0.00001   0.00002   0.00010   0.00100\n0  0.295181  0.250852  0.270047  0.598320\n1  0.923056  0.933819  0.937917  0.870764\n2  0.916888  0.930163  0.934674  0.860779",
            "text/html": "<div>\n<style scoped>\n    .dataframe tbody tr th:only-of-type {\n        vertical-align: middle;\n    }\n\n    .dataframe tbody tr th {\n        vertical-align: top;\n    }\n\n    .dataframe thead th {\n        text-align: right;\n    }\n</style>\n<table border=\"1\" class=\"dataframe\">\n  <thead>\n    <tr style=\"text-align: right;\">\n      <th></th>\n      <th>0.00001</th>\n      <th>0.00002</th>\n      <th>0.00010</th>\n      <th>0.00100</th>\n    </tr>\n  </thead>\n  <tbody>\n    <tr>\n      <th>0</th>\n      <td>0.295181</td>\n      <td>0.250852</td>\n      <td>0.270047</td>\n      <td>0.598320</td>\n    </tr>\n    <tr>\n      <th>1</th>\n      <td>0.923056</td>\n      <td>0.933819</td>\n      <td>0.937917</td>\n      <td>0.870764</td>\n    </tr>\n    <tr>\n      <th>2</th>\n      <td>0.916888</td>\n      <td>0.930163</td>\n      <td>0.934674</td>\n      <td>0.860779</td>\n    </tr>\n  </tbody>\n</table>\n</div>"
          },
          "metadata": {}
        }
      ]
    },
    {
      "cell_type": "code",
      "source": [
        "#Видно, что наибольший f1-score (3 строка таблицы) достигается при lr=1e-4\n",
        "best_lr = 1e-4"
      ],
      "metadata": {
        "execution": {
          "iopub.status.busy": "2023-12-18T15:56:41.480017Z",
          "iopub.execute_input": "2023-12-18T15:56:41.480786Z",
          "iopub.status.idle": "2023-12-18T15:56:41.484711Z",
          "shell.execute_reply.started": "2023-12-18T15:56:41.480753Z",
          "shell.execute_reply": "2023-12-18T15:56:41.483827Z"
        },
        "trusted": true,
        "id": "fSK5hbimv-LI"
      },
      "execution_count": null,
      "outputs": []
    },
    {
      "cell_type": "markdown",
      "source": [
        "## Подбираем шедулер"
      ],
      "metadata": {
        "id": "_1Py1enBv-LJ"
      }
    },
    {
      "cell_type": "code",
      "source": [
        "#Тюним CosineAnnealing with warmup\n",
        "num_warm_steps = [0, 1, 3, 5]\n",
        "n_epochs = 10\n",
        "ca_nws = pd.DataFrame(columns=num_warm_steps)\n",
        "for num_warm_step in num_warm_steps:\n",
        "    bert = BertClassifier()\n",
        "    optimizer = AdamW(bert.parameters(), lr=best_lr)\n",
        "    scheduler = get_cosine_schedule_with_warmup(optimizer, num_warmup_steps=num_warm_step, num_training_steps=len(train_loader) * n_epochs)\n",
        "    train(bert, optimizer, n_epochs, train_loader, val_loader, scheduler)\n",
        "    acc, loss, f1 = test(bert, test_loader)\n",
        "    results = [loss, acc, f1]\n",
        "    ca_nws[num_warm_step] = results"
      ],
      "metadata": {
        "execution": {
          "iopub.status.busy": "2023-12-18T13:51:23.323678Z",
          "iopub.execute_input": "2023-12-18T13:51:23.324365Z",
          "iopub.status.idle": "2023-12-18T14:02:05.315799Z",
          "shell.execute_reply.started": "2023-12-18T13:51:23.324330Z",
          "shell.execute_reply": "2023-12-18T14:02:05.314310Z"
        },
        "collapsed": true,
        "jupyter": {
          "outputs_hidden": true
        },
        "trusted": true,
        "id": "OEXRY7y1v-LJ",
        "outputId": "ccc0893a-9678-4bb7-8b96-304435d9b0fd"
      },
      "execution_count": null,
      "outputs": [
        {
          "name": "stderr",
          "text": "Some weights of BertForSequenceClassification were not initialized from the model checkpoint at cointegrated/rubert-tiny and are newly initialized: ['classifier.bias', 'classifier.weight']\nYou should probably TRAIN this model on a down-stream task to be able to use it for predictions and inference.\n100%|██████████| 56/56 [00:15<00:00,  3.67it/s]\n100%|██████████| 19/19 [00:01<00:00, 11.13it/s]\n",
          "output_type": "stream"
        },
        {
          "name": "stdout",
          "text": "Epochs: 1 | Train Loss:  1.613 | Train Acc:  0.450         | Train F1:  0.396 | Val Loss:  0.914         | Val Acc:  0.704 | Val F1:  0.687\n",
          "output_type": "stream"
        },
        {
          "name": "stderr",
          "text": "100%|██████████| 56/56 [00:13<00:00,  4.02it/s]\n100%|██████████| 19/19 [00:01<00:00, 11.17it/s]\n",
          "output_type": "stream"
        },
        {
          "name": "stdout",
          "text": "Epochs: 2 | Train Loss:  0.564 | Train Acc:  0.838         | Train F1:  0.822 | Val Loss:  0.413         | Val Acc:  0.881 | Val F1:  0.872\n",
          "output_type": "stream"
        },
        {
          "name": "stderr",
          "text": "100%|██████████| 56/56 [00:13<00:00,  4.02it/s]\n100%|██████████| 19/19 [00:01<00:00, 11.16it/s]\n",
          "output_type": "stream"
        },
        {
          "name": "stdout",
          "text": "Epochs: 3 | Train Loss:  0.237 | Train Acc:  0.935         | Train F1:  0.928 | Val Loss:  0.279         | Val Acc:  0.923 | Val F1:  0.916\n",
          "output_type": "stream"
        },
        {
          "name": "stderr",
          "text": "100%|██████████| 56/56 [00:13<00:00,  4.02it/s]\n100%|██████████| 19/19 [00:01<00:00, 11.19it/s]\n",
          "output_type": "stream"
        },
        {
          "name": "stdout",
          "text": "Epochs: 4 | Train Loss:  0.098 | Train Acc:  0.981         | Train F1:  0.980 | Val Loss:  0.244         | Val Acc:  0.934 | Val F1:  0.929\n",
          "output_type": "stream"
        },
        {
          "name": "stderr",
          "text": "100%|██████████| 56/56 [00:13<00:00,  4.02it/s]\n100%|██████████| 19/19 [00:01<00:00, 11.16it/s]\n",
          "output_type": "stream"
        },
        {
          "name": "stdout",
          "text": "Epochs: 5 | Train Loss:  0.038 | Train Acc:  0.996         | Train F1:  0.995 | Val Loss:  0.236         | Val Acc:  0.933 | Val F1:  0.929\n",
          "output_type": "stream"
        },
        {
          "name": "stderr",
          "text": "100%|██████████| 56/56 [00:13<00:00,  4.02it/s]\n100%|██████████| 19/19 [00:01<00:00, 11.16it/s]\n",
          "output_type": "stream"
        },
        {
          "name": "stdout",
          "text": "Epochs: 6 | Train Loss:  0.015 | Train Acc:  1.000         | Train F1:  1.000 | Val Loss:  0.228         | Val Acc:  0.939 | Val F1:  0.934\n",
          "output_type": "stream"
        },
        {
          "name": "stderr",
          "text": "100%|██████████| 56/56 [00:13<00:00,  4.03it/s]\n100%|██████████| 19/19 [00:01<00:00, 11.16it/s]\n",
          "output_type": "stream"
        },
        {
          "name": "stdout",
          "text": "Epochs: 7 | Train Loss:  0.009 | Train Acc:  1.000         | Train F1:  1.000 | Val Loss:  0.249         | Val Acc:  0.936 | Val F1:  0.931\n",
          "output_type": "stream"
        },
        {
          "name": "stderr",
          "text": "100%|██████████| 56/56 [00:13<00:00,  4.02it/s]\n100%|██████████| 19/19 [00:01<00:00, 11.18it/s]\n",
          "output_type": "stream"
        },
        {
          "name": "stdout",
          "text": "Epochs: 8 | Train Loss:  0.007 | Train Acc:  1.000         | Train F1:  1.000 | Val Loss:  0.249         | Val Acc:  0.937 | Val F1:  0.933\n",
          "output_type": "stream"
        },
        {
          "name": "stderr",
          "text": "100%|██████████| 56/56 [00:13<00:00,  4.02it/s]\n100%|██████████| 19/19 [00:01<00:00, 11.17it/s]\n",
          "output_type": "stream"
        },
        {
          "name": "stdout",
          "text": "Epochs: 9 | Train Loss:  0.005 | Train Acc:  1.000         | Train F1:  1.000 | Val Loss:  0.251         | Val Acc:  0.937 | Val F1:  0.933\n",
          "output_type": "stream"
        },
        {
          "name": "stderr",
          "text": "100%|██████████| 56/56 [00:13<00:00,  4.02it/s]\n100%|██████████| 19/19 [00:01<00:00, 11.16it/s]\n",
          "output_type": "stream"
        },
        {
          "name": "stdout",
          "text": "Epochs: 10 | Train Loss:  0.004 | Train Acc:  1.000         | Train F1:  1.000 | Val Loss:  0.256         | Val Acc:  0.937 | Val F1:  0.932\n",
          "output_type": "stream"
        },
        {
          "name": "stderr",
          "text": "100%|██████████| 25/25 [00:02<00:00, 11.00it/s]\nSome weights of BertForSequenceClassification were not initialized from the model checkpoint at cointegrated/rubert-tiny and are newly initialized: ['classifier.bias', 'classifier.weight']\nYou should probably TRAIN this model on a down-stream task to be able to use it for predictions and inference.\n100%|██████████| 56/56 [00:15<00:00,  3.68it/s]\n100%|██████████| 19/19 [00:01<00:00, 11.19it/s]\n",
          "output_type": "stream"
        },
        {
          "name": "stdout",
          "text": "Epochs: 1 | Train Loss:  2.082 | Train Acc:  0.119         | Train F1:  0.070 | Val Loss:  2.083         | Val Acc:  0.103 | Val F1:  0.065\n",
          "output_type": "stream"
        },
        {
          "name": "stderr",
          "text": "100%|██████████| 56/56 [00:13<00:00,  4.02it/s]\n100%|██████████| 19/19 [00:01<00:00, 11.17it/s]\n",
          "output_type": "stream"
        },
        {
          "name": "stdout",
          "text": "Epochs: 2 | Train Loss:  1.485 | Train Acc:  0.520         | Train F1:  0.477 | Val Loss:  0.720         | Val Acc:  0.781 | Val F1:  0.759\n",
          "output_type": "stream"
        },
        {
          "name": "stderr",
          "text": "100%|██████████| 56/56 [00:13<00:00,  4.03it/s]\n100%|██████████| 19/19 [00:01<00:00, 11.18it/s]\n",
          "output_type": "stream"
        },
        {
          "name": "stdout",
          "text": "Epochs: 3 | Train Loss:  0.462 | Train Acc:  0.870         | Train F1:  0.856 | Val Loss:  0.403         | Val Acc:  0.888 | Val F1:  0.880\n",
          "output_type": "stream"
        },
        {
          "name": "stderr",
          "text": "100%|██████████| 56/56 [00:13<00:00,  4.02it/s]\n100%|██████████| 19/19 [00:01<00:00, 11.16it/s]\n",
          "output_type": "stream"
        },
        {
          "name": "stdout",
          "text": "Epochs: 4 | Train Loss:  0.220 | Train Acc:  0.946         | Train F1:  0.943 | Val Loss:  0.314         | Val Acc:  0.907 | Val F1:  0.903\n",
          "output_type": "stream"
        },
        {
          "name": "stderr",
          "text": "100%|██████████| 56/56 [00:13<00:00,  4.02it/s]\n100%|██████████| 19/19 [00:01<00:00, 11.13it/s]\n",
          "output_type": "stream"
        },
        {
          "name": "stdout",
          "text": "Epochs: 5 | Train Loss:  0.134 | Train Acc:  0.973         | Train F1:  0.969 | Val Loss:  0.275         | Val Acc:  0.928 | Val F1:  0.924\n",
          "output_type": "stream"
        },
        {
          "name": "stderr",
          "text": "100%|██████████| 56/56 [00:13<00:00,  4.01it/s]\n100%|██████████| 19/19 [00:01<00:00, 10.90it/s]\n",
          "output_type": "stream"
        },
        {
          "name": "stdout",
          "text": "Epochs: 6 | Train Loss:  0.088 | Train Acc:  0.988         | Train F1:  0.987 | Val Loss:  0.257         | Val Acc:  0.933 | Val F1:  0.929\n",
          "output_type": "stream"
        },
        {
          "name": "stderr",
          "text": "100%|██████████| 56/56 [00:14<00:00,  3.99it/s]\n100%|██████████| 19/19 [00:01<00:00, 11.07it/s]\n",
          "output_type": "stream"
        },
        {
          "name": "stdout",
          "text": "Epochs: 7 | Train Loss:  0.061 | Train Acc:  0.993         | Train F1:  0.993 | Val Loss:  0.249         | Val Acc:  0.931 | Val F1:  0.927\n",
          "output_type": "stream"
        },
        {
          "name": "stderr",
          "text": "100%|██████████| 56/56 [00:14<00:00,  4.00it/s]\n100%|██████████| 19/19 [00:01<00:00, 11.03it/s]\n",
          "output_type": "stream"
        },
        {
          "name": "stdout",
          "text": "Epochs: 8 | Train Loss:  0.044 | Train Acc:  0.996         | Train F1:  0.995 | Val Loss:  0.238         | Val Acc:  0.936 | Val F1:  0.932\n",
          "output_type": "stream"
        },
        {
          "name": "stderr",
          "text": "100%|██████████| 56/56 [00:14<00:00,  4.00it/s]\n100%|██████████| 19/19 [00:01<00:00, 11.10it/s]\n",
          "output_type": "stream"
        },
        {
          "name": "stdout",
          "text": "Epochs: 9 | Train Loss:  0.033 | Train Acc:  0.999         | Train F1:  0.999 | Val Loss:  0.241         | Val Acc:  0.936 | Val F1:  0.932\n",
          "output_type": "stream"
        },
        {
          "name": "stderr",
          "text": "100%|██████████| 56/56 [00:14<00:00,  3.99it/s]\n100%|██████████| 19/19 [00:01<00:00, 11.09it/s]\n",
          "output_type": "stream"
        },
        {
          "name": "stdout",
          "text": "Epochs: 10 | Train Loss:  0.026 | Train Acc:  0.999         | Train F1:  0.999 | Val Loss:  0.242         | Val Acc:  0.934 | Val F1:  0.929\n",
          "output_type": "stream"
        },
        {
          "name": "stderr",
          "text": "100%|██████████| 25/25 [00:02<00:00, 10.92it/s]\nSome weights of BertForSequenceClassification were not initialized from the model checkpoint at cointegrated/rubert-tiny and are newly initialized: ['classifier.bias', 'classifier.weight']\nYou should probably TRAIN this model on a down-stream task to be able to use it for predictions and inference.\n100%|██████████| 56/56 [00:15<00:00,  3.66it/s]\n100%|██████████| 19/19 [00:01<00:00, 11.02it/s]\n",
          "output_type": "stream"
        },
        {
          "name": "stdout",
          "text": "Epochs: 1 | Train Loss:  2.084 | Train Acc:  0.115         | Train F1:  0.103 | Val Loss:  2.077         | Val Acc:  0.100 | Val F1:  0.083\n",
          "output_type": "stream"
        },
        {
          "name": "stderr",
          "text": "100%|██████████| 56/56 [00:14<00:00,  3.99it/s]\n100%|██████████| 19/19 [00:01<00:00, 11.00it/s]\n",
          "output_type": "stream"
        },
        {
          "name": "stdout",
          "text": "Epochs: 2 | Train Loss:  1.636 | Train Acc:  0.453         | Train F1:  0.380 | Val Loss:  1.013         | Val Acc:  0.683 | Val F1:  0.657\n",
          "output_type": "stream"
        },
        {
          "name": "stderr",
          "text": "100%|██████████| 56/56 [00:13<00:00,  4.00it/s]\n100%|██████████| 19/19 [00:01<00:00, 11.12it/s]\n",
          "output_type": "stream"
        },
        {
          "name": "stdout",
          "text": "Epochs: 3 | Train Loss:  0.789 | Train Acc:  0.787         | Train F1:  0.769 | Val Loss:  0.677         | Val Acc:  0.797 | Val F1:  0.783\n",
          "output_type": "stream"
        },
        {
          "name": "stderr",
          "text": "100%|██████████| 56/56 [00:13<00:00,  4.01it/s]\n100%|██████████| 19/19 [00:01<00:00, 11.14it/s]\n",
          "output_type": "stream"
        },
        {
          "name": "stdout",
          "text": "Epochs: 4 | Train Loss:  0.521 | Train Acc:  0.869         | Train F1:  0.855 | Val Loss:  0.537         | Val Acc:  0.847 | Val F1:  0.838\n",
          "output_type": "stream"
        },
        {
          "name": "stderr",
          "text": "100%|██████████| 56/56 [00:13<00:00,  4.01it/s]\n100%|██████████| 19/19 [00:01<00:00, 11.12it/s]\n",
          "output_type": "stream"
        },
        {
          "name": "stdout",
          "text": "Epochs: 5 | Train Loss:  0.389 | Train Acc:  0.909         | Train F1:  0.898 | Val Loss:  0.465         | Val Acc:  0.863 | Val F1:  0.852\n",
          "output_type": "stream"
        },
        {
          "name": "stderr",
          "text": "100%|██████████| 56/56 [00:13<00:00,  4.02it/s]\n100%|██████████| 19/19 [00:01<00:00, 11.17it/s]\n",
          "output_type": "stream"
        },
        {
          "name": "stdout",
          "text": "Epochs: 6 | Train Loss:  0.309 | Train Acc:  0.932         | Train F1:  0.924 | Val Loss:  0.402         | Val Acc:  0.885 | Val F1:  0.877\n",
          "output_type": "stream"
        },
        {
          "name": "stderr",
          "text": "100%|██████████| 56/56 [00:13<00:00,  4.02it/s]\n100%|██████████| 19/19 [00:01<00:00, 11.16it/s]\n",
          "output_type": "stream"
        },
        {
          "name": "stdout",
          "text": "Epochs: 7 | Train Loss:  0.244 | Train Acc:  0.949         | Train F1:  0.942 | Val Loss:  0.366         | Val Acc:  0.898 | Val F1:  0.890\n",
          "output_type": "stream"
        },
        {
          "name": "stderr",
          "text": "100%|██████████| 56/56 [00:13<00:00,  4.02it/s]\n100%|██████████| 19/19 [00:01<00:00, 11.16it/s]\n",
          "output_type": "stream"
        },
        {
          "name": "stdout",
          "text": "Epochs: 8 | Train Loss:  0.200 | Train Acc:  0.963         | Train F1:  0.960 | Val Loss:  0.338         | Val Acc:  0.905 | Val F1:  0.896\n",
          "output_type": "stream"
        },
        {
          "name": "stderr",
          "text": "100%|██████████| 56/56 [00:13<00:00,  4.02it/s]\n100%|██████████| 19/19 [00:01<00:00, 11.12it/s]\n",
          "output_type": "stream"
        },
        {
          "name": "stdout",
          "text": "Epochs: 9 | Train Loss:  0.166 | Train Acc:  0.971         | Train F1:  0.969 | Val Loss:  0.319         | Val Acc:  0.908 | Val F1:  0.900\n",
          "output_type": "stream"
        },
        {
          "name": "stderr",
          "text": "100%|██████████| 56/56 [00:13<00:00,  4.01it/s]\n100%|██████████| 19/19 [00:01<00:00, 11.12it/s]\n",
          "output_type": "stream"
        },
        {
          "name": "stdout",
          "text": "Epochs: 10 | Train Loss:  0.139 | Train Acc:  0.980         | Train F1:  0.979 | Val Loss:  0.294         | Val Acc:  0.915 | Val F1:  0.909\n",
          "output_type": "stream"
        },
        {
          "name": "stderr",
          "text": "100%|██████████| 25/25 [00:02<00:00, 10.99it/s]\nSome weights of BertForSequenceClassification were not initialized from the model checkpoint at cointegrated/rubert-tiny and are newly initialized: ['classifier.bias', 'classifier.weight']\nYou should probably TRAIN this model on a down-stream task to be able to use it for predictions and inference.\n100%|██████████| 56/56 [00:15<00:00,  3.67it/s]\n100%|██████████| 19/19 [00:01<00:00, 11.15it/s]\n",
          "output_type": "stream"
        },
        {
          "name": "stdout",
          "text": "Epochs: 1 | Train Loss:  2.087 | Train Acc:  0.112         | Train F1:  0.091 | Val Loss:  2.080         | Val Acc:  0.131 | Val F1:  0.097\n",
          "output_type": "stream"
        },
        {
          "name": "stderr",
          "text": "100%|██████████| 56/56 [00:13<00:00,  4.02it/s]\n100%|██████████| 19/19 [00:01<00:00, 11.19it/s]\n",
          "output_type": "stream"
        },
        {
          "name": "stdout",
          "text": "Epochs: 2 | Train Loss:  1.907 | Train Acc:  0.302         | Train F1:  0.257 | Val Loss:  1.560         | Val Acc:  0.560 | Val F1:  0.510\n",
          "output_type": "stream"
        },
        {
          "name": "stderr",
          "text": "100%|██████████| 56/56 [00:13<00:00,  4.02it/s]\n100%|██████████| 19/19 [00:01<00:00, 11.15it/s]\n",
          "output_type": "stream"
        },
        {
          "name": "stdout",
          "text": "Epochs: 3 | Train Loss:  1.189 | Train Acc:  0.682         | Train F1:  0.642 | Val Loss:  0.865         | Val Acc:  0.780 | Val F1:  0.771\n",
          "output_type": "stream"
        },
        {
          "name": "stderr",
          "text": "100%|██████████| 56/56 [00:13<00:00,  4.02it/s]\n100%|██████████| 19/19 [00:01<00:00, 11.13it/s]\n",
          "output_type": "stream"
        },
        {
          "name": "stdout",
          "text": "Epochs: 4 | Train Loss:  0.729 | Train Acc:  0.824         | Train F1:  0.809 | Val Loss:  0.661         | Val Acc:  0.821 | Val F1:  0.815\n",
          "output_type": "stream"
        },
        {
          "name": "stderr",
          "text": "100%|██████████| 56/56 [00:13<00:00,  4.01it/s]\n100%|██████████| 19/19 [00:01<00:00, 11.13it/s]\n",
          "output_type": "stream"
        },
        {
          "name": "stdout",
          "text": "Epochs: 5 | Train Loss:  0.556 | Train Acc:  0.876         | Train F1:  0.862 | Val Loss:  0.561         | Val Acc:  0.846 | Val F1:  0.840\n",
          "output_type": "stream"
        },
        {
          "name": "stderr",
          "text": "100%|██████████| 56/56 [00:13<00:00,  4.02it/s]\n100%|██████████| 19/19 [00:01<00:00, 11.14it/s]\n",
          "output_type": "stream"
        },
        {
          "name": "stdout",
          "text": "Epochs: 6 | Train Loss:  0.456 | Train Acc:  0.899         | Train F1:  0.891 | Val Loss:  0.502         | Val Acc:  0.862 | Val F1:  0.856\n",
          "output_type": "stream"
        },
        {
          "name": "stderr",
          "text": "100%|██████████| 56/56 [00:13<00:00,  4.01it/s]\n100%|██████████| 19/19 [00:01<00:00, 11.14it/s]\n",
          "output_type": "stream"
        },
        {
          "name": "stdout",
          "text": "Epochs: 7 | Train Loss:  0.387 | Train Acc:  0.922         | Train F1:  0.913 | Val Loss:  0.453         | Val Acc:  0.875 | Val F1:  0.870\n",
          "output_type": "stream"
        },
        {
          "name": "stderr",
          "text": "100%|██████████| 56/56 [00:13<00:00,  4.02it/s]\n100%|██████████| 19/19 [00:01<00:00, 11.14it/s]\n",
          "output_type": "stream"
        },
        {
          "name": "stdout",
          "text": "Epochs: 8 | Train Loss:  0.334 | Train Acc:  0.937         | Train F1:  0.930 | Val Loss:  0.421         | Val Acc:  0.879 | Val F1:  0.873\n",
          "output_type": "stream"
        },
        {
          "name": "stderr",
          "text": "100%|██████████| 56/56 [00:13<00:00,  4.01it/s]\n100%|██████████| 19/19 [00:01<00:00, 11.09it/s]\n",
          "output_type": "stream"
        },
        {
          "name": "stdout",
          "text": "Epochs: 9 | Train Loss:  0.294 | Train Acc:  0.950         | Train F1:  0.948 | Val Loss:  0.393         | Val Acc:  0.886 | Val F1:  0.880\n",
          "output_type": "stream"
        },
        {
          "name": "stderr",
          "text": "100%|██████████| 56/56 [00:13<00:00,  4.01it/s]\n100%|██████████| 19/19 [00:01<00:00, 11.10it/s]\n",
          "output_type": "stream"
        },
        {
          "name": "stdout",
          "text": "Epochs: 10 | Train Loss:  0.259 | Train Acc:  0.956         | Train F1:  0.953 | Val Loss:  0.372         | Val Acc:  0.890 | Val F1:  0.884\n",
          "output_type": "stream"
        },
        {
          "name": "stderr",
          "text": "100%|██████████| 25/25 [00:02<00:00, 10.94it/s]\n",
          "output_type": "stream"
        }
      ]
    },
    {
      "cell_type": "code",
      "source": [
        "ca_nws"
      ],
      "metadata": {
        "execution": {
          "iopub.status.busy": "2023-12-18T14:02:58.969646Z",
          "iopub.execute_input": "2023-12-18T14:02:58.970571Z",
          "iopub.status.idle": "2023-12-18T14:02:58.981113Z",
          "shell.execute_reply.started": "2023-12-18T14:02:58.970531Z",
          "shell.execute_reply": "2023-12-18T14:02:58.980127Z"
        },
        "trusted": true,
        "id": "jBlm_wl9v-LK",
        "outputId": "f9eb7130-a7d0-4117-bd90-09b022fb70e6"
      },
      "execution_count": null,
      "outputs": [
        {
          "execution_count": 166,
          "output_type": "execute_result",
          "data": {
            "text/plain": "          0         1         3         5\n0  0.260145  0.240865  0.281717  0.376350\n1  0.934931  0.931806  0.926319  0.907708\n2  0.930654  0.927792  0.920299  0.902115",
            "text/html": "<div>\n<style scoped>\n    .dataframe tbody tr th:only-of-type {\n        vertical-align: middle;\n    }\n\n    .dataframe tbody tr th {\n        vertical-align: top;\n    }\n\n    .dataframe thead th {\n        text-align: right;\n    }\n</style>\n<table border=\"1\" class=\"dataframe\">\n  <thead>\n    <tr style=\"text-align: right;\">\n      <th></th>\n      <th>0</th>\n      <th>1</th>\n      <th>3</th>\n      <th>5</th>\n    </tr>\n  </thead>\n  <tbody>\n    <tr>\n      <th>0</th>\n      <td>0.260145</td>\n      <td>0.240865</td>\n      <td>0.281717</td>\n      <td>0.376350</td>\n    </tr>\n    <tr>\n      <th>1</th>\n      <td>0.934931</td>\n      <td>0.931806</td>\n      <td>0.926319</td>\n      <td>0.907708</td>\n    </tr>\n    <tr>\n      <th>2</th>\n      <td>0.930654</td>\n      <td>0.927792</td>\n      <td>0.920299</td>\n      <td>0.902115</td>\n    </tr>\n  </tbody>\n</table>\n</div>"
          },
          "metadata": {}
        }
      ]
    },
    {
      "cell_type": "code",
      "source": [
        "from transformers import get_linear_schedule_with_warmup\n",
        "\n",
        "#Пробуем линейный шедулер с warmup\n",
        "n_epochs = 10\n",
        "num_warm_steps = [0, 1, 3, 5]\n",
        "l_nws = pd.DataFrame(columns=num_warm_steps)\n",
        "for num_warm_step in num_warm_steps:\n",
        "    bert = BertClassifier()\n",
        "    optimizer = AdamW(bert.parameters(), lr=best_lr)\n",
        "    scheduler = get_linear_schedule_with_warmup(optimizer, num_warmup_steps=num_warm_step,\n",
        "                                                num_training_steps=len(train_loader) * n_epochs)\n",
        "    train(bert, optimizer, n_epochs, train_loader, val_loader, scheduler)\n",
        "    acc, loss, f1 = test(bert, test_loader)\n",
        "    results = [loss, acc, f1]\n",
        "    l_nws[num_warm_step] = results"
      ],
      "metadata": {
        "execution": {
          "iopub.status.busy": "2023-12-18T15:56:50.592940Z",
          "iopub.execute_input": "2023-12-18T15:56:50.593294Z",
          "iopub.status.idle": "2023-12-18T16:08:11.620031Z",
          "shell.execute_reply.started": "2023-12-18T15:56:50.593266Z",
          "shell.execute_reply": "2023-12-18T16:08:11.619038Z"
        },
        "collapsed": true,
        "jupyter": {
          "outputs_hidden": true
        },
        "trusted": true,
        "colab": {
          "referenced_widgets": [
            "4220e9a4df4e4d3eb0a84fa622767801"
          ]
        },
        "id": "3GjRzyCmv-LK",
        "outputId": "fb25fdb3-a469-4234-c1be-e5da9be56945"
      },
      "execution_count": null,
      "outputs": [
        {
          "output_type": "display_data",
          "data": {
            "text/plain": "model.safetensors:   0%|          | 0.00/47.7M [00:00<?, ?B/s]",
            "application/vnd.jupyter.widget-view+json": {
              "version_major": 2,
              "version_minor": 0,
              "model_id": "4220e9a4df4e4d3eb0a84fa622767801"
            }
          },
          "metadata": {}
        },
        {
          "name": "stderr",
          "text": "Some weights of BertForSequenceClassification were not initialized from the model checkpoint at cointegrated/rubert-tiny and are newly initialized: ['classifier.bias', 'classifier.weight']\nYou should probably TRAIN this model on a down-stream task to be able to use it for predictions and inference.\n/opt/conda/lib/python3.10/site-packages/transformers/optimization.py:429: FutureWarning: This implementation of AdamW is deprecated and will be removed in a future version. Use the PyTorch implementation torch.optim.AdamW instead, or set `no_deprecation_warning=True` to disable this warning\n  warnings.warn(\n100%|██████████| 58/58 [00:18<00:00,  3.21it/s]\n100%|██████████| 20/20 [00:01<00:00, 11.11it/s]\n",
          "output_type": "stream"
        },
        {
          "name": "stdout",
          "text": "Epochs: 1 | Train Loss:  1.606 | Train Acc:  0.450         | Train F1:  0.409 | Val Loss:  0.914         | Val Acc:  0.701 | Val F1:  0.659\n",
          "output_type": "stream"
        },
        {
          "name": "stderr",
          "text": "100%|██████████| 58/58 [00:14<00:00,  3.96it/s]\n100%|██████████| 20/20 [00:01<00:00, 11.13it/s]\n",
          "output_type": "stream"
        },
        {
          "name": "stdout",
          "text": "Epochs: 2 | Train Loss:  0.550 | Train Acc:  0.837         | Train F1:  0.827 | Val Loss:  0.397         | Val Acc:  0.884 | Val F1:  0.868\n",
          "output_type": "stream"
        },
        {
          "name": "stderr",
          "text": "100%|██████████| 58/58 [00:14<00:00,  3.96it/s]\n100%|██████████| 20/20 [00:01<00:00, 11.08it/s]\n",
          "output_type": "stream"
        },
        {
          "name": "stdout",
          "text": "Epochs: 3 | Train Loss:  0.209 | Train Acc:  0.946         | Train F1:  0.942 | Val Loss:  0.322         | Val Acc:  0.906 | Val F1:  0.894\n",
          "output_type": "stream"
        },
        {
          "name": "stderr",
          "text": "100%|██████████| 58/58 [00:14<00:00,  3.96it/s]\n100%|██████████| 20/20 [00:01<00:00, 11.11it/s]\n",
          "output_type": "stream"
        },
        {
          "name": "stdout",
          "text": "Epochs: 4 | Train Loss:  0.083 | Train Acc:  0.984         | Train F1:  0.983 | Val Loss:  0.244         | Val Acc:  0.924 | Val F1:  0.915\n",
          "output_type": "stream"
        },
        {
          "name": "stderr",
          "text": "100%|██████████| 58/58 [00:14<00:00,  3.96it/s]\n100%|██████████| 20/20 [00:01<00:00, 11.10it/s]\n",
          "output_type": "stream"
        },
        {
          "name": "stdout",
          "text": "Epochs: 5 | Train Loss:  0.032 | Train Acc:  0.997         | Train F1:  0.997 | Val Loss:  0.258         | Val Acc:  0.924 | Val F1:  0.913\n",
          "output_type": "stream"
        },
        {
          "name": "stderr",
          "text": "100%|██████████| 58/58 [00:14<00:00,  3.96it/s]\n100%|██████████| 20/20 [00:01<00:00, 11.10it/s]\n",
          "output_type": "stream"
        },
        {
          "name": "stdout",
          "text": "Epochs: 6 | Train Loss:  0.014 | Train Acc:  0.999         | Train F1:  0.999 | Val Loss:  0.274         | Val Acc:  0.925 | Val F1:  0.915\n",
          "output_type": "stream"
        },
        {
          "name": "stderr",
          "text": "100%|██████████| 58/58 [00:14<00:00,  3.96it/s]\n100%|██████████| 20/20 [00:01<00:00, 11.11it/s]\n",
          "output_type": "stream"
        },
        {
          "name": "stdout",
          "text": "Epochs: 7 | Train Loss:  0.008 | Train Acc:  1.000         | Train F1:  1.000 | Val Loss:  0.273         | Val Acc:  0.930 | Val F1:  0.920\n",
          "output_type": "stream"
        },
        {
          "name": "stderr",
          "text": "100%|██████████| 58/58 [00:14<00:00,  3.96it/s]\n100%|██████████| 20/20 [00:01<00:00, 11.13it/s]\n",
          "output_type": "stream"
        },
        {
          "name": "stdout",
          "text": "Epochs: 8 | Train Loss:  0.006 | Train Acc:  1.000         | Train F1:  1.000 | Val Loss:  0.275         | Val Acc:  0.929 | Val F1:  0.920\n",
          "output_type": "stream"
        },
        {
          "name": "stderr",
          "text": "100%|██████████| 58/58 [00:14<00:00,  3.96it/s]\n100%|██████████| 20/20 [00:01<00:00, 11.14it/s]\n",
          "output_type": "stream"
        },
        {
          "name": "stdout",
          "text": "Epochs: 9 | Train Loss:  0.005 | Train Acc:  1.000         | Train F1:  1.000 | Val Loss:  0.290         | Val Acc:  0.928 | Val F1:  0.918\n",
          "output_type": "stream"
        },
        {
          "name": "stderr",
          "text": "100%|██████████| 58/58 [00:14<00:00,  3.96it/s]\n100%|██████████| 20/20 [00:01<00:00, 11.10it/s]\n",
          "output_type": "stream"
        },
        {
          "name": "stdout",
          "text": "Epochs: 10 | Train Loss:  0.004 | Train Acc:  1.000         | Train F1:  1.000 | Val Loss:  0.298         | Val Acc:  0.927 | Val F1:  0.917\n",
          "output_type": "stream"
        },
        {
          "name": "stderr",
          "text": "100%|██████████| 26/26 [00:02<00:00, 10.88it/s]\nSome weights of BertForSequenceClassification were not initialized from the model checkpoint at cointegrated/rubert-tiny and are newly initialized: ['classifier.bias', 'classifier.weight']\nYou should probably TRAIN this model on a down-stream task to be able to use it for predictions and inference.\n/opt/conda/lib/python3.10/site-packages/transformers/optimization.py:429: FutureWarning: This implementation of AdamW is deprecated and will be removed in a future version. Use the PyTorch implementation torch.optim.AdamW instead, or set `no_deprecation_warning=True` to disable this warning\n  warnings.warn(\n100%|██████████| 58/58 [00:16<00:00,  3.62it/s]\n100%|██████████| 20/20 [00:01<00:00, 11.12it/s]\n",
          "output_type": "stream"
        },
        {
          "name": "stdout",
          "text": "Epochs: 1 | Train Loss:  2.077 | Train Acc:  0.142         | Train F1:  0.110 | Val Loss:  2.069         | Val Acc:  0.153 | Val F1:  0.112\n",
          "output_type": "stream"
        },
        {
          "name": "stderr",
          "text": "100%|██████████| 58/58 [00:14<00:00,  3.96it/s]\n100%|██████████| 20/20 [00:01<00:00, 11.09it/s]\n",
          "output_type": "stream"
        },
        {
          "name": "stdout",
          "text": "Epochs: 2 | Train Loss:  1.452 | Train Acc:  0.513         | Train F1:  0.472 | Val Loss:  0.715         | Val Acc:  0.785 | Val F1:  0.765\n",
          "output_type": "stream"
        },
        {
          "name": "stderr",
          "text": "100%|██████████| 58/58 [00:14<00:00,  3.96it/s]\n100%|██████████| 20/20 [00:01<00:00, 11.12it/s]\n",
          "output_type": "stream"
        },
        {
          "name": "stdout",
          "text": "Epochs: 3 | Train Loss:  0.456 | Train Acc:  0.880         | Train F1:  0.867 | Val Loss:  0.399         | Val Acc:  0.875 | Val F1:  0.862\n",
          "output_type": "stream"
        },
        {
          "name": "stderr",
          "text": "100%|██████████| 58/58 [00:14<00:00,  3.96it/s]\n100%|██████████| 20/20 [00:01<00:00, 11.11it/s]\n",
          "output_type": "stream"
        },
        {
          "name": "stdout",
          "text": "Epochs: 4 | Train Loss:  0.203 | Train Acc:  0.955         | Train F1:  0.953 | Val Loss:  0.308         | Val Acc:  0.906 | Val F1:  0.893\n",
          "output_type": "stream"
        },
        {
          "name": "stderr",
          "text": "100%|██████████| 58/58 [00:14<00:00,  3.96it/s]\n100%|██████████| 20/20 [00:01<00:00, 11.12it/s]\n",
          "output_type": "stream"
        },
        {
          "name": "stdout",
          "text": "Epochs: 5 | Train Loss:  0.124 | Train Acc:  0.979         | Train F1:  0.976 | Val Loss:  0.272         | Val Acc:  0.922 | Val F1:  0.911\n",
          "output_type": "stream"
        },
        {
          "name": "stderr",
          "text": "100%|██████████| 58/58 [00:14<00:00,  3.96it/s]\n100%|██████████| 20/20 [00:01<00:00, 11.13it/s]\n",
          "output_type": "stream"
        },
        {
          "name": "stdout",
          "text": "Epochs: 6 | Train Loss:  0.083 | Train Acc:  0.989         | Train F1:  0.989 | Val Loss:  0.264         | Val Acc:  0.920 | Val F1:  0.907\n",
          "output_type": "stream"
        },
        {
          "name": "stderr",
          "text": "100%|██████████| 58/58 [00:14<00:00,  3.96it/s]\n100%|██████████| 20/20 [00:01<00:00, 11.11it/s]\n",
          "output_type": "stream"
        },
        {
          "name": "stdout",
          "text": "Epochs: 7 | Train Loss:  0.057 | Train Acc:  0.994         | Train F1:  0.993 | Val Loss:  0.256         | Val Acc:  0.928 | Val F1:  0.916\n",
          "output_type": "stream"
        },
        {
          "name": "stderr",
          "text": "100%|██████████| 58/58 [00:14<00:00,  3.96it/s]\n100%|██████████| 20/20 [00:01<00:00, 11.14it/s]\n",
          "output_type": "stream"
        },
        {
          "name": "stdout",
          "text": "Epochs: 8 | Train Loss:  0.041 | Train Acc:  0.998         | Train F1:  0.998 | Val Loss:  0.258         | Val Acc:  0.926 | Val F1:  0.915\n",
          "output_type": "stream"
        },
        {
          "name": "stderr",
          "text": "100%|██████████| 58/58 [00:14<00:00,  3.96it/s]\n100%|██████████| 20/20 [00:01<00:00, 11.17it/s]\n",
          "output_type": "stream"
        },
        {
          "name": "stdout",
          "text": "Epochs: 9 | Train Loss:  0.030 | Train Acc:  0.999         | Train F1:  0.999 | Val Loss:  0.251         | Val Acc:  0.929 | Val F1:  0.919\n",
          "output_type": "stream"
        },
        {
          "name": "stderr",
          "text": "100%|██████████| 58/58 [00:14<00:00,  3.96it/s]\n100%|██████████| 20/20 [00:01<00:00, 11.13it/s]\n",
          "output_type": "stream"
        },
        {
          "name": "stdout",
          "text": "Epochs: 10 | Train Loss:  0.023 | Train Acc:  1.000         | Train F1:  1.000 | Val Loss:  0.254         | Val Acc:  0.929 | Val F1:  0.919\n",
          "output_type": "stream"
        },
        {
          "name": "stderr",
          "text": "100%|██████████| 26/26 [00:02<00:00, 10.89it/s]\nSome weights of BertForSequenceClassification were not initialized from the model checkpoint at cointegrated/rubert-tiny and are newly initialized: ['classifier.bias', 'classifier.weight']\nYou should probably TRAIN this model on a down-stream task to be able to use it for predictions and inference.\n/opt/conda/lib/python3.10/site-packages/transformers/optimization.py:429: FutureWarning: This implementation of AdamW is deprecated and will be removed in a future version. Use the PyTorch implementation torch.optim.AdamW instead, or set `no_deprecation_warning=True` to disable this warning\n  warnings.warn(\n100%|██████████| 58/58 [00:16<00:00,  3.62it/s]\n100%|██████████| 20/20 [00:01<00:00, 11.11it/s]\n",
          "output_type": "stream"
        },
        {
          "name": "stdout",
          "text": "Epochs: 1 | Train Loss:  2.086 | Train Acc:  0.121         | Train F1:  0.096 | Val Loss:  2.086         | Val Acc:  0.123 | Val F1:  0.098\n",
          "output_type": "stream"
        },
        {
          "name": "stderr",
          "text": "100%|██████████| 58/58 [00:14<00:00,  3.96it/s]\n100%|██████████| 20/20 [00:01<00:00, 11.03it/s]\n",
          "output_type": "stream"
        },
        {
          "name": "stdout",
          "text": "Epochs: 2 | Train Loss:  1.661 | Train Acc:  0.457         | Train F1:  0.414 | Val Loss:  0.929         | Val Acc:  0.737 | Val F1:  0.714\n",
          "output_type": "stream"
        },
        {
          "name": "stderr",
          "text": "100%|██████████| 58/58 [00:14<00:00,  3.96it/s]\n100%|██████████| 20/20 [00:01<00:00, 11.11it/s]\n",
          "output_type": "stream"
        },
        {
          "name": "stdout",
          "text": "Epochs: 3 | Train Loss:  0.701 | Train Acc:  0.819         | Train F1:  0.805 | Val Loss:  0.614         | Val Acc:  0.819 | Val F1:  0.797\n",
          "output_type": "stream"
        },
        {
          "name": "stderr",
          "text": "100%|██████████| 58/58 [00:14<00:00,  3.95it/s]\n100%|██████████| 20/20 [00:01<00:00, 11.10it/s]\n",
          "output_type": "stream"
        },
        {
          "name": "stdout",
          "text": "Epochs: 4 | Train Loss:  0.464 | Train Acc:  0.882         | Train F1:  0.871 | Val Loss:  0.497         | Val Acc:  0.860 | Val F1:  0.833\n",
          "output_type": "stream"
        },
        {
          "name": "stderr",
          "text": "100%|██████████| 58/58 [00:14<00:00,  3.96it/s]\n100%|██████████| 20/20 [00:01<00:00, 11.09it/s]\n",
          "output_type": "stream"
        },
        {
          "name": "stdout",
          "text": "Epochs: 5 | Train Loss:  0.358 | Train Acc:  0.915         | Train F1:  0.907 | Val Loss:  0.440         | Val Acc:  0.881 | Val F1:  0.861\n",
          "output_type": "stream"
        },
        {
          "name": "stderr",
          "text": "100%|██████████| 58/58 [00:14<00:00,  3.96it/s]\n100%|██████████| 20/20 [00:01<00:00, 11.15it/s]\n",
          "output_type": "stream"
        },
        {
          "name": "stdout",
          "text": "Epochs: 6 | Train Loss:  0.287 | Train Acc:  0.937         | Train F1:  0.930 | Val Loss:  0.388         | Val Acc:  0.889 | Val F1:  0.872\n",
          "output_type": "stream"
        },
        {
          "name": "stderr",
          "text": "100%|██████████| 58/58 [00:14<00:00,  3.96it/s]\n100%|██████████| 20/20 [00:01<00:00, 11.10it/s]\n",
          "output_type": "stream"
        },
        {
          "name": "stdout",
          "text": "Epochs: 7 | Train Loss:  0.236 | Train Acc:  0.953         | Train F1:  0.951 | Val Loss:  0.354         | Val Acc:  0.896 | Val F1:  0.879\n",
          "output_type": "stream"
        },
        {
          "name": "stderr",
          "text": "100%|██████████| 58/58 [00:14<00:00,  3.96it/s]\n100%|██████████| 20/20 [00:01<00:00, 11.10it/s]\n",
          "output_type": "stream"
        },
        {
          "name": "stdout",
          "text": "Epochs: 8 | Train Loss:  0.196 | Train Acc:  0.960         | Train F1:  0.956 | Val Loss:  0.335         | Val Acc:  0.901 | Val F1:  0.889\n",
          "output_type": "stream"
        },
        {
          "name": "stderr",
          "text": "100%|██████████| 58/58 [00:14<00:00,  3.96it/s]\n100%|██████████| 20/20 [00:01<00:00, 11.10it/s]\n",
          "output_type": "stream"
        },
        {
          "name": "stdout",
          "text": "Epochs: 9 | Train Loss:  0.167 | Train Acc:  0.970         | Train F1:  0.968 | Val Loss:  0.314         | Val Acc:  0.913 | Val F1:  0.902\n",
          "output_type": "stream"
        },
        {
          "name": "stderr",
          "text": "100%|██████████| 58/58 [00:14<00:00,  3.96it/s]\n100%|██████████| 20/20 [00:01<00:00, 11.11it/s]\n",
          "output_type": "stream"
        },
        {
          "name": "stdout",
          "text": "Epochs: 10 | Train Loss:  0.142 | Train Acc:  0.978         | Train F1:  0.976 | Val Loss:  0.300         | Val Acc:  0.917 | Val F1:  0.905\n",
          "output_type": "stream"
        },
        {
          "name": "stderr",
          "text": "100%|██████████| 26/26 [00:02<00:00, 10.80it/s]\nSome weights of BertForSequenceClassification were not initialized from the model checkpoint at cointegrated/rubert-tiny and are newly initialized: ['classifier.bias', 'classifier.weight']\nYou should probably TRAIN this model on a down-stream task to be able to use it for predictions and inference.\n/opt/conda/lib/python3.10/site-packages/transformers/optimization.py:429: FutureWarning: This implementation of AdamW is deprecated and will be removed in a future version. Use the PyTorch implementation torch.optim.AdamW instead, or set `no_deprecation_warning=True` to disable this warning\n  warnings.warn(\n100%|██████████| 58/58 [00:16<00:00,  3.62it/s]\n100%|██████████| 20/20 [00:01<00:00, 11.10it/s]\n",
          "output_type": "stream"
        },
        {
          "name": "stdout",
          "text": "Epochs: 1 | Train Loss:  2.092 | Train Acc:  0.125         | Train F1:  0.084 | Val Loss:  2.087         | Val Acc:  0.137 | Val F1:  0.086\n",
          "output_type": "stream"
        },
        {
          "name": "stderr",
          "text": "100%|██████████| 58/58 [00:14<00:00,  3.96it/s]\n100%|██████████| 20/20 [00:01<00:00, 11.06it/s]\n",
          "output_type": "stream"
        },
        {
          "name": "stdout",
          "text": "Epochs: 2 | Train Loss:  1.904 | Train Acc:  0.365         | Train F1:  0.330 | Val Loss:  1.486         | Val Acc:  0.625 | Val F1:  0.583\n",
          "output_type": "stream"
        },
        {
          "name": "stderr",
          "text": "100%|██████████| 58/58 [00:14<00:00,  3.96it/s]\n100%|██████████| 20/20 [00:01<00:00, 11.11it/s]\n",
          "output_type": "stream"
        },
        {
          "name": "stdout",
          "text": "Epochs: 3 | Train Loss:  1.076 | Train Acc:  0.743         | Train F1:  0.720 | Val Loss:  0.816         | Val Acc:  0.773 | Val F1:  0.749\n",
          "output_type": "stream"
        },
        {
          "name": "stderr",
          "text": "100%|██████████| 58/58 [00:14<00:00,  3.96it/s]\n100%|██████████| 20/20 [00:01<00:00, 11.12it/s]\n",
          "output_type": "stream"
        },
        {
          "name": "stdout",
          "text": "Epochs: 4 | Train Loss:  0.655 | Train Acc:  0.846         | Train F1:  0.830 | Val Loss:  0.646         | Val Acc:  0.822 | Val F1:  0.800\n",
          "output_type": "stream"
        },
        {
          "name": "stderr",
          "text": "100%|██████████| 58/58 [00:14<00:00,  3.97it/s]\n100%|██████████| 20/20 [00:01<00:00, 11.09it/s]\n",
          "output_type": "stream"
        },
        {
          "name": "stdout",
          "text": "Epochs: 5 | Train Loss:  0.504 | Train Acc:  0.883         | Train F1:  0.874 | Val Loss:  0.559         | Val Acc:  0.846 | Val F1:  0.827\n",
          "output_type": "stream"
        },
        {
          "name": "stderr",
          "text": "100%|██████████| 58/58 [00:14<00:00,  3.96it/s]\n100%|██████████| 20/20 [00:01<00:00, 11.15it/s]\n",
          "output_type": "stream"
        },
        {
          "name": "stdout",
          "text": "Epochs: 6 | Train Loss:  0.412 | Train Acc:  0.915         | Train F1:  0.909 | Val Loss:  0.499         | Val Acc:  0.860 | Val F1:  0.838\n",
          "output_type": "stream"
        },
        {
          "name": "stderr",
          "text": "100%|██████████| 58/58 [00:14<00:00,  3.96it/s]\n100%|██████████| 20/20 [00:01<00:00, 11.09it/s]\n",
          "output_type": "stream"
        },
        {
          "name": "stdout",
          "text": "Epochs: 7 | Train Loss:  0.349 | Train Acc:  0.930         | Train F1:  0.923 | Val Loss:  0.456         | Val Acc:  0.875 | Val F1:  0.852\n",
          "output_type": "stream"
        },
        {
          "name": "stderr",
          "text": "100%|██████████| 58/58 [00:14<00:00,  3.96it/s]\n100%|██████████| 20/20 [00:01<00:00, 11.14it/s]\n",
          "output_type": "stream"
        },
        {
          "name": "stdout",
          "text": "Epochs: 8 | Train Loss:  0.300 | Train Acc:  0.942         | Train F1:  0.938 | Val Loss:  0.425         | Val Acc:  0.882 | Val F1:  0.861\n",
          "output_type": "stream"
        },
        {
          "name": "stderr",
          "text": "100%|██████████| 58/58 [00:14<00:00,  3.96it/s]\n100%|██████████| 20/20 [00:01<00:00, 11.09it/s]\n",
          "output_type": "stream"
        },
        {
          "name": "stdout",
          "text": "Epochs: 9 | Train Loss:  0.260 | Train Acc:  0.953         | Train F1:  0.950 | Val Loss:  0.397         | Val Acc:  0.890 | Val F1:  0.869\n",
          "output_type": "stream"
        },
        {
          "name": "stderr",
          "text": "100%|██████████| 58/58 [00:14<00:00,  3.96it/s]\n100%|██████████| 20/20 [00:01<00:00, 11.11it/s]\n",
          "output_type": "stream"
        },
        {
          "name": "stdout",
          "text": "Epochs: 10 | Train Loss:  0.228 | Train Acc:  0.963         | Train F1:  0.959 | Val Loss:  0.374         | Val Acc:  0.893 | Val F1:  0.874\n",
          "output_type": "stream"
        },
        {
          "name": "stderr",
          "text": "100%|██████████| 26/26 [00:02<00:00, 10.84it/s]\n",
          "output_type": "stream"
        }
      ]
    },
    {
      "cell_type": "code",
      "source": [
        "l_nws"
      ],
      "metadata": {
        "execution": {
          "iopub.status.busy": "2023-12-18T16:08:16.040964Z",
          "iopub.execute_input": "2023-12-18T16:08:16.041360Z",
          "iopub.status.idle": "2023-12-18T16:08:16.053531Z",
          "shell.execute_reply.started": "2023-12-18T16:08:16.041333Z",
          "shell.execute_reply": "2023-12-18T16:08:16.052377Z"
        },
        "trusted": true,
        "id": "Wype1PhCv-LL",
        "outputId": "697c22dd-e9f5-41e2-9f16-8cc6aa51689d"
      },
      "execution_count": null,
      "outputs": [
        {
          "execution_count": 15,
          "output_type": "execute_result",
          "data": {
            "text/plain": "          0         1         3         5\n0  0.253628  0.233562  0.271253  0.337091\n1  0.935625  0.936226  0.924135  0.913486\n2  0.929661  0.933302  0.919416  0.906900",
            "text/html": "<div>\n<style scoped>\n    .dataframe tbody tr th:only-of-type {\n        vertical-align: middle;\n    }\n\n    .dataframe tbody tr th {\n        vertical-align: top;\n    }\n\n    .dataframe thead th {\n        text-align: right;\n    }\n</style>\n<table border=\"1\" class=\"dataframe\">\n  <thead>\n    <tr style=\"text-align: right;\">\n      <th></th>\n      <th>0</th>\n      <th>1</th>\n      <th>3</th>\n      <th>5</th>\n    </tr>\n  </thead>\n  <tbody>\n    <tr>\n      <th>0</th>\n      <td>0.253628</td>\n      <td>0.233562</td>\n      <td>0.271253</td>\n      <td>0.337091</td>\n    </tr>\n    <tr>\n      <th>1</th>\n      <td>0.935625</td>\n      <td>0.936226</td>\n      <td>0.924135</td>\n      <td>0.913486</td>\n    </tr>\n    <tr>\n      <th>2</th>\n      <td>0.929661</td>\n      <td>0.933302</td>\n      <td>0.919416</td>\n      <td>0.906900</td>\n    </tr>\n  </tbody>\n</table>\n</div>"
          },
          "metadata": {}
        }
      ]
    },
    {
      "cell_type": "markdown",
      "source": [
        "Видим, что в целом он дал результаты не лучше, чем cosine шедулер (различие в тысячных долях можно считать несущественными, т.к. процесс обучения нейронной сети не детерминирован), а значит, не будем рассматривать его в качестве альтернативы"
      ],
      "metadata": {
        "id": "UlCPABOXv-LL"
      }
    },
    {
      "cell_type": "code",
      "source": [
        "from transformers import get_cosine_with_hard_restarts_schedule_with_warmup\n",
        "\n",
        "#Пробуем cosine шедулер с hard restarts (и warmup)\n",
        "n_epochs = 8\n",
        "num_warm_steps = [0, 1, 3, 5]\n",
        "hr_nws = pd.DataFrame(columns=num_warm_steps)\n",
        "for num_warm_step in num_warm_steps:\n",
        "    bert = BertClassifier()\n",
        "    optimizer = AdamW(bert.parameters(), lr=best_lr)\n",
        "    scheduler = get_cosine_with_hard_restarts_schedule_with_warmup(optimizer,\n",
        "                                                                   num_warmup_steps=num_warm_step,\n",
        "                                                                   num_training_steps=len(train_loader) * n_epochs)\n",
        "    train(bert, optimizer, n_epochs, train_loader, val_loader, scheduler)\n",
        "    acc, loss, f1 = test(bert, test_loader)\n",
        "    results = [loss, acc, f1]\n",
        "    hr_nws[num_warm_step] = results"
      ],
      "metadata": {
        "execution": {
          "iopub.status.busy": "2023-12-18T16:09:22.955709Z",
          "iopub.execute_input": "2023-12-18T16:09:22.956692Z",
          "iopub.status.idle": "2023-12-18T16:18:25.870269Z",
          "shell.execute_reply.started": "2023-12-18T16:09:22.956649Z",
          "shell.execute_reply": "2023-12-18T16:18:25.869205Z"
        },
        "trusted": true,
        "id": "gFt61Rd7v-LM",
        "outputId": "bde778b9-ac46-42eb-8b14-d1433ab1a6fa"
      },
      "execution_count": null,
      "outputs": [
        {
          "name": "stderr",
          "text": "Some weights of BertForSequenceClassification were not initialized from the model checkpoint at cointegrated/rubert-tiny and are newly initialized: ['classifier.bias', 'classifier.weight']\nYou should probably TRAIN this model on a down-stream task to be able to use it for predictions and inference.\n/opt/conda/lib/python3.10/site-packages/transformers/optimization.py:429: FutureWarning: This implementation of AdamW is deprecated and will be removed in a future version. Use the PyTorch implementation torch.optim.AdamW instead, or set `no_deprecation_warning=True` to disable this warning\n  warnings.warn(\n100%|██████████| 58/58 [00:15<00:00,  3.63it/s]\n100%|██████████| 20/20 [00:01<00:00, 11.11it/s]\n",
          "output_type": "stream"
        },
        {
          "name": "stdout",
          "text": "Epochs: 1 | Train Loss:  1.675 | Train Acc:  0.423         | Train F1:  0.396 | Val Loss:  1.026         | Val Acc:  0.675 | Val F1:  0.635\n",
          "output_type": "stream"
        },
        {
          "name": "stderr",
          "text": "100%|██████████| 58/58 [00:14<00:00,  3.96it/s]\n100%|██████████| 20/20 [00:01<00:00, 11.11it/s]\n",
          "output_type": "stream"
        },
        {
          "name": "stdout",
          "text": "Epochs: 2 | Train Loss:  0.601 | Train Acc:  0.821         | Train F1:  0.807 | Val Loss:  0.446         | Val Acc:  0.877 | Val F1:  0.860\n",
          "output_type": "stream"
        },
        {
          "name": "stderr",
          "text": "100%|██████████| 58/58 [00:14<00:00,  3.96it/s]\n100%|██████████| 20/20 [00:01<00:00, 11.11it/s]\n",
          "output_type": "stream"
        },
        {
          "name": "stdout",
          "text": "Epochs: 3 | Train Loss:  0.229 | Train Acc:  0.942         | Train F1:  0.938 | Val Loss:  0.274         | Val Acc:  0.918 | Val F1:  0.913\n",
          "output_type": "stream"
        },
        {
          "name": "stderr",
          "text": "100%|██████████| 58/58 [00:14<00:00,  3.96it/s]\n100%|██████████| 20/20 [00:01<00:00, 11.12it/s]\n",
          "output_type": "stream"
        },
        {
          "name": "stdout",
          "text": "Epochs: 4 | Train Loss:  0.087 | Train Acc:  0.982         | Train F1:  0.980 | Val Loss:  0.256         | Val Acc:  0.924 | Val F1:  0.915\n",
          "output_type": "stream"
        },
        {
          "name": "stderr",
          "text": "100%|██████████| 58/58 [00:14<00:00,  3.96it/s]\n100%|██████████| 20/20 [00:01<00:00, 11.15it/s]\n",
          "output_type": "stream"
        },
        {
          "name": "stdout",
          "text": "Epochs: 5 | Train Loss:  0.034 | Train Acc:  0.997         | Train F1:  0.996 | Val Loss:  0.235         | Val Acc:  0.933 | Val F1:  0.923\n",
          "output_type": "stream"
        },
        {
          "name": "stderr",
          "text": "100%|██████████| 58/58 [00:14<00:00,  3.96it/s]\n100%|██████████| 20/20 [00:01<00:00, 11.07it/s]\n",
          "output_type": "stream"
        },
        {
          "name": "stdout",
          "text": "Epochs: 6 | Train Loss:  0.014 | Train Acc:  0.999         | Train F1:  0.999 | Val Loss:  0.239         | Val Acc:  0.936 | Val F1:  0.925\n",
          "output_type": "stream"
        },
        {
          "name": "stderr",
          "text": "100%|██████████| 58/58 [00:14<00:00,  3.97it/s]\n100%|██████████| 20/20 [00:01<00:00, 11.10it/s]\n",
          "output_type": "stream"
        },
        {
          "name": "stdout",
          "text": "Epochs: 7 | Train Loss:  0.008 | Train Acc:  1.000         | Train F1:  1.000 | Val Loss:  0.250         | Val Acc:  0.933 | Val F1:  0.921\n",
          "output_type": "stream"
        },
        {
          "name": "stderr",
          "text": "100%|██████████| 58/58 [00:14<00:00,  3.96it/s]\n100%|██████████| 20/20 [00:01<00:00, 11.11it/s]\n",
          "output_type": "stream"
        },
        {
          "name": "stdout",
          "text": "Epochs: 8 | Train Loss:  0.006 | Train Acc:  1.000         | Train F1:  1.000 | Val Loss:  0.253         | Val Acc:  0.934 | Val F1:  0.922\n",
          "output_type": "stream"
        },
        {
          "name": "stderr",
          "text": "100%|██████████| 26/26 [00:02<00:00, 10.85it/s]\nSome weights of BertForSequenceClassification were not initialized from the model checkpoint at cointegrated/rubert-tiny and are newly initialized: ['classifier.bias', 'classifier.weight']\nYou should probably TRAIN this model on a down-stream task to be able to use it for predictions and inference.\n/opt/conda/lib/python3.10/site-packages/transformers/optimization.py:429: FutureWarning: This implementation of AdamW is deprecated and will be removed in a future version. Use the PyTorch implementation torch.optim.AdamW instead, or set `no_deprecation_warning=True` to disable this warning\n  warnings.warn(\n100%|██████████| 58/58 [00:16<00:00,  3.62it/s]\n100%|██████████| 20/20 [00:01<00:00, 11.12it/s]\n",
          "output_type": "stream"
        },
        {
          "name": "stdout",
          "text": "Epochs: 1 | Train Loss:  2.087 | Train Acc:  0.136         | Train F1:  0.099 | Val Loss:  2.089         | Val Acc:  0.123 | Val F1:  0.080\n",
          "output_type": "stream"
        },
        {
          "name": "stderr",
          "text": "100%|██████████| 58/58 [00:14<00:00,  3.96it/s]\n100%|██████████| 20/20 [00:01<00:00, 11.15it/s]\n",
          "output_type": "stream"
        },
        {
          "name": "stdout",
          "text": "Epochs: 2 | Train Loss:  1.475 | Train Acc:  0.514         | Train F1:  0.469 | Val Loss:  0.719         | Val Acc:  0.791 | Val F1:  0.770\n",
          "output_type": "stream"
        },
        {
          "name": "stderr",
          "text": "100%|██████████| 58/58 [00:14<00:00,  3.96it/s]\n100%|██████████| 20/20 [00:01<00:00, 11.10it/s]\n",
          "output_type": "stream"
        },
        {
          "name": "stdout",
          "text": "Epochs: 3 | Train Loss:  0.424 | Train Acc:  0.886         | Train F1:  0.877 | Val Loss:  0.375         | Val Acc:  0.897 | Val F1:  0.893\n",
          "output_type": "stream"
        },
        {
          "name": "stderr",
          "text": "100%|██████████| 58/58 [00:14<00:00,  3.96it/s]\n100%|██████████| 20/20 [00:01<00:00, 11.15it/s]\n",
          "output_type": "stream"
        },
        {
          "name": "stdout",
          "text": "Epochs: 4 | Train Loss:  0.187 | Train Acc:  0.960         | Train F1:  0.958 | Val Loss:  0.286         | Val Acc:  0.923 | Val F1:  0.920\n",
          "output_type": "stream"
        },
        {
          "name": "stderr",
          "text": "100%|██████████| 58/58 [00:14<00:00,  3.96it/s]\n100%|██████████| 20/20 [00:01<00:00, 11.08it/s]\n",
          "output_type": "stream"
        },
        {
          "name": "stdout",
          "text": "Epochs: 5 | Train Loss:  0.113 | Train Acc:  0.981         | Train F1:  0.979 | Val Loss:  0.262         | Val Acc:  0.928 | Val F1:  0.925\n",
          "output_type": "stream"
        },
        {
          "name": "stderr",
          "text": "100%|██████████| 58/58 [00:14<00:00,  3.96it/s]\n100%|██████████| 20/20 [00:01<00:00, 11.09it/s]\n",
          "output_type": "stream"
        },
        {
          "name": "stdout",
          "text": "Epochs: 6 | Train Loss:  0.076 | Train Acc:  0.991         | Train F1:  0.990 | Val Loss:  0.259         | Val Acc:  0.925 | Val F1:  0.921\n",
          "output_type": "stream"
        },
        {
          "name": "stderr",
          "text": "100%|██████████| 58/58 [00:14<00:00,  3.96it/s]\n100%|██████████| 20/20 [00:01<00:00, 11.12it/s]\n",
          "output_type": "stream"
        },
        {
          "name": "stdout",
          "text": "Epochs: 7 | Train Loss:  0.053 | Train Acc:  0.997         | Train F1:  0.996 | Val Loss:  0.248         | Val Acc:  0.931 | Val F1:  0.928\n",
          "output_type": "stream"
        },
        {
          "name": "stderr",
          "text": "100%|██████████| 58/58 [00:14<00:00,  3.96it/s]\n100%|██████████| 20/20 [00:01<00:00, 11.15it/s]\n",
          "output_type": "stream"
        },
        {
          "name": "stdout",
          "text": "Epochs: 8 | Train Loss:  0.039 | Train Acc:  0.998         | Train F1:  0.998 | Val Loss:  0.257         | Val Acc:  0.926 | Val F1:  0.922\n",
          "output_type": "stream"
        },
        {
          "name": "stderr",
          "text": "100%|██████████| 26/26 [00:02<00:00, 10.85it/s]\nSome weights of BertForSequenceClassification were not initialized from the model checkpoint at cointegrated/rubert-tiny and are newly initialized: ['classifier.bias', 'classifier.weight']\nYou should probably TRAIN this model on a down-stream task to be able to use it for predictions and inference.\n/opt/conda/lib/python3.10/site-packages/transformers/optimization.py:429: FutureWarning: This implementation of AdamW is deprecated and will be removed in a future version. Use the PyTorch implementation torch.optim.AdamW instead, or set `no_deprecation_warning=True` to disable this warning\n  warnings.warn(\n100%|██████████| 58/58 [00:16<00:00,  3.62it/s]\n100%|██████████| 20/20 [00:01<00:00, 11.09it/s]\n",
          "output_type": "stream"
        },
        {
          "name": "stdout",
          "text": "Epochs: 1 | Train Loss:  2.079 | Train Acc:  0.135         | Train F1:  0.108 | Val Loss:  2.077         | Val Acc:  0.138 | Val F1:  0.107\n",
          "output_type": "stream"
        },
        {
          "name": "stderr",
          "text": "100%|██████████| 58/58 [00:14<00:00,  3.97it/s]\n100%|██████████| 20/20 [00:01<00:00, 11.12it/s]\n",
          "output_type": "stream"
        },
        {
          "name": "stdout",
          "text": "Epochs: 2 | Train Loss:  1.649 | Train Acc:  0.457         | Train F1:  0.415 | Val Loss:  0.954         | Val Acc:  0.743 | Val F1:  0.712\n",
          "output_type": "stream"
        },
        {
          "name": "stderr",
          "text": "100%|██████████| 58/58 [00:14<00:00,  3.96it/s]\n100%|██████████| 20/20 [00:01<00:00, 11.09it/s]\n",
          "output_type": "stream"
        },
        {
          "name": "stdout",
          "text": "Epochs: 3 | Train Loss:  0.685 | Train Acc:  0.819         | Train F1:  0.801 | Val Loss:  0.595         | Val Acc:  0.831 | Val F1:  0.806\n",
          "output_type": "stream"
        },
        {
          "name": "stderr",
          "text": "100%|██████████| 58/58 [00:14<00:00,  3.96it/s]\n100%|██████████| 20/20 [00:01<00:00, 11.11it/s]\n",
          "output_type": "stream"
        },
        {
          "name": "stdout",
          "text": "Epochs: 4 | Train Loss:  0.434 | Train Acc:  0.894         | Train F1:  0.887 | Val Loss:  0.475         | Val Acc:  0.862 | Val F1:  0.841\n",
          "output_type": "stream"
        },
        {
          "name": "stderr",
          "text": "100%|██████████| 58/58 [00:14<00:00,  3.96it/s]\n100%|██████████| 20/20 [00:01<00:00, 11.11it/s]\n",
          "output_type": "stream"
        },
        {
          "name": "stdout",
          "text": "Epochs: 5 | Train Loss:  0.332 | Train Acc:  0.926         | Train F1:  0.918 | Val Loss:  0.427         | Val Acc:  0.884 | Val F1:  0.867\n",
          "output_type": "stream"
        },
        {
          "name": "stderr",
          "text": "100%|██████████| 58/58 [00:14<00:00,  3.96it/s]\n100%|██████████| 20/20 [00:01<00:00, 11.12it/s]\n",
          "output_type": "stream"
        },
        {
          "name": "stdout",
          "text": "Epochs: 6 | Train Loss:  0.267 | Train Acc:  0.943         | Train F1:  0.937 | Val Loss:  0.376         | Val Acc:  0.901 | Val F1:  0.887\n",
          "output_type": "stream"
        },
        {
          "name": "stderr",
          "text": "100%|██████████| 58/58 [00:14<00:00,  3.96it/s]\n100%|██████████| 20/20 [00:01<00:00, 11.16it/s]\n",
          "output_type": "stream"
        },
        {
          "name": "stdout",
          "text": "Epochs: 7 | Train Loss:  0.219 | Train Acc:  0.956         | Train F1:  0.952 | Val Loss:  0.347         | Val Acc:  0.909 | Val F1:  0.897\n",
          "output_type": "stream"
        },
        {
          "name": "stderr",
          "text": "100%|██████████| 58/58 [00:14<00:00,  3.96it/s]\n100%|██████████| 20/20 [00:01<00:00, 11.09it/s]\n",
          "output_type": "stream"
        },
        {
          "name": "stdout",
          "text": "Epochs: 8 | Train Loss:  0.183 | Train Acc:  0.967         | Train F1:  0.965 | Val Loss:  0.331         | Val Acc:  0.913 | Val F1:  0.900\n",
          "output_type": "stream"
        },
        {
          "name": "stderr",
          "text": "100%|██████████| 26/26 [00:02<00:00, 10.85it/s]\nSome weights of BertForSequenceClassification were not initialized from the model checkpoint at cointegrated/rubert-tiny and are newly initialized: ['classifier.bias', 'classifier.weight']\nYou should probably TRAIN this model on a down-stream task to be able to use it for predictions and inference.\n/opt/conda/lib/python3.10/site-packages/transformers/optimization.py:429: FutureWarning: This implementation of AdamW is deprecated and will be removed in a future version. Use the PyTorch implementation torch.optim.AdamW instead, or set `no_deprecation_warning=True` to disable this warning\n  warnings.warn(\n100%|██████████| 58/58 [00:16<00:00,  3.62it/s]\n100%|██████████| 20/20 [00:01<00:00, 11.09it/s]\n",
          "output_type": "stream"
        },
        {
          "name": "stdout",
          "text": "Epochs: 1 | Train Loss:  2.083 | Train Acc:  0.113         | Train F1:  0.101 | Val Loss:  2.082         | Val Acc:  0.103 | Val F1:  0.087\n",
          "output_type": "stream"
        },
        {
          "name": "stderr",
          "text": "100%|██████████| 58/58 [00:14<00:00,  3.96it/s]\n100%|██████████| 20/20 [00:01<00:00, 11.12it/s]\n",
          "output_type": "stream"
        },
        {
          "name": "stdout",
          "text": "Epochs: 2 | Train Loss:  1.872 | Train Acc:  0.396         | Train F1:  0.366 | Val Loss:  1.441         | Val Acc:  0.612 | Val F1:  0.553\n",
          "output_type": "stream"
        },
        {
          "name": "stderr",
          "text": "100%|██████████| 58/58 [00:14<00:00,  3.96it/s]\n100%|██████████| 20/20 [00:01<00:00, 11.14it/s]\n",
          "output_type": "stream"
        },
        {
          "name": "stdout",
          "text": "Epochs: 3 | Train Loss:  1.045 | Train Acc:  0.736         | Train F1:  0.708 | Val Loss:  0.824         | Val Acc:  0.772 | Val F1:  0.747\n",
          "output_type": "stream"
        },
        {
          "name": "stderr",
          "text": "100%|██████████| 58/58 [00:14<00:00,  3.96it/s]\n100%|██████████| 20/20 [00:01<00:00, 11.10it/s]\n",
          "output_type": "stream"
        },
        {
          "name": "stdout",
          "text": "Epochs: 4 | Train Loss:  0.668 | Train Acc:  0.834         | Train F1:  0.817 | Val Loss:  0.654         | Val Acc:  0.815 | Val F1:  0.791\n",
          "output_type": "stream"
        },
        {
          "name": "stderr",
          "text": "100%|██████████| 58/58 [00:14<00:00,  3.96it/s]\n100%|██████████| 20/20 [00:01<00:00, 11.12it/s]\n",
          "output_type": "stream"
        },
        {
          "name": "stdout",
          "text": "Epochs: 5 | Train Loss:  0.526 | Train Acc:  0.876         | Train F1:  0.865 | Val Loss:  0.564         | Val Acc:  0.844 | Val F1:  0.826\n",
          "output_type": "stream"
        },
        {
          "name": "stderr",
          "text": "100%|██████████| 58/58 [00:14<00:00,  3.96it/s]\n100%|██████████| 20/20 [00:01<00:00, 11.09it/s]\n",
          "output_type": "stream"
        },
        {
          "name": "stdout",
          "text": "Epochs: 6 | Train Loss:  0.435 | Train Acc:  0.904         | Train F1:  0.899 | Val Loss:  0.505         | Val Acc:  0.864 | Val F1:  0.846\n",
          "output_type": "stream"
        },
        {
          "name": "stderr",
          "text": "100%|██████████| 58/58 [00:14<00:00,  3.96it/s]\n100%|██████████| 20/20 [00:01<00:00, 11.14it/s]\n",
          "output_type": "stream"
        },
        {
          "name": "stdout",
          "text": "Epochs: 7 | Train Loss:  0.365 | Train Acc:  0.924         | Train F1:  0.917 | Val Loss:  0.463         | Val Acc:  0.875 | Val F1:  0.858\n",
          "output_type": "stream"
        },
        {
          "name": "stderr",
          "text": "100%|██████████| 58/58 [00:14<00:00,  3.97it/s]\n100%|██████████| 20/20 [00:01<00:00, 11.12it/s]\n",
          "output_type": "stream"
        },
        {
          "name": "stdout",
          "text": "Epochs: 8 | Train Loss:  0.311 | Train Acc:  0.941         | Train F1:  0.935 | Val Loss:  0.415         | Val Acc:  0.891 | Val F1:  0.876\n",
          "output_type": "stream"
        },
        {
          "name": "stderr",
          "text": "100%|██████████| 26/26 [00:02<00:00, 10.87it/s]\n",
          "output_type": "stream"
        }
      ]
    },
    {
      "cell_type": "code",
      "source": [
        "hr_nws"
      ],
      "metadata": {
        "execution": {
          "iopub.status.busy": "2023-12-18T16:19:27.271377Z",
          "iopub.execute_input": "2023-12-18T16:19:27.271727Z",
          "iopub.status.idle": "2023-12-18T16:19:27.282381Z",
          "shell.execute_reply.started": "2023-12-18T16:19:27.271701Z",
          "shell.execute_reply": "2023-12-18T16:19:27.281430Z"
        },
        "trusted": true,
        "id": "-5Rd3HU0v-LM",
        "outputId": "bb177b0b-cef0-4441-e8d1-864e6ded001d"
      },
      "execution_count": null,
      "outputs": [
        {
          "execution_count": 17,
          "output_type": "execute_result",
          "data": {
            "text/plain": "          0         1         3         5\n0  0.221582  0.217770  0.295721  0.399456\n1  0.938798  0.940000  0.914183  0.898654\n2  0.935784  0.934338  0.908224  0.890939",
            "text/html": "<div>\n<style scoped>\n    .dataframe tbody tr th:only-of-type {\n        vertical-align: middle;\n    }\n\n    .dataframe tbody tr th {\n        vertical-align: top;\n    }\n\n    .dataframe thead th {\n        text-align: right;\n    }\n</style>\n<table border=\"1\" class=\"dataframe\">\n  <thead>\n    <tr style=\"text-align: right;\">\n      <th></th>\n      <th>0</th>\n      <th>1</th>\n      <th>3</th>\n      <th>5</th>\n    </tr>\n  </thead>\n  <tbody>\n    <tr>\n      <th>0</th>\n      <td>0.221582</td>\n      <td>0.217770</td>\n      <td>0.295721</td>\n      <td>0.399456</td>\n    </tr>\n    <tr>\n      <th>1</th>\n      <td>0.938798</td>\n      <td>0.940000</td>\n      <td>0.914183</td>\n      <td>0.898654</td>\n    </tr>\n    <tr>\n      <th>2</th>\n      <td>0.935784</td>\n      <td>0.934338</td>\n      <td>0.908224</td>\n      <td>0.890939</td>\n    </tr>\n  </tbody>\n</table>\n</div>"
          },
          "metadata": {}
        }
      ]
    },
    {
      "cell_type": "markdown",
      "source": [
        "Опять результаты не превосходят cosine шедулера без hard_restarts, так что этот шедулер тоже не рассматривается в качестве альтернативы."
      ],
      "metadata": {
        "id": "Wg1pYqjWv-LN"
      }
    },
    {
      "cell_type": "markdown",
      "source": [
        "Таким образом, лучшим оказался cosine scheduler with warmup."
      ],
      "metadata": {
        "id": "jNBQpElsv-LN"
      }
    },
    {
      "cell_type": "markdown",
      "source": [
        "## Сохранение лучшей модели"
      ],
      "metadata": {
        "id": "l6oX3A0dv-LN"
      }
    },
    {
      "cell_type": "code",
      "source": [
        "n_epochs = 9\n",
        "bert = BertClassifier()\n",
        "optimizer = AdamW(bert.parameters(), lr=best_lr)\n",
        "scheduler = get_cosine_schedule_with_warmup(optimizer, num_warmup_steps=0,\n",
        "                                            num_training_steps=len(train_loader) * n_epochs)\n",
        "train(bert, optimizer, n_epochs, train_loader, val_loader, scheduler)\n",
        "acc, loss, f1 = test(bert, test_loader)\n",
        "results = [loss, acc, f1]\n",
        "print(results)"
      ],
      "metadata": {
        "execution": {
          "iopub.status.busy": "2023-12-18T16:19:37.886925Z",
          "iopub.execute_input": "2023-12-18T16:19:37.887707Z",
          "iopub.status.idle": "2023-12-18T16:22:09.821096Z",
          "shell.execute_reply.started": "2023-12-18T16:19:37.887670Z",
          "shell.execute_reply": "2023-12-18T16:22:09.820189Z"
        },
        "trusted": true,
        "id": "nrEsismrv-LO",
        "outputId": "2c1a96c4-8c7b-4730-b879-5c893ff9156e"
      },
      "execution_count": null,
      "outputs": [
        {
          "name": "stderr",
          "text": "Some weights of BertForSequenceClassification were not initialized from the model checkpoint at cointegrated/rubert-tiny and are newly initialized: ['classifier.bias', 'classifier.weight']\nYou should probably TRAIN this model on a down-stream task to be able to use it for predictions and inference.\n/opt/conda/lib/python3.10/site-packages/transformers/optimization.py:429: FutureWarning: This implementation of AdamW is deprecated and will be removed in a future version. Use the PyTorch implementation torch.optim.AdamW instead, or set `no_deprecation_warning=True` to disable this warning\n  warnings.warn(\n100%|██████████| 58/58 [00:15<00:00,  3.63it/s]\n100%|██████████| 20/20 [00:01<00:00, 11.16it/s]\n",
          "output_type": "stream"
        },
        {
          "name": "stdout",
          "text": "Epochs: 1 | Train Loss:  1.573 | Train Acc:  0.479         | Train F1:  0.435 | Val Loss:  0.918         | Val Acc:  0.684 | Val F1:  0.643\n",
          "output_type": "stream"
        },
        {
          "name": "stderr",
          "text": "100%|██████████| 58/58 [00:14<00:00,  3.97it/s]\n100%|██████████| 20/20 [00:01<00:00, 11.17it/s]\n",
          "output_type": "stream"
        },
        {
          "name": "stdout",
          "text": "Epochs: 2 | Train Loss:  0.548 | Train Acc:  0.837         | Train F1:  0.822 | Val Loss:  0.415         | Val Acc:  0.868 | Val F1:  0.850\n",
          "output_type": "stream"
        },
        {
          "name": "stderr",
          "text": "100%|██████████| 58/58 [00:14<00:00,  3.97it/s]\n100%|██████████| 20/20 [00:01<00:00, 11.17it/s]\n",
          "output_type": "stream"
        },
        {
          "name": "stdout",
          "text": "Epochs: 3 | Train Loss:  0.226 | Train Acc:  0.942         | Train F1:  0.936 | Val Loss:  0.304         | Val Acc:  0.903 | Val F1:  0.886\n",
          "output_type": "stream"
        },
        {
          "name": "stderr",
          "text": "100%|██████████| 58/58 [00:14<00:00,  3.97it/s]\n100%|██████████| 20/20 [00:01<00:00, 11.11it/s]\n",
          "output_type": "stream"
        },
        {
          "name": "stdout",
          "text": "Epochs: 4 | Train Loss:  0.088 | Train Acc:  0.984         | Train F1:  0.982 | Val Loss:  0.268         | Val Acc:  0.912 | Val F1:  0.896\n",
          "output_type": "stream"
        },
        {
          "name": "stderr",
          "text": "100%|██████████| 58/58 [00:14<00:00,  3.96it/s]\n100%|██████████| 20/20 [00:01<00:00, 11.17it/s]\n",
          "output_type": "stream"
        },
        {
          "name": "stdout",
          "text": "Epochs: 5 | Train Loss:  0.033 | Train Acc:  0.996         | Train F1:  0.996 | Val Loss:  0.247         | Val Acc:  0.931 | Val F1:  0.921\n",
          "output_type": "stream"
        },
        {
          "name": "stderr",
          "text": "100%|██████████| 58/58 [00:14<00:00,  3.97it/s]\n100%|██████████| 20/20 [00:01<00:00, 11.15it/s]\n",
          "output_type": "stream"
        },
        {
          "name": "stdout",
          "text": "Epochs: 6 | Train Loss:  0.017 | Train Acc:  0.999         | Train F1:  0.999 | Val Loss:  0.275         | Val Acc:  0.924 | Val F1:  0.912\n",
          "output_type": "stream"
        },
        {
          "name": "stderr",
          "text": "100%|██████████| 58/58 [00:14<00:00,  3.97it/s]\n100%|██████████| 20/20 [00:01<00:00, 11.15it/s]\n",
          "output_type": "stream"
        },
        {
          "name": "stdout",
          "text": "Epochs: 7 | Train Loss:  0.009 | Train Acc:  1.000         | Train F1:  1.000 | Val Loss:  0.279         | Val Acc:  0.924 | Val F1:  0.912\n",
          "output_type": "stream"
        },
        {
          "name": "stderr",
          "text": "100%|██████████| 58/58 [00:14<00:00,  3.97it/s]\n100%|██████████| 20/20 [00:01<00:00, 11.15it/s]\n",
          "output_type": "stream"
        },
        {
          "name": "stdout",
          "text": "Epochs: 8 | Train Loss:  0.006 | Train Acc:  1.000         | Train F1:  1.000 | Val Loss:  0.289         | Val Acc:  0.923 | Val F1:  0.911\n",
          "output_type": "stream"
        },
        {
          "name": "stderr",
          "text": "100%|██████████| 58/58 [00:14<00:00,  3.97it/s]\n100%|██████████| 20/20 [00:01<00:00, 11.15it/s]\n",
          "output_type": "stream"
        },
        {
          "name": "stdout",
          "text": "Epochs: 9 | Train Loss:  0.005 | Train Acc:  1.000         | Train F1:  1.000 | Val Loss:  0.292         | Val Acc:  0.923 | Val F1:  0.911\n",
          "output_type": "stream"
        },
        {
          "name": "stderr",
          "text": "100%|██████████| 26/26 [00:02<00:00, 10.89it/s]",
          "output_type": "stream"
        },
        {
          "name": "stdout",
          "text": "[0.23412457910867837, 0.9302163461538462, 0.9262305993356326]\n",
          "output_type": "stream"
        },
        {
          "name": "stderr",
          "text": "\n",
          "output_type": "stream"
        }
      ]
    },
    {
      "cell_type": "code",
      "source": [
        "torch.save(bert.state_dict(), \"bert.pth\")"
      ],
      "metadata": {
        "execution": {
          "iopub.status.busy": "2023-12-18T16:22:37.469191Z",
          "iopub.execute_input": "2023-12-18T16:22:37.469870Z",
          "iopub.status.idle": "2023-12-18T16:22:37.567847Z",
          "shell.execute_reply.started": "2023-12-18T16:22:37.469837Z",
          "shell.execute_reply": "2023-12-18T16:22:37.567052Z"
        },
        "trusted": true,
        "id": "J0CXFpamv-LO"
      },
      "execution_count": null,
      "outputs": []
    },
    {
      "cell_type": "markdown",
      "source": [
        "# Выводы\n",
        "\n",
        "В ходе работы были предложены два принципиально разных подхода к решению кейса.\n",
        "\n",
        "1) С помощью классического ML. В этой части была проведена токенизация, полученные токены были лемматизированы и преобразованы в\n",
        "векторы с помощью обученной модели Word2Vec. Далее была решена проблема несбалансированности классов с помощью SMOTE, который\n",
        "создаёт новые объекты данных в непосредственной близости от уже существующих в наименьшем классе. После этого был построен ансамбль,\n",
        "состоящий из алгоритма RandomForest, линейного классификатора и двух алгоритмов бустинга: lightGBM и XGB. Для каждой модели были\n",
        "подобраны гиперпараметры с помощью GridSearchCV. f1-мера на тестовой выборке составила 0.8423.\n",
        "\n",
        "2) С помощью DL. Был произведён fine-tuning предобученного на текстах на русском языке также на задачу классификации трансформера BERT.\n",
        "В рамках этой части были написаны кастомные датасет, класс для классификации BertClassifier, функции обучения и тестирования нейронной\n",
        "сети. Был подобран learning_rate для используемого оптимизатора AdamW и также был выбран шедулер.\n",
        "f1-мера на тестовой выборке составила 0.93. Лучшая модель была сохранена с помощью torch.save.\n"
      ],
      "metadata": {
        "id": "1IrFwaX2v-LO"
      }
    }
  ]
}